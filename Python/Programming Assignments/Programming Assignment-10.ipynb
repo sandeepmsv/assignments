{
 "cells": [
  {
   "cell_type": "markdown",
   "id": "cae6a961",
   "metadata": {},
   "source": [
    "## 1. Write a Python program to find sum of elements in list?"
   ]
  },
  {
   "cell_type": "code",
   "execution_count": 2,
   "id": "6246bf6e",
   "metadata": {},
   "outputs": [
    {
     "name": "stdout",
     "output_type": "stream",
     "text": [
      "Enter the elements in list with single space1 2 3 4 5 6 7\n",
      "Sum of elements in list 28\n"
     ]
    }
   ],
   "source": [
    "def sum_of_list(arr):\n",
    "    sum1 = 0\n",
    "    for i in arr:\n",
    "        sum1+=i\n",
    "    return sum1\n",
    "arr = list(map(int,input(\"Enter the elements in list with single space\").split()))\n",
    "print(\"Sum of elements in list\",sum_of_list(arr))"
   ]
  },
  {
   "cell_type": "markdown",
   "id": "ae56c21d",
   "metadata": {},
   "source": [
    "## 2. Write a Python program to Multiply all numbers in the list?"
   ]
  },
  {
   "cell_type": "code",
   "execution_count": 3,
   "id": "9adfc7be",
   "metadata": {},
   "outputs": [
    {
     "name": "stdout",
     "output_type": "stream",
     "text": [
      "Enter the elements in list with single space1 2 3 4 5 6 7\n",
      "Product of elements in list 5040\n"
     ]
    }
   ],
   "source": [
    "def multiply_of_list(arr):\n",
    "    prod=1\n",
    "    for i in arr:\n",
    "        prod*=i\n",
    "    return prod\n",
    "arr = list(map(int,input(\"Enter the elements in list with single space\").split()))\n",
    "print(\"Product of elements in list\",multiply_of_list(arr))"
   ]
  },
  {
   "cell_type": "markdown",
   "id": "6d6147e3",
   "metadata": {},
   "source": [
    "## 3. Write a Python program to find smallest number in a list?"
   ]
  },
  {
   "cell_type": "code",
   "execution_count": 5,
   "id": "96f4ac84",
   "metadata": {},
   "outputs": [
    {
     "name": "stdout",
     "output_type": "stream",
     "text": [
      "Enter the elements in list with single space1 2 3 4 5 6\n",
      "Smallest element in a list: 1\n"
     ]
    }
   ],
   "source": [
    "import sys\n",
    "def smallest_element(arr):\n",
    "    mini = sys.maxsize\n",
    "    for i in arr:\n",
    "        if i<mini:\n",
    "            mini = i\n",
    "    return mini\n",
    "arr = list(map(int,input(\"Enter the elements in list with single space\").split()))\n",
    "print(\"Smallest element in a list:\",smallest_element(arr))\n",
    "    "
   ]
  },
  {
   "cell_type": "markdown",
   "id": "cdacf92f",
   "metadata": {},
   "source": [
    "## 4. Write a Python program to find largest number in a list?"
   ]
  },
  {
   "cell_type": "code",
   "execution_count": 6,
   "id": "319496ab",
   "metadata": {},
   "outputs": [
    {
     "name": "stdout",
     "output_type": "stream",
     "text": [
      "Enter the elements in list with single space1 2 3 4 5 55\n",
      "Largest element in a list: 55\n"
     ]
    }
   ],
   "source": [
    "import sys\n",
    "def largest_element(arr):\n",
    "    maxi = -sys.maxsize-1\n",
    "    for i in arr:\n",
    "        if i>maxi:\n",
    "            maxi = i\n",
    "    return maxi\n",
    "arr = list(map(int,input(\"Enter the elements in list with single space\").split()))\n",
    "print(\"Largest element in a list:\",largest_element(arr))"
   ]
  },
  {
   "cell_type": "markdown",
   "id": "f226b2a6",
   "metadata": {},
   "source": [
    "## 5. Write a Python program to find second largest number in a list?"
   ]
  },
  {
   "cell_type": "code",
   "execution_count": 8,
   "id": "e0da2a6e",
   "metadata": {},
   "outputs": [
    {
     "name": "stdout",
     "output_type": "stream",
     "text": [
      "Enter the elements in list with single space1 2 3 4 5 6\n",
      "Second largest element: 5\n"
     ]
    }
   ],
   "source": [
    "def second_largest(arr):\n",
    "    arr.sort()\n",
    "    return arr[-2]\n",
    "arr = list(map(int,input(\"Enter the elements in list with single space\").split()))\n",
    "print(\"Second largest element:\",second_largest(arr))"
   ]
  },
  {
   "cell_type": "markdown",
   "id": "7ec14da5",
   "metadata": {},
   "source": [
    "## 6. Write a Python program to find N largest elements from a list?"
   ]
  },
  {
   "cell_type": "code",
   "execution_count": 14,
   "id": "03264558",
   "metadata": {},
   "outputs": [
    {
     "name": "stdout",
     "output_type": "stream",
     "text": [
      "Enter the elements in list with single space1 2 3 4 5 6\n",
      "Enter value n 3\n",
      "nth largest element is [6, 5, 4]\n"
     ]
    }
   ],
   "source": [
    "def nth_largest(arr,n):\n",
    "    arr.sort()\n",
    "    return arr[-1:(-1*n)-1:-1]\n",
    "arr = list(map(int,input(\"Enter the elements in list with single space\").split()))\n",
    "n = int(input(\"Enter value n \"))\n",
    "print(\"nth largest element is\",nth_largest(arr,n))\n"
   ]
  },
  {
   "cell_type": "markdown",
   "id": "8c4c6291",
   "metadata": {},
   "source": [
    "## 7. Write a Python program to print even numbers in a list?"
   ]
  },
  {
   "cell_type": "code",
   "execution_count": 15,
   "id": "be37253e",
   "metadata": {},
   "outputs": [
    {
     "name": "stdout",
     "output_type": "stream",
     "text": [
      "Enter the elements in list with single space1 34 32 45 46 84 36\n",
      "Even numbers in a list [34, 32, 46, 84, 36]\n"
     ]
    }
   ],
   "source": [
    "def even_no_list(arr):\n",
    "    even = []\n",
    "    for i in arr:\n",
    "        if i%2==0:\n",
    "            even.append(i)\n",
    "    return even\n",
    "\n",
    "arr = list(map(int,input(\"Enter the elements in list with single space\").split()))\n",
    "print(\"Even numbers in a list\",even_no_list(arr))\n",
    "\n",
    "    \n"
   ]
  },
  {
   "cell_type": "markdown",
   "id": "92042414",
   "metadata": {},
   "source": [
    "## 8. Write a Python program to print odd numbers in a List?"
   ]
  },
  {
   "cell_type": "code",
   "execution_count": 16,
   "id": "1c1f86f8",
   "metadata": {},
   "outputs": [
    {
     "name": "stdout",
     "output_type": "stream",
     "text": [
      "Enter the elements in list with single space1 34 32 45 46 84 36\n",
      "Odd numbers in a list [1, 45]\n"
     ]
    }
   ],
   "source": [
    "def odd_no_list(arr):\n",
    "    odd = []\n",
    "    for i in arr:\n",
    "        if i%2 ==1:\n",
    "            odd.append(i)\n",
    "    return odd\n",
    "arr = list(map(int,input(\"Enter the elements in list with single space\").split()))\n",
    "print(\"Odd numbers in a list\",odd_no_list(arr))"
   ]
  },
  {
   "cell_type": "markdown",
   "id": "739fedfb",
   "metadata": {},
   "source": [
    "## 9. Write a Python program to Remove empty List from List?"
   ]
  },
  {
   "cell_type": "code",
   "execution_count": 21,
   "id": "4da87b1e",
   "metadata": {},
   "outputs": [
    {
     "name": "stdout",
     "output_type": "stream",
     "text": [
      "Enter the elements in list with single space1 2 34 45 [] 67 [] 97 [] 87 [] 990 [] [] [] [] [] [] [] [] [] 45\n",
      "Removed empty list from list [1, 2, 34, 45, 67, 97, 87, 990, 45]\n"
     ]
    }
   ],
   "source": [
    "def empty_list_remove(arr):\n",
    "    l = []\n",
    "    for i in arr:\n",
    "        if i:\n",
    "            l.append(i)\n",
    "    return l\n",
    "arr = (input(\"Enter the elements in list with single space\").split())\n",
    "for i in range(len(arr)):\n",
    "    if arr[i] != '[]':\n",
    "        arr[i] = int(arr[i])\n",
    "    else:\n",
    "        arr[i] = []\n",
    "print(\"Removed empty list from list\",empty_list_remove(arr))"
   ]
  },
  {
   "cell_type": "markdown",
   "id": "01939baa",
   "metadata": {},
   "source": [
    "## 10. Write a Python program to Cloning or Copying a list?"
   ]
  },
  {
   "cell_type": "code",
   "execution_count": 23,
   "id": "ae457d1b",
   "metadata": {},
   "outputs": [
    {
     "name": "stdout",
     "output_type": "stream",
     "text": [
      "Enter list elements[1,2,3,4,5]\n",
      "[1, 2, 3, 4, 5] 2628349667328\n",
      "[1, 2, 3, 4, 5] 2628348866240\n"
     ]
    }
   ],
   "source": [
    "def cloning(arr):\n",
    "    x = arr.copy()\n",
    "    print(arr,id(arr))\n",
    "    print(x,id(x))\n",
    "l = eval(input(\"Enter list elements\"))\n",
    "cloning(l)"
   ]
  },
  {
   "cell_type": "markdown",
   "id": "e9885ece",
   "metadata": {},
   "source": [
    "## 11. Write a Python program to Count occurrences of an element in a list?"
   ]
  },
  {
   "cell_type": "code",
   "execution_count": 24,
   "id": "12b9eb17",
   "metadata": {},
   "outputs": [
    {
     "name": "stdout",
     "output_type": "stream",
     "text": [
      "Enter the elements in list with single space1 2 3 4 5 5 5 6 6 6 6 7 7 7 8 8 8 9 9 9 2 2 \n",
      "Enter the number for count of occurences in a list7\n",
      "7 has 3 occurences in [1, 2, 3, 4, 5, 5, 5, 6, 6, 6, 6, 7, 7, 7, 8, 8, 8, 9, 9, 9, 2, 2]\n"
     ]
    }
   ],
   "source": [
    "def count_occurences(arr,n):\n",
    "    cnt = 0\n",
    "    for i in arr:\n",
    "        if i==n:\n",
    "            cnt+=1\n",
    "    return cnt\n",
    "    \n",
    "arr = list(map(int,input(\"Enter the elements in list with single space\").split()))\n",
    "n = int(input(\"Enter the number for count of occurences in a list\"))\n",
    "print(\"{} has {} occurences in {}\".format(n,count_occurences(arr,n),arr))\n"
   ]
  },
  {
   "cell_type": "code",
   "execution_count": null,
   "id": "c3372cbe",
   "metadata": {},
   "outputs": [],
   "source": []
  }
 ],
 "metadata": {
  "kernelspec": {
   "display_name": "Python 3 (ipykernel)",
   "language": "python",
   "name": "python3"
  },
  "language_info": {
   "codemirror_mode": {
    "name": "ipython",
    "version": 3
   },
   "file_extension": ".py",
   "mimetype": "text/x-python",
   "name": "python",
   "nbconvert_exporter": "python",
   "pygments_lexer": "ipython3",
   "version": "3.9.12"
  }
 },
 "nbformat": 4,
 "nbformat_minor": 5
}
