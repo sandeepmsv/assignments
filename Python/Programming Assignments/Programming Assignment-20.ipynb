{
 "cells": [
  {
   "cell_type": "markdown",
   "id": "fede29e5",
   "metadata": {},
   "source": [
    "## 1. Create a function that takes a list of strings and integers, and filters out the list so that it returns a list of integers only.\n",
    "Examples\n",
    "\n",
    "filter_list([1, 2, 3, \"a\", \"b\", 4]) ➞ [1, 2, 3, 4]\n",
    "\n",
    "filter_list([\"A\", 0, \"Edabit\", 1729, \"Python\", \"1729\"]) ➞ [0, 1729]\n",
    "\n",
    "filter_list([\"Nothing\", \"here\"]) ➞ []\n"
   ]
  },
  {
   "cell_type": "code",
   "execution_count": 2,
   "id": "1d8a474b",
   "metadata": {},
   "outputs": [
    {
     "name": "stdout",
     "output_type": "stream",
     "text": [
      "Enter list[1, 2, 3, \"a\", \"b\", 4]\n",
      "filter_list([1, 2, 3, 'a', 'b', 4]):[1, 2, 3, 4]\n"
     ]
    }
   ],
   "source": [
    "def filter_list():\n",
    "    l = eval(input(\"Enter list\"))\n",
    "    ans = []\n",
    "    for i in range(len(l)):\n",
    "        if type(l[i])==int:\n",
    "            ans.append(l[i])\n",
    "    print(f\"filter_list({l}):{ans}\")\n",
    "filter_list()\n",
    "    "
   ]
  },
  {
   "cell_type": "code",
   "execution_count": 3,
   "id": "f91f35b4",
   "metadata": {},
   "outputs": [
    {
     "name": "stdout",
     "output_type": "stream",
     "text": [
      "Enter list[\"A\", 0, \"Edabit\", 1729, \"Python\", \"1729\"]\n",
      "filter_list(['A', 0, 'Edabit', 1729, 'Python', '1729']):[0, 1729]\n",
      "Enter list[\"Nothing\", \"here\"]\n",
      "filter_list(['Nothing', 'here']):[]\n"
     ]
    }
   ],
   "source": [
    "filter_list()\n",
    "filter_list()"
   ]
  },
  {
   "cell_type": "markdown",
   "id": "830cd946",
   "metadata": {},
   "source": [
    "## 2. Given a list of numbers, create a function which returns the list but with each element's index in the list added to itself. This means you add 0 to the number at index 0, add 1 to the number at index 1, etc...\n",
    "\n",
    "Examples\n",
    "\n",
    "add_indexes([0, 0, 0, 0, 0]) ➞ [0, 1, 2, 3, 4]\n",
    "\n",
    "add_indexes([1, 2, 3, 4, 5]) ➞ [1, 3, 5, 7, 9]\n",
    "\n",
    "add_indexes([5, 4, 3, 2, 1]) ➞ [5, 5, 5, 5, 5]\n",
    "\n"
   ]
  },
  {
   "cell_type": "code",
   "execution_count": 5,
   "id": "1ad221ef",
   "metadata": {},
   "outputs": [
    {
     "name": "stdout",
     "output_type": "stream",
     "text": [
      "Enter list elements with spaces0 0 0 0 0 \n",
      "add_indexes([0, 0, 0, 0, 0]):[0, 1, 2, 3, 4]\n"
     ]
    }
   ],
   "source": [
    "def add_indexes():\n",
    "    l = list(map(int,input(\"Enter list elements with spaces\").split()))\n",
    "    ans = []\n",
    "    for i in range(len(l)):\n",
    "        ans.append((l[i]+i))\n",
    "    print(f\"add_indexes({l}):{ans}\")\n",
    "add_indexes()        "
   ]
  },
  {
   "cell_type": "code",
   "execution_count": 6,
   "id": "257fae5a",
   "metadata": {},
   "outputs": [
    {
     "name": "stdout",
     "output_type": "stream",
     "text": [
      "Enter list elements with spaces1 2 3 4 5\n",
      "add_indexes([1, 2, 3, 4, 5]):[1, 3, 5, 7, 9]\n",
      "Enter list elements with spaces5 4 3 2 1\n",
      "add_indexes([5, 4, 3, 2, 1]):[5, 5, 5, 5, 5]\n"
     ]
    }
   ],
   "source": [
    "add_indexes()\n",
    "add_indexes()"
   ]
  },
  {
   "attachments": {
    "sss.gif": {
     "image/gif": "[encoded data removed]"
    }
   },
   "cell_type": "markdown",
   "id": "56d74c89",
   "metadata": {},
   "source": [
    "## 3. Create a function that takes the height and radius of a cone as arguments and returns the volume of the cone rounded to the nearest hundredth. See the resources tab for the formula.\n",
    "![sss.gif](attachment:sss.gif)\n",
    "\n",
    "Examples\n",
    "\n",
    "cone_volume(3, 2) ➞ 12.57\n",
    "\n",
    "cone_volume(15, 6) ➞ 565.49\n",
    "\n",
    "cone_volume(18, 0) ➞ 0\n"
   ]
  },
  {
   "cell_type": "code",
   "execution_count": 13,
   "id": "610ff573",
   "metadata": {},
   "outputs": [
    {
     "name": "stdout",
     "output_type": "stream",
     "text": [
      "Enter height of the cone:3\n",
      "Enter radius of the cone:2\n",
      "cone_volume(3,2):12.57\n"
     ]
    }
   ],
   "source": [
    "import math\n",
    "def cone_volume():\n",
    "    h = eval(input(\"Enter height of the cone:\"))\n",
    "    r = eval(input(\"Enter radius of the cone:\"))\n",
    "    volume = 1/3*((math.pi)*(r**2)*h)\n",
    "    print(f\"cone_volume({h},{r}):{volume:.2f}\")\n",
    "cone_volume()"
   ]
  },
  {
   "cell_type": "code",
   "execution_count": 14,
   "id": "69ee51f1",
   "metadata": {},
   "outputs": [
    {
     "name": "stdout",
     "output_type": "stream",
     "text": [
      "Enter height of the cone:15\n",
      "Enter radius of the cone:6\n",
      "cone_volume(15,6):565.49\n",
      "Enter height of the cone:18\n",
      "Enter radius of the cone:0\n",
      "cone_volume(18,0):0.00\n"
     ]
    }
   ],
   "source": [
    "cone_volume()\n",
    "cone_volume()"
   ]
  },
  {
   "cell_type": "markdown",
   "id": "6a5a6f3f",
   "metadata": {},
   "source": [
    "## 4. This Triangular Number Sequence is generated from a pattern of dots that form a triangle. The first 5 numbers of the sequence, or dots, are: \n",
    "\n",
    "1, 3, 6, 10, 15\n",
    "\n",
    "This means that the first triangle has just one dot, the second one has three dots, the third one has 6 dots and so on.\n",
    "Write a function that gives the number of dots with its corresponding triangle number of the sequence.\n",
    "\n",
    "Examples\n",
    "\n",
    "triangle(1) ➞ 1\n",
    "\n",
    "triangle(6) ➞ 21\n",
    "\n",
    "triangle(215) ➞ 23220\n"
   ]
  },
  {
   "cell_type": "code",
   "execution_count": 3,
   "id": "55133b32",
   "metadata": {},
   "outputs": [
    {
     "name": "stdout",
     "output_type": "stream",
     "text": [
      "Enter number:1\n",
      "Triangle(n):1\n"
     ]
    }
   ],
   "source": [
    "def triangle():\n",
    "    n = int(input(\"Enter number:\"))\n",
    "    ans = int((n)*((n+1)/2))\n",
    "    print(f\"Triangle(n):{ans}\")\n",
    "triangle()"
   ]
  },
  {
   "cell_type": "code",
   "execution_count": 5,
   "id": "40daed54",
   "metadata": {},
   "outputs": [
    {
     "name": "stdout",
     "output_type": "stream",
     "text": [
      "Enter number:6\n",
      "Triangle(n):21\n",
      "Enter number:215\n",
      "Triangle(n):23220\n"
     ]
    }
   ],
   "source": [
    "triangle()\n",
    "triangle()"
   ]
  },
  {
   "cell_type": "markdown",
   "id": "ba181402",
   "metadata": {},
   "source": [
    "## 5. Create a function that takes a list of numbers between 1 and 10 (excluding one number) and returns the missing number.\n",
    "\n",
    "Examples\n",
    "\n",
    "missing_num([1, 2, 3, 4, 6, 7, 8, 9, 10]) ➞ 5\n",
    "\n",
    "missing_num([7, 2, 3, 6, 5, 9, 1, 4, 8]) ➞ 10\n",
    "\n",
    "missing_num([10, 5, 1, 2, 4, 6, 8, 3, 9]) ➞ 7\n"
   ]
  },
  {
   "cell_type": "code",
   "execution_count": 1,
   "id": "8ab4d9d2",
   "metadata": {},
   "outputs": [
    {
     "name": "stdout",
     "output_type": "stream",
     "text": [
      "Enter list elements with spaces:1 2 3 4 6 7 8 9 10\n",
      "missing_num([1, 2, 3, 4, 6, 7, 8, 9, 10]):5\n"
     ]
    }
   ],
   "source": [
    "def missing_number():\n",
    "    arr = list(map(int,input(\"Enter list elements with spaces:\").split()))\n",
    "    x1,x2= arr[0],1 \n",
    "    for i in range(1,len(arr)):\n",
    "        x1 ^= arr[i]\n",
    "    for i in range(2,len(arr)+2):\n",
    "        x2 ^= i\n",
    "    missing_number = x1^x2\n",
    "    print(f\"missing_num({arr}):{missing_number}\")\n",
    "missing_number()"
   ]
  },
  {
   "cell_type": "code",
   "execution_count": 2,
   "id": "8136aca4",
   "metadata": {},
   "outputs": [
    {
     "name": "stdout",
     "output_type": "stream",
     "text": [
      "Enter list elements with spaces:7 2 3 6 5 9 1 4 8\n",
      "missing_num([7, 2, 3, 6, 5, 9, 1, 4, 8]):10\n",
      "Enter list elements with spaces:10 5 1 2 4 6 8 3 9\n",
      "missing_num([10, 5, 1, 2, 4, 6, 8, 3, 9]):7\n"
     ]
    }
   ],
   "source": [
    "missing_number()\n",
    "missing_number()"
   ]
  },
  {
   "cell_type": "code",
   "execution_count": null,
   "id": "7ff99c17",
   "metadata": {},
   "outputs": [],
   "source": []
  }
 ],
 "metadata": {
  "kernelspec": {
   "display_name": "Python 3 (ipykernel)",
   "language": "python",
   "name": "python3"
  },
  "language_info": {
   "codemirror_mode": {
    "name": "ipython",
    "version": 3
   },
   "file_extension": ".py",
   "mimetype": "text/x-python",
   "name": "python",
   "nbconvert_exporter": "python",
   "pygments_lexer": "ipython3",
   "version": "3.9.13"
  }
 },
 "nbformat": 4,
 "nbformat_minor": 5
}
