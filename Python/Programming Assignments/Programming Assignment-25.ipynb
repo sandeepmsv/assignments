{
 "cells": [
  {
   "cell_type": "markdown",
   "id": "d4a90365",
   "metadata": {},
   "source": [
    "## 1. Create a function that takes three integer arguments (a, b, c) and returns the amount of integers which are of equal value.\n",
    "\n",
    "Examples\n",
    "\n",
    "equal(3, 4, 3) ➞ 2\n",
    "\n",
    "equal(1, 1, 1) ➞ 3\n",
    "\n",
    "equal(3, 4, 1) ➞ 0\n",
    "\n",
    "Notes\n",
    "\n",
    "Your function must return 0, 2 or 3.\n"
   ]
  },
  {
   "cell_type": "code",
   "execution_count": 1,
   "id": "eadacf74",
   "metadata": {},
   "outputs": [
    {
     "name": "stdout",
     "output_type": "stream",
     "text": [
      "Enter a:3\n",
      "Enter b:4\n",
      "Enter c:3\n",
      "equal(3,4,3):2\n"
     ]
    }
   ],
   "source": [
    "def equal(a,b,c):\n",
    "    if a==b==c:\n",
    "        print(f\"equal({a},{b},{c}):{3}\")\n",
    "    elif a==b or b==c or c==a:\n",
    "        print(f\"equal({a},{b},{c}):{2}\")\n",
    "    else:\n",
    "        print(f\"equal({a},{b},{c}):{0}\")\n",
    "a= int(input(\"Enter a:\"))\n",
    "b = int(input(\"Enter b:\"))\n",
    "c = int(input(\"Enter c:\"))\n",
    "equal(a,b,c)"
   ]
  },
  {
   "cell_type": "code",
   "execution_count": 2,
   "id": "b6d9ec1e",
   "metadata": {},
   "outputs": [
    {
     "name": "stdout",
     "output_type": "stream",
     "text": [
      "equal(1,1,1):3\n",
      "equal(3,4,1):0\n"
     ]
    }
   ],
   "source": [
    "equal(1, 1, 1)\n",
    "\n",
    "equal(3, 4, 1)"
   ]
  },
  {
   "cell_type": "markdown",
   "id": "7e932a66",
   "metadata": {},
   "source": [
    "## 2.Write a function that converts a dictionary into a list of keys-values tuples.\n",
    "\n",
    "Examples\n",
    "\n",
    "dict_to_list({\n",
    "\n",
    "  \"D\": 1,\n",
    "  \n",
    "  \"B\": 2,\n",
    "  \n",
    "  \"C\": 3\n",
    "  \n",
    "}) ➞ [(\"B\", 2), (\"C\", 3), (\"D\", 1)]\n",
    "\n",
    "\n",
    "dict_to_list({\n",
    "\n",
    "  \"likes\": 2,\n",
    "  \n",
    "  \"dislikes\": 3,\n",
    "  \n",
    "  \"followers\": 10\n",
    "  \n",
    "}) ➞ [(\"dislikes\", 3), (\"followers\", 10), (\"likes\", 2)]\n",
    "\n",
    "Notes\n",
    "\n",
    "Return the elements in the list in alphabetical order.\n"
   ]
  },
  {
   "cell_type": "code",
   "execution_count": 3,
   "id": "0c603bd6",
   "metadata": {},
   "outputs": [
    {
     "name": "stdout",
     "output_type": "stream",
     "text": [
      "dict_to_list({'D': 1, 'B': 2, 'C': 3}):[('B', 2), ('C', 3), ('D', 1)]\n"
     ]
    }
   ],
   "source": [
    "def dict_to_list(mpp):\n",
    "    l = []\n",
    "    for key,value in sorted(mpp.items()):\n",
    "        l.append((key,value))\n",
    "    print(f\"dict_to_list({mpp}):{l}\")\n",
    "dict_to_list({\n",
    "\n",
    "\"D\": 1,\n",
    "\n",
    "\"B\": 2,\n",
    "\n",
    "\"C\": 3\n",
    "\n",
    "})\n",
    "\n",
    "    "
   ]
  },
  {
   "cell_type": "code",
   "execution_count": 4,
   "id": "260920a9",
   "metadata": {},
   "outputs": [
    {
     "name": "stdout",
     "output_type": "stream",
     "text": [
      "dict_to_list({'likes': 2, 'dislikes': 3, 'followers': 10}):[('dislikes', 3), ('followers', 10), ('likes', 2)]\n"
     ]
    }
   ],
   "source": [
    "dict_to_list({\n",
    "\n",
    "\"likes\": 2,\n",
    "\n",
    "\"dislikes\": 3,\n",
    "\n",
    "\"followers\": 10\n",
    "\n",
    "})"
   ]
  },
  {
   "cell_type": "markdown",
   "id": "f9aa071e",
   "metadata": {},
   "source": [
    "## 3.Write a function that creates a dictionary with each (key, value) pair being the (lower case, upper case) versions of a letter, respectively.\n",
    "\n",
    "Examples\n",
    "\n",
    "mapping([\"p\", \"s\"]) ➞ { \"p\": \"P\", \"s\": \"S\" }\n",
    "\n",
    "mapping([\"a\", \"b\", \"c\"]) ➞ { \"a\": \"A\", \"b\": \"B\", \"c\": \"C\" }\n",
    "\n",
    "mapping([\"a\", \"v\", \"y\", \"z\"]) ➞ { \"a\": \"A\", \"v\": \"V\", \"y\": \"Y\", \"z\": \"Z\" }\n",
    "\n",
    "Notes\n",
    "\n",
    "All of the letters in the input list will always be lowercase.\n"
   ]
  },
  {
   "cell_type": "code",
   "execution_count": 6,
   "id": "fa4ed9d1",
   "metadata": {},
   "outputs": [
    {
     "name": "stdout",
     "output_type": "stream",
     "text": [
      "Enter all small letters with spaces:p s\n",
      "mapping(['p', 's']):{'p': 'P', 's': 'S'}\n"
     ]
    }
   ],
   "source": [
    "def mapping(l):\n",
    "    mpp={}\n",
    "    for i in l:\n",
    "        if i not in mpp:\n",
    "            mpp[i] = i.upper()\n",
    "    print(f\"mapping({l}):{mpp}\")\n",
    "l = input(\"Enter all small letters with spaces:\").split()\n",
    "mapping(l)"
   ]
  },
  {
   "cell_type": "code",
   "execution_count": 7,
   "id": "3346601f",
   "metadata": {},
   "outputs": [
    {
     "name": "stdout",
     "output_type": "stream",
     "text": [
      "mapping(['a', 'b', 'c']):{'a': 'A', 'b': 'B', 'c': 'C'}\n",
      "mapping(['a', 'v', 'y', 'z']):{'a': 'A', 'v': 'V', 'y': 'Y', 'z': 'Z'}\n"
     ]
    }
   ],
   "source": [
    "mapping([\"a\", \"b\", \"c\"])\n",
    "mapping([\"a\", \"v\", \"y\", \"z\"])"
   ]
  },
  {
   "cell_type": "markdown",
   "id": "d3ee56af",
   "metadata": {},
   "source": [
    "## 4.Write a function, that replaces all vowels in a string with a specified vowel.\n",
    "\n",
    "Examples\n",
    "\n",
    "vow_replace(\"apples and bananas\", \"u\") ➞ \"upplus und bununus\"\n",
    "\n",
    "vow_replace(\"cheese casserole\", \"o\") ➞ \"chooso cossorolo\"\n",
    "\n",
    "vow_replace(\"stuffed jalapeno poppers\", \"e\") ➞ \"steffed jelepene peppers\"\n",
    "\n",
    "Notes\n",
    "\n",
    "All words will be lowercase. Y is not considered a vowel.\n"
   ]
  },
  {
   "cell_type": "code",
   "execution_count": 8,
   "id": "42bd571e",
   "metadata": {},
   "outputs": [],
   "source": [
    "def vow_replace(s,r):\n",
    "    v = list(s)\n",
    "    vow = ['a','e','i','o','u']\n",
    "    for i in range(len(v)):\n",
    "        if v[i] in vow:\n",
    "            v[i] = r \n",
    "    v = ''.join(v)\n",
    "    print(f\"vow_replace({s},{r}):{v}\")\n",
    "            \n",
    "    "
   ]
  },
  {
   "cell_type": "code",
   "execution_count": 9,
   "id": "808a1395",
   "metadata": {},
   "outputs": [
    {
     "name": "stdout",
     "output_type": "stream",
     "text": [
      "vow_replace(apples and bananas,u):upplus und bununus\n",
      "vow_replace(cheese casserole,o):chooso cossorolo\n",
      "vow_replace(stuffed jalapeno poppers,e):steffed jelepene peppers\n"
     ]
    }
   ],
   "source": [
    "vow_replace(\"apples and bananas\", \"u\")\n",
    "\n",
    "vow_replace(\"cheese casserole\", \"o\")\n",
    "\n",
    "vow_replace(\"stuffed jalapeno poppers\", \"e\")"
   ]
  },
  {
   "cell_type": "markdown",
   "id": "2bf0a8c5",
   "metadata": {},
   "source": [
    "## 5.Create a function that takes a string as input and capitalizes a letter if its ASCII code is even and returns its lower case version if its ASCII code is odd.\n",
    "\n",
    "Examples\n",
    "\n",
    "ascii_capitalize(\"to be or not to be!\") ➞ \"To Be oR NoT To Be!\"\n",
    "\n",
    "ascii_capitalize(\"THE LITTLE MERMAID\") ➞ \"THe LiTTLe meRmaiD\"\n",
    "\n",
    "ascii_capitalize(\"Oh what a beautiful morning.\") ➞ \"oH wHaT a BeauTiFuL moRNiNg.\"\n"
   ]
  },
  {
   "cell_type": "code",
   "execution_count": 12,
   "id": "f12e6d76",
   "metadata": {},
   "outputs": [],
   "source": [
    "def ascii_capitalize(s):\n",
    "    s1=\"\"\n",
    "    for i in s:\n",
    "        if ord(i)%2==0:\n",
    "            s1+=i.upper()\n",
    "        elif ord(i)%2==1:\n",
    "            s1+=i.lower()\n",
    "        else:\n",
    "            s1+=i\n",
    "    print(f\"ascii_captalize({s}):{s1}\")\n"
   ]
  },
  {
   "cell_type": "code",
   "execution_count": 13,
   "id": "7d29a70f",
   "metadata": {},
   "outputs": [
    {
     "name": "stdout",
     "output_type": "stream",
     "text": [
      "ascii_captalize(to be or not to be!):To Be oR NoT To Be!\n",
      "ascii_captalize(THE LITTLE MERMAID):THe LiTTLe meRmaiD\n",
      "ascii_captalize(Oh what a beautiful morning.):oH wHaT a BeauTiFuL moRNiNg.\n"
     ]
    }
   ],
   "source": [
    "ascii_capitalize(\"to be or not to be!\")\n",
    "\n",
    "ascii_capitalize(\"THE LITTLE MERMAID\")\n",
    "\n",
    "ascii_capitalize(\"Oh what a beautiful morning.\")"
   ]
  },
  {
   "cell_type": "code",
   "execution_count": null,
   "id": "11cee177",
   "metadata": {},
   "outputs": [],
   "source": []
  }
 ],
 "metadata": {
  "kernelspec": {
   "display_name": "Python 3 (ipykernel)",
   "language": "python",
   "name": "python3"
  },
  "language_info": {
   "codemirror_mode": {
    "name": "ipython",
    "version": 3
   },
   "file_extension": ".py",
   "mimetype": "text/x-python",
   "name": "python",
   "nbconvert_exporter": "python",
   "pygments_lexer": "ipython3",
   "version": "3.9.13"
  }
 },
 "nbformat": 4,
 "nbformat_minor": 5
}
