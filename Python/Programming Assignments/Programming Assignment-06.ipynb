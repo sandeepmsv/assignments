{
 "cells": [
  {
   "cell_type": "markdown",
   "id": "11431085",
   "metadata": {},
   "source": [
    "## 1. Write a Python Program to Display Fibonacci Sequence Using Recursion?"
   ]
  },
  {
   "cell_type": "code",
   "execution_count": 15,
   "id": "efc131ed",
   "metadata": {},
   "outputs": [
    {
     "name": "stdout",
     "output_type": "stream",
     "text": [
      "enter any number for fibonacci sequence4\n",
      "0 1 1 2 \n"
     ]
    }
   ],
   "source": [
    "def fibonacci(n):\n",
    "    if n==0:\n",
    "        return 0\n",
    "    if n==1:\n",
    "        return 1\n",
    "    return fibonacci(n-2)+fibonacci(n-1)\n",
    "def fibonacci_sequence(num):\n",
    "    for i in range(num):\n",
    "        print(fibonacci(i),end = \" \")\n",
    "    print()\n",
    "num = int(input(\"enter any number for fibonacci sequence\"))\n",
    "fibonacci_sequence(num)\n",
    "    \n",
    "    "
   ]
  },
  {
   "cell_type": "code",
   "execution_count": 16,
   "id": "4f709211",
   "metadata": {},
   "outputs": [
    {
     "name": "stdout",
     "output_type": "stream",
     "text": [
      "0 1 1 2 3 5 8 13 21 34 55 89 144 233 377 610 987 1597 2584 4181 \n"
     ]
    }
   ],
   "source": [
    "fibonacci_sequence(20)"
   ]
  },
  {
   "cell_type": "code",
   "execution_count": 17,
   "id": "0506a72d",
   "metadata": {},
   "outputs": [
    {
     "name": "stdout",
     "output_type": "stream",
     "text": [
      "0 1 1 \n",
      "0 1 1 2 \n",
      "0 1 1 2 3 \n",
      "0 1 1 2 3 5 \n",
      "0 1 1 2 3 5 8 \n",
      "0 1 1 2 3 5 8 13 \n"
     ]
    }
   ],
   "source": [
    "fibonacci_sequence(3)\n",
    "fibonacci_sequence(4)\n",
    "fibonacci_sequence(5)\n",
    "fibonacci_sequence(6)\n",
    "fibonacci_sequence(7)\n",
    "fibonacci_sequence(8)"
   ]
  },
  {
   "cell_type": "markdown",
   "id": "62e2e477",
   "metadata": {},
   "source": [
    "## 2. Write a Python Program to Find Factorial of Number Using Recursion?"
   ]
  },
  {
   "cell_type": "code",
   "execution_count": 18,
   "id": "dcc6f98e",
   "metadata": {},
   "outputs": [
    {
     "name": "stdout",
     "output_type": "stream",
     "text": [
      "Enter any number to find factorial of number2\n"
     ]
    },
    {
     "data": {
      "text/plain": [
       "2"
      ]
     },
     "execution_count": 18,
     "metadata": {},
     "output_type": "execute_result"
    }
   ],
   "source": [
    "def factorial(n):\n",
    "    if n==1:\n",
    "        return 1\n",
    "    if n==0:\n",
    "        return 1\n",
    "    return n*factorial(n-1)\n",
    "num = int(input(\"Enter any number to find factorial of number\"))\n",
    "factorial(num)"
   ]
  },
  {
   "cell_type": "code",
   "execution_count": 19,
   "id": "aff865c8",
   "metadata": {},
   "outputs": [
    {
     "data": {
      "text/plain": [
       "6"
      ]
     },
     "execution_count": 19,
     "metadata": {},
     "output_type": "execute_result"
    }
   ],
   "source": [
    "factorial(3)"
   ]
  },
  {
   "cell_type": "code",
   "execution_count": 21,
   "id": "c20a64db",
   "metadata": {},
   "outputs": [
    {
     "name": "stdout",
     "output_type": "stream",
     "text": [
      "24\n",
      "120\n",
      "720\n",
      "5040\n",
      "362880\n",
      "39916800\n",
      "3628800\n"
     ]
    }
   ],
   "source": [
    "print(factorial(4))\n",
    "print(factorial(5))\n",
    "print(factorial(6))\n",
    "print(factorial(7))\n",
    "print(factorial(9))\n",
    "print(factorial(11))\n",
    "print(factorial(10))"
   ]
  },
  {
   "cell_type": "markdown",
   "id": "0cc425d2",
   "metadata": {},
   "source": [
    "## 3. Write a Python Program to calculate your Body Mass Index?"
   ]
  },
  {
   "cell_type": "code",
   "execution_count": 22,
   "id": "729ad544",
   "metadata": {},
   "outputs": [
    {
     "name": "stdout",
     "output_type": "stream",
     "text": [
      "Enter your Weight(kgs): 34\n",
      "Enter your Height(mts): 1.82\n",
      "10.264460813911363 underweight\n"
     ]
    }
   ],
   "source": [
    "def bmi(weight,height):\n",
    "    bmi = weight/(height**2)\n",
    "    print(bmi,end=' ')\n",
    "    if bmi < 18.5:\n",
    "        print(\"underweight\")\n",
    "    elif bmi >= 18.5 and bmi < 24.9:\n",
    "        print(\"Healthy\")\n",
    "    elif bmi >= 24.9 and bmi < 30:\n",
    "        print(\"Overweight\")\n",
    "    elif bmi >= 30:\n",
    "        print(\"Suffering from Obesity\")\n",
    "weight = eval(input('Enter your Weight(kgs): '))\n",
    "height = eval(input('Enter your Height(mts): '))    \n",
    "bmi(weight,height)\n"
   ]
  },
  {
   "cell_type": "markdown",
   "id": "2a05181b",
   "metadata": {},
   "source": [
    "## 4. Write a Python Program to calculate the natural logarithm of any number?"
   ]
  },
  {
   "cell_type": "code",
   "execution_count": 23,
   "id": "74c856b4",
   "metadata": {},
   "outputs": [
    {
     "name": "stdout",
     "output_type": "stream",
     "text": [
      "Enter any number for caluculation of natural logarithm2\n",
      "0.6931471805599453\n"
     ]
    }
   ],
   "source": [
    "import math\n",
    "def log_e(num):\n",
    "    print(math.log(num))\n",
    "num = eval(input(\"Enter any number for caluculation of natural logarithm\"))\n",
    "log_e(num)\n"
   ]
  },
  {
   "cell_type": "code",
   "execution_count": 24,
   "id": "741d0941",
   "metadata": {},
   "outputs": [
    {
     "name": "stdout",
     "output_type": "stream",
     "text": [
      "2.302585092994046\n",
      "2.995732273553991\n",
      "2.3978952727983707\n",
      "3.6888794541139363\n"
     ]
    }
   ],
   "source": [
    "log_e(10)\n",
    "log_e(20)\n",
    "log_e(11)\n",
    "log_e(40)"
   ]
  },
  {
   "cell_type": "markdown",
   "id": "b5ac7cbe",
   "metadata": {},
   "source": [
    "## 5. Write a Python Program for cube sum of first n natural numbers?"
   ]
  },
  {
   "cell_type": "code",
   "execution_count": 29,
   "id": "98d0991c",
   "metadata": {},
   "outputs": [
    {
     "name": "stdout",
     "output_type": "stream",
     "text": [
      "Enter any number for cube sum of first n natural numbers3\n",
      "36.0\n"
     ]
    }
   ],
   "source": [
    "def cube_sum_nat(n):\n",
    "    ans = ((n*(n+1))/2)**2\n",
    "    print(ans)\n",
    "num = int(input(\"Enter any number for cube sum of first n natural numbers\"))\n",
    "cube_sum_nat(num)"
   ]
  },
  {
   "cell_type": "code",
   "execution_count": 31,
   "id": "dec3226b",
   "metadata": {},
   "outputs": [
    {
     "name": "stdout",
     "output_type": "stream",
     "text": [
      "225.0\n",
      "3025.0\n",
      "1296.0\n",
      "2025.0\n",
      "784.0\n"
     ]
    }
   ],
   "source": [
    "cube_sum_nat(5)\n",
    "cube_sum_nat(10)\n",
    "cube_sum_nat(8)\n",
    "cube_sum_nat(9)\n",
    "cube_sum_nat(7)\n"
   ]
  },
  {
   "cell_type": "code",
   "execution_count": null,
   "id": "8256ef52",
   "metadata": {},
   "outputs": [],
   "source": []
  }
 ],
 "metadata": {
  "kernelspec": {
   "display_name": "Python 3 (ipykernel)",
   "language": "python",
   "name": "python3"
  },
  "language_info": {
   "codemirror_mode": {
    "name": "ipython",
    "version": 3
   },
   "file_extension": ".py",
   "mimetype": "text/x-python",
   "name": "python",
   "nbconvert_exporter": "python",
   "pygments_lexer": "ipython3",
   "version": "3.9.12"
  }
 },
 "nbformat": 4,
 "nbformat_minor": 5
}
