{
 "cells": [
  {
   "cell_type": "markdown",
   "id": "63eefc69",
   "metadata": {},
   "source": [
    "## 1. Create a function that takes an integer and returns a list from 1 to the given number, where:\n",
    "\n",
    "1.\tIf the number can be divided evenly by 4, amplify it by 10 (i.e. return 10 times the number).\n",
    "\n",
    "2.\tIf the number cannot be divided evenly by 4, simply return the number.\n",
    "\n",
    "Examples\n",
    "\n",
    "amplify(4) ➞ [1, 2, 3, 40]\n",
    "\n",
    "amplify(3) ➞ [1, 2, 3]\n",
    "\n",
    "amplify(25) ➞ [1, 2, 3, 40, 5, 6, 7, 80, 9, 10, 11, 120, 13, 14, 15, 160, 17, 18, 19, 200, 21, 22, 23, 240, 25]\n",
    "\n",
    "Notes\n",
    "\n",
    "•\tThe given integer will always be equal to or greater than 1.\n",
    "\n",
    "•\tInclude the number (see example above).\n",
    "\n",
    "•\tTo perform this problem with its intended purpose, try doing it with list comprehensions. If that's too difficult, just solve the challenge any way you can.\n"
   ]
  },
  {
   "cell_type": "code",
   "execution_count": 1,
   "id": "f6ccbbac",
   "metadata": {},
   "outputs": [
    {
     "name": "stdout",
     "output_type": "stream",
     "text": [
      "Enter number to be amplified by 4:4\n",
      "amplify(4):[1, 2, 3, 40]\n"
     ]
    }
   ],
   "source": [
    "def amplify(num):\n",
    "    ans = []\n",
    "    for i in range(1,num+1):\n",
    "        if i%4==0:\n",
    "            ans.append(i*10)\n",
    "        else:\n",
    "            ans.append(i)\n",
    "    print(f\"amplify({num}):{ans}\")\n",
    "num = int(input(\"Enter number to be amplified by 4:\"))\n",
    "amplify(num)"
   ]
  },
  {
   "cell_type": "code",
   "execution_count": 2,
   "id": "7b435f94",
   "metadata": {},
   "outputs": [
    {
     "name": "stdout",
     "output_type": "stream",
     "text": [
      "amplify(3):[1, 2, 3]\n",
      "amplify(25):[1, 2, 3, 40, 5, 6, 7, 80, 9, 10, 11, 120, 13, 14, 15, 160, 17, 18, 19, 200, 21, 22, 23, 240, 25]\n"
     ]
    }
   ],
   "source": [
    "amplify(3)\n",
    "\n",
    "amplify(25)"
   ]
  },
  {
   "cell_type": "markdown",
   "id": "8064baae",
   "metadata": {},
   "source": [
    "## 2.Create a function that takes a list of numbers and return the number that's unique.\n",
    "\n",
    "\n",
    "Examples\n",
    "unique([3, 3, 3, 7, 3, 3]) ➞ 7\n",
    "\n",
    "unique([0, 0, 0.77, 0, 0]) ➞ 0.77\n",
    "\n",
    "unique([0, 1, 1, 1, 1, 1, 1, 1]) ➞ 0\n",
    "\n",
    "Notes\n",
    "\n",
    "Test cases will always have exactly one unique number while all others are the same.\n"
   ]
  },
  {
   "cell_type": "code",
   "execution_count": 6,
   "id": "a0eff319",
   "metadata": {},
   "outputs": [
    {
     "name": "stdout",
     "output_type": "stream",
     "text": [
      "Enter the elements in list with spaces:3 3 3 7 3 3\n",
      "unique([3, 3, 3, 7, 3, 3]):7\n"
     ]
    }
   ],
   "source": [
    "def unique_number(l):\n",
    "    unique_number = l[0]\n",
    "    for i in l:\n",
    "        if l.count(i)==1:\n",
    "            unique_number = i\n",
    "    print(f\"unique({l}):{unique_number}\")\n",
    "num = list(map(int,input(\"Enter the elements in list with spaces:\").split()))\n",
    "unique_number(num)\n",
    "            \n",
    "            \n",
    "  \n",
    "        "
   ]
  },
  {
   "cell_type": "code",
   "execution_count": 8,
   "id": "41ed9c58",
   "metadata": {},
   "outputs": [
    {
     "name": "stdout",
     "output_type": "stream",
     "text": [
      "unique([0, 0, 0.77, 0, 0]):0.77\n",
      "unique([0, 1, 1, 1, 1, 1, 1, 1]):0\n"
     ]
    }
   ],
   "source": [
    "unique_number([0, 0, 0.77, 0, 0])\n",
    "\n",
    "unique_number([0, 1, 1, 1, 1, 1, 1, 1])"
   ]
  },
  {
   "cell_type": "markdown",
   "id": "b1aefaa0",
   "metadata": {},
   "source": [
    "## 3.Your task is to create a Circle constructor that creates a circle with a radius provided by an argument. The circles constructed must have two getters getArea() (PIr^2) and getPerimeter() (2PI*r) which give both respective areas and perimeter (circumference).\n",
    "\n",
    "For help with this class, I have provided you with a Rectangle constructor which you can use as a base example.\n",
    "\n",
    "Examples\n",
    "\n",
    "circy = Circle(11)\n",
    "\n",
    "circy.getArea()\n",
    "\n",
    "\\# Should return 380.132711084365\n",
    "\n",
    "circy = Circle(4.44)\n",
    "\n",
    "circy.getPerimeter()\n",
    "\n",
    "\\# Should return 27.897342763877365\n",
    "\n",
    "Notes\n",
    "\n",
    "Round results up to the nearest integer.\n"
   ]
  },
  {
   "cell_type": "code",
   "execution_count": 14,
   "id": "089e3fc7",
   "metadata": {},
   "outputs": [
    {
     "name": "stdout",
     "output_type": "stream",
     "text": [
      "Enter radius of the circle:11\n",
      "Perimeter of circle: 69\n",
      "Area of circle: 380\n"
     ]
    }
   ],
   "source": [
    "import math\n",
    "class Circle(object):\n",
    "    def __init__(self,r):\n",
    "        self.r = r\n",
    "    def getArea(self):\n",
    "        return (math.pi)*(self.r**2)\n",
    "    def getPerimeter(self):\n",
    "        return 2*(math.pi)*(self.r)\n",
    "r = float(input(\"Enter radius of the circle:\"))\n",
    "circy = Circle(r)\n",
    "print(\"Perimeter of circle:\",round(circy.getPerimeter()))\n",
    "print(\"Area of circle:\",round(circy.getArea()))"
   ]
  },
  {
   "cell_type": "code",
   "execution_count": 15,
   "id": "422f5ae3",
   "metadata": {},
   "outputs": [
    {
     "data": {
      "text/plain": [
       "28"
      ]
     },
     "execution_count": 15,
     "metadata": {},
     "output_type": "execute_result"
    }
   ],
   "source": [
    "circy = Circle(4.44)\n",
    "round(circy.getPerimeter())"
   ]
  },
  {
   "cell_type": "markdown",
   "id": "2bd74b7a",
   "metadata": {},
   "source": [
    "## 4.Create a function that takes a list of strings and return a list, sorted from shortest to longest.\n",
    "\n",
    "Examples\n",
    "\n",
    "sort_by_length([\"Google\", \"Apple\", \"Microsoft\"])\n",
    "\n",
    "➞ [\"Apple\", \"Google\", \"Microsoft\"]\n",
    "\n",
    "sort_by_length([\"Leonardo\", \"Michelangelo\", \"Raphael\", \"Donatello\"])\n",
    "\n",
    "➞ [\"Raphael\", \"Leonardo\", \"Donatello\", \"Michelangelo\"]\n",
    "\n",
    "sort_by_length([\"Turing\", \"Einstein\", \"Jung\"])\n",
    "\n",
    "➞ [\"Jung\", \"Turing\", \"Einstein\"]\n",
    "\n",
    "Notes\n",
    "\n",
    "All test cases contain lists with strings of different lengths, so you won't have to deal with multiple strings of the same length.\n"
   ]
  },
  {
   "cell_type": "code",
   "execution_count": 24,
   "id": "9542634b",
   "metadata": {},
   "outputs": [
    {
     "name": "stdout",
     "output_type": "stream",
     "text": [
      "Enter strings with comma sepearted:Google,Apple,Microsoft\n",
      "sort_by_length(['Google,Apple,Microsoft']):['Google,Apple,Microsoft']\n"
     ]
    }
   ],
   "source": [
    "def sort_by_length(l):\n",
    "    print(f\"sort_by_length({l}):{sorted(l,key=len)}\")\n",
    "l = input(\"Enter strings with comma sepearted:\").split(\"''\")\n",
    "sort_by_length(l)\n",
    "        \n",
    "    "
   ]
  },
  {
   "cell_type": "code",
   "execution_count": 25,
   "id": "344bdff0",
   "metadata": {},
   "outputs": [
    {
     "name": "stdout",
     "output_type": "stream",
     "text": [
      "sort_by_length(['Leonardo', 'Michelangelo', 'Raphael', 'Donatello']):['Raphael', 'Leonardo', 'Donatello', 'Michelangelo']\n",
      "sort_by_length(['Turing', 'Einstein', 'Jung']):['Jung', 'Turing', 'Einstein']\n"
     ]
    }
   ],
   "source": [
    "sort_by_length([\"Leonardo\", \"Michelangelo\", \"Raphael\", \"Donatello\"])\n",
    "sort_by_length([\"Turing\", \"Einstein\", \"Jung\"])\n"
   ]
  },
  {
   "cell_type": "markdown",
   "id": "6fbb04cf",
   "metadata": {},
   "source": [
    "## 5.Create a function that validates whether three given integers form a Pythagorean triplet. The sum of the squares of the two smallest integers must equal the square of the largest number to be validated.\n",
    "\n",
    "\n",
    "Examples\n",
    "\n",
    "is_triplet(3, 4, 5) ➞ True\n",
    "\n",
    "\\# 3² + 4² = 25\n",
    "\n",
    "\\# 5² = 25\n",
    "\n",
    "is_triplet(13, 5, 12) ➞ True\n",
    "\n",
    "\\# 5² + 12² = 169\n",
    "\n",
    "\\# 13² = 169\n",
    "\n",
    "is_triplet(1, 2, 3) ➞ False\n",
    "\n",
    "\\# 1² + 2² = 5\n",
    "\n",
    "\\# 3² = 9\n",
    "\n",
    "Notes\n",
    "\n",
    "Numbers may not be given in a sorted order.\n"
   ]
  },
  {
   "cell_type": "code",
   "execution_count": 30,
   "id": "ec5d9541",
   "metadata": {},
   "outputs": [
    {
     "name": "stdout",
     "output_type": "stream",
     "text": [
      "Enter a:3\n",
      "Enter b:4\n",
      "Enter c:5\n",
      "is_triplet(3,4,5):True\n"
     ]
    }
   ],
   "source": [
    "def is_triplet(a,b,c):\n",
    "    if ((a**2)+(b**2))==(c**2):\n",
    "        print(f\"is_triplet({a},{b},{c}):{True}\")\n",
    "    else:\n",
    "        print(f\"is_triplet({a},{b},{c}):{False}\")\n",
    "a = int(input(\"Enter a:\"))\n",
    "b = int(input(\"Enter b:\"))\n",
    "c = int(input(\"Enter c:\"))\n",
    "is_triplet(int(a),int(b),int(c))"
   ]
  },
  {
   "cell_type": "code",
   "execution_count": null,
   "id": "5d4f8df2",
   "metadata": {},
   "outputs": [],
   "source": []
  }
 ],
 "metadata": {
  "kernelspec": {
   "display_name": "Python 3 (ipykernel)",
   "language": "python",
   "name": "python3"
  },
  "language_info": {
   "codemirror_mode": {
    "name": "ipython",
    "version": 3
   },
   "file_extension": ".py",
   "mimetype": "text/x-python",
   "name": "python",
   "nbconvert_exporter": "python",
   "pygments_lexer": "ipython3",
   "version": "3.9.13"
  }
 },
 "nbformat": 4,
 "nbformat_minor": 5
}
