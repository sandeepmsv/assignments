{
 "cells": [
  {
   "cell_type": "markdown",
   "id": "0ce5a6e4",
   "metadata": {},
   "source": [
    "## 1.Please write a program using generator to print the numbers which can be divisible by 5 and 7 between 0 and n in comma separated form while n is input by console.\n",
    "Example:\n",
    "If the following n is given as input to the program:\n",
    "100\n",
    "\n",
    "Then, the output of the program should be:\n",
    "0,35,70\n"
   ]
  },
  {
   "cell_type": "code",
   "execution_count": 8,
   "id": "6d4b78e7",
   "metadata": {},
   "outputs": [
    {
     "name": "stdout",
     "output_type": "stream",
     "text": [
      "100\n",
      "0,35,70,"
     ]
    }
   ],
   "source": [
    "def divisible_iterator(num):\n",
    "    for i in range(num+1):\n",
    "        if (i%5 == 0) and (i%7 == 0):\n",
    "            yield i \n",
    "num = int(input())\n",
    "for i in divisible_iterator(num):\n",
    "    print(i,end=\",\")\n",
    "    "
   ]
  },
  {
   "cell_type": "markdown",
   "id": "d46a1284",
   "metadata": {},
   "source": [
    "## 2. Please write a program using generator to print the even numbers between 0 and n in comma separated form while n is input by console.\n",
    "Example:\n",
    "If the following n is given as input to the program:\n",
    "10\n",
    "\n",
    "Then, the output of the program should be:\n",
    "0,2,4,6,8,10\n"
   ]
  },
  {
   "cell_type": "code",
   "execution_count": 10,
   "id": "61f72a91",
   "metadata": {},
   "outputs": [
    {
     "name": "stdout",
     "output_type": "stream",
     "text": [
      "10\n",
      "0,2,4,6,8,10,"
     ]
    }
   ],
   "source": [
    "def even_generator(num):\n",
    "    for i in range(num+1):\n",
    "        if i%2==0:\n",
    "            yield i\n",
    "num = int(input())\n",
    "for i in even_generator(num):\n",
    "    print(i,end=\",\")"
   ]
  },
  {
   "cell_type": "markdown",
   "id": "181def58",
   "metadata": {},
   "source": [
    "## 3. The Fibonacci Sequence is computed based on the following formula:\n",
    "\n",
    "f(n)=0 if n=0\n",
    "\n",
    "f(n)=1 if n=1\n",
    "\n",
    "f(n)=f(n-1)+f(n-2) if n>1\n",
    "\n",
    "Please write a program using list comprehension to print the Fibonacci Sequence in comma separated form with a given n input by console.\n",
    "\n",
    "Example:\n",
    "If the following n is given as input to the program:\n",
    "7\n",
    "\n",
    "Then, the output of the program should be:\n",
    "0,1,1,2,3,5,8,13\n"
   ]
  },
  {
   "cell_type": "code",
   "execution_count": 2,
   "id": "42ece596",
   "metadata": {},
   "outputs": [
    {
     "name": "stdout",
     "output_type": "stream",
     "text": [
      "Enter any number to calculate fibonacii numbers:7\n",
      "output: 0 1 1 2 3 5 8 13\n"
     ]
    }
   ],
   "source": [
    "def fib(n):\n",
    "    if n==0:\n",
    "        return 0\n",
    "    if n==1:\n",
    "        return 1\n",
    "    return fib(n-1)+fib(n-2)\n",
    "n = int(input(\"Enter any number to calculate fibonacii numbers:\"))\n",
    "l = [fib(i) for i in range(n+1)]\n",
    "print(\"output:\",*l)"
   ]
  },
  {
   "cell_type": "markdown",
   "id": "113f6a79",
   "metadata": {},
   "source": [
    "## 4. Assuming that we have some email addresses in the \"username@companyname.com\" format, please write program to print the user name of a given email address. Both user names and company names are composed of letters only.\n",
    "\n",
    "Example:\n",
    "If the following email address is given as input to the program:\n",
    "john@google.com\n",
    "\n",
    "Then, the output of the program should be:\n",
    "john\n"
   ]
  },
  {
   "cell_type": "code",
   "execution_count": 6,
   "id": "29407cd1",
   "metadata": {},
   "outputs": [
    {
     "name": "stdout",
     "output_type": "stream",
     "text": [
      "john@google.com\n",
      "Output: john\n"
     ]
    }
   ],
   "source": [
    "email = input()\n",
    "user_name= \"\"\n",
    "for i in email:\n",
    "    if i !='@':\n",
    "        user_name+=i\n",
    "    else:\n",
    "        break\n",
    "print(\"Output:\",user_name)\n",
    "        \n",
    "    "
   ]
  },
  {
   "cell_type": "markdown",
   "id": "251dd649",
   "metadata": {},
   "source": [
    "## 5.Define a class named Shape and its subclass Square. The Square class has an init function which takes a length as argument. Both classes have a area function which can print the area of the shape where Shape's area is 0 by default."
   ]
  },
  {
   "cell_type": "code",
   "execution_count": 9,
   "id": "f43b1ab4",
   "metadata": {},
   "outputs": [
    {
     "name": "stdout",
     "output_type": "stream",
     "text": [
      "100\n"
     ]
    }
   ],
   "source": [
    "class Shape(object):\n",
    "    def __init__(self):\n",
    "        pass\n",
    "\n",
    "    def area(self):\n",
    "        return 0\n",
    "\n",
    "class Square(Shape):\n",
    "    def __init__(self, l):\n",
    "        Shape.__init__(self)\n",
    "        self.length = l\n",
    "\n",
    "    def area(self):\n",
    "        return self.length*self.length\n",
    "\n",
    "aSquare= Square(10)\n",
    "print (aSquare.area())"
   ]
  },
  {
   "cell_type": "code",
   "execution_count": null,
   "id": "79e92d40",
   "metadata": {},
   "outputs": [],
   "source": []
  }
 ],
 "metadata": {
  "kernelspec": {
   "display_name": "Python 3 (ipykernel)",
   "language": "python",
   "name": "python3"
  },
  "language_info": {
   "codemirror_mode": {
    "name": "ipython",
    "version": 3
   },
   "file_extension": ".py",
   "mimetype": "text/x-python",
   "name": "python",
   "nbconvert_exporter": "python",
   "pygments_lexer": "ipython3",
   "version": "3.9.13"
  }
 },
 "nbformat": 4,
 "nbformat_minor": 5
}
