{
 "cells": [
  {
   "cell_type": "markdown",
   "id": "93bfa987",
   "metadata": {},
   "source": [
    "## 1. Write a Python program to find words which are greater than given length k?"
   ]
  },
  {
   "cell_type": "code",
   "execution_count": 1,
   "id": "3535ae7d",
   "metadata": {},
   "outputs": [
    {
     "name": "stdout",
     "output_type": "stream",
     "text": [
      "Enter semtenceMy name is sandeep\n",
      "enter any number to find words greater than k3\n",
      "Words greater than length k ['name', 'sandeep']\n"
     ]
    }
   ],
   "source": [
    "def process(s,k):\n",
    "    s = s.split()\n",
    "    l = []\n",
    "    for i in s:\n",
    "        if len(i)>k:\n",
    "            l.append(i)\n",
    "    return l\n",
    "s = input(\"Enter semtence\")\n",
    "k = int(input(\"enter any number to find words greater than k\"))\n",
    "print(\"Words greater than length k\",process(s,k))\n"
   ]
  },
  {
   "cell_type": "markdown",
   "id": "34fa907b",
   "metadata": {},
   "source": [
    "## 2. Write a Python program for removing i-th character from a string?"
   ]
  },
  {
   "cell_type": "code",
   "execution_count": 3,
   "id": "f4b815d7",
   "metadata": {},
   "outputs": [
    {
     "name": "stdout",
     "output_type": "stream",
     "text": [
      "Enter sentencesandeep\n",
      "enter i to remove i-th character from a string2\n",
      "After removing i-th character from a string sadeep\n"
     ]
    }
   ],
   "source": [
    "def remove_char(s,i):\n",
    "    a = s[:i]\n",
    "    b = s[i+1:]\n",
    "    return a+b\n",
    "s = input(\"Enter sentence\")\n",
    "i = int(input(\"enter i to remove i-th character from a string\"))\n",
    "print(\"After removing i-th character from a string\",remove_char(s,i))"
   ]
  },
  {
   "cell_type": "markdown",
   "id": "1bad6ab5",
   "metadata": {},
   "source": [
    "## 3. Write a Python program to split and join a string?"
   ]
  },
  {
   "cell_type": "code",
   "execution_count": 5,
   "id": "0fc54d70",
   "metadata": {},
   "outputs": [
    {
     "name": "stdout",
     "output_type": "stream",
     "text": [
      "Enter sentenceMy name is sandeep\n",
      "Splitting of a string ['My', 'name', 'is', 'sandeep']\n",
      "Joining of a string My name is sandeep\n",
      "None\n"
     ]
    }
   ],
   "source": [
    "def split_join(s):\n",
    "    print(\"Splitting of a string\",s.split())\n",
    "    print(\"Joining of a string\",\" \".join(s.split()))\n",
    "s = input(\"Enter sentence\")\n",
    "print(split_join(s))"
   ]
  },
  {
   "cell_type": "markdown",
   "id": "6ecd818d",
   "metadata": {},
   "source": [
    "## 4. Write a Python to check if a given string is binary string or not?"
   ]
  },
  {
   "cell_type": "code",
   "execution_count": 7,
   "id": "0ec4b43d",
   "metadata": {},
   "outputs": [
    {
     "name": "stdout",
     "output_type": "stream",
     "text": [
      "Enter sentence000011112222\n",
      "000011112222 is not a binary string\n"
     ]
    }
   ],
   "source": [
    "def isbinary_string(s):\n",
    "    f = 1\n",
    "    for i in s:\n",
    "        if i not in ['0','1']:\n",
    "            f = 0\n",
    "            print(s,\"is not a binary string\")\n",
    "            break\n",
    "    if f:\n",
    "        print(s,\"is a binary string\")\n",
    "s = input(\"Enter sentence\")\n",
    "isbinary_string(s)\n",
    "        \n",
    "            \n",
    "            "
   ]
  },
  {
   "cell_type": "code",
   "execution_count": 8,
   "id": "88741688",
   "metadata": {},
   "outputs": [
    {
     "name": "stdout",
     "output_type": "stream",
     "text": [
      "00000001111111 is a binary string\n",
      "0111 is a binary string\n",
      "sandeep is not a binary string\n"
     ]
    }
   ],
   "source": [
    "isbinary_string(\"00000001111111\")\n",
    "isbinary_string(\"0111\")\n",
    "isbinary_string(\"sandeep\")"
   ]
  },
  {
   "cell_type": "markdown",
   "id": "d4edc875",
   "metadata": {},
   "source": [
    "## 5. Write a Python program to find uncommon words from two Strings?"
   ]
  },
  {
   "cell_type": "code",
   "execution_count": 9,
   "id": "19d89c3f",
   "metadata": {},
   "outputs": [
    {
     "name": "stdout",
     "output_type": "stream",
     "text": [
      "Enter string1my name is sandeep\n",
      "Enter string2my name is ravi\n",
      "Uncommon elements from two strings {'ravi', 'sandeep'}\n"
     ]
    }
   ],
   "source": [
    "def uncommon_words(str1,str2):\n",
    "    s1=str1.split()\n",
    "    s2=str2.split()\n",
    "    uncommon=set(s1).symmetric_difference(set(s2))\n",
    "    return uncommon\n",
    "str1 = input(\"Enter string1\")\n",
    "str2 = input(\"Enter string2\")\n",
    "print(\"Uncommon elements from two strings\",uncommon_words(str1,str2))"
   ]
  },
  {
   "cell_type": "markdown",
   "id": "5d44299d",
   "metadata": {},
   "source": [
    "## 6. Write a Python to find all duplicate characters in string?"
   ]
  },
  {
   "cell_type": "code",
   "execution_count": 10,
   "id": "2d1f9420",
   "metadata": {},
   "outputs": [
    {
     "name": "stdout",
     "output_type": "stream",
     "text": [
      "Enter SentenceMy name is sandeep\n",
      "  n a e s "
     ]
    }
   ],
   "source": [
    "def duplicate_chars(s):\n",
    "    mpp = {}\n",
    "    temp = s.strip()\n",
    "    for i in temp:\n",
    "        if i not in mpp:\n",
    "            mpp[i] = 1\n",
    "        else:\n",
    "            mpp[i]+=1\n",
    "    for key,value in mpp.items():\n",
    "        if value>1:\n",
    "            print(key,end=\" \")\n",
    "s = input(\"Enter Sentence\")\n",
    "duplicate_chars(s)"
   ]
  },
  {
   "cell_type": "markdown",
   "id": "d611b77b",
   "metadata": {},
   "source": [
    "## 7. Write a Python Program to check if a string contains any special character?"
   ]
  },
  {
   "cell_type": "code",
   "execution_count": 17,
   "id": "1ec3fe3f",
   "metadata": {},
   "outputs": [
    {
     "name": "stdout",
     "output_type": "stream",
     "text": [
      "Enter sentence#*&^***&sandeep\n",
      "The string contains special character\n"
     ]
    }
   ],
   "source": [
    "import re\n",
    "def Special_chars(s):\n",
    "    str1 = s.strip()\n",
    "    special_c= re.compile('[@_!#$%^&*()<>?/\\|}{~:]')\n",
    "    if(special_c.search(s) == None):\n",
    "        print(\"The string does not contain special character {}\".format(s))\n",
    "    else:\n",
    "        print(\"The string contains special character\")\n",
    "s = input(\"Enter sentence\")\n",
    "Special_chars(s)"
   ]
  },
  {
   "cell_type": "code",
   "execution_count": null,
   "id": "3935ac3e",
   "metadata": {},
   "outputs": [],
   "source": []
  }
 ],
 "metadata": {
  "kernelspec": {
   "display_name": "Python 3 (ipykernel)",
   "language": "python",
   "name": "python3"
  },
  "language_info": {
   "codemirror_mode": {
    "name": "ipython",
    "version": 3
   },
   "file_extension": ".py",
   "mimetype": "text/x-python",
   "name": "python",
   "nbconvert_exporter": "python",
   "pygments_lexer": "ipython3",
   "version": "3.9.12"
  }
 },
 "nbformat": 4,
 "nbformat_minor": 5
}
