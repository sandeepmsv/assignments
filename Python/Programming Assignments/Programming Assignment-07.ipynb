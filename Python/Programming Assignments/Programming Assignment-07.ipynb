{
 "cells": [
  {
   "cell_type": "markdown",
   "id": "12f213f2",
   "metadata": {},
   "source": [
    "## 1. Write a Python Program to find sum of array?"
   ]
  },
  {
   "cell_type": "code",
   "execution_count": 4,
   "id": "776e719e",
   "metadata": {},
   "outputs": [
    {
     "name": "stdout",
     "output_type": "stream",
     "text": [
      "1 2 3 4 5 6 \n",
      "21\n"
     ]
    }
   ],
   "source": [
    "def sum_array(num):\n",
    "    sum1=0\n",
    "    for i in num:\n",
    "        sum1+=i\n",
    "    return sum1\n",
    "num = input().split()\n",
    "num = list(map(int,num))\n",
    "print(sum_array(num))"
   ]
  },
  {
   "cell_type": "code",
   "execution_count": 5,
   "id": "0537868b",
   "metadata": {},
   "outputs": [
    {
     "name": "stdout",
     "output_type": "stream",
     "text": [
      "167\n",
      "330\n",
      "542\n",
      "222899\n",
      "404\n"
     ]
    }
   ],
   "source": [
    "print(sum_array([1,34,56,76]))\n",
    "print(sum_array([1,34,56,76,95,68]))\n",
    "print(sum_array([1,34,56,76,25,125,225]))\n",
    "print(sum_array([1,34,56,76,11,222222,456,43]))\n",
    "print(sum_array([1,34,56,76,89,79,69]))"
   ]
  },
  {
   "cell_type": "markdown",
   "id": "449ed7ed",
   "metadata": {},
   "source": [
    "## 2. Write a Python Program to find largest element in an array?"
   ]
  },
  {
   "cell_type": "code",
   "execution_count": 1,
   "id": "9ea45731",
   "metadata": {},
   "outputs": [
    {
     "name": "stdout",
     "output_type": "stream",
     "text": [
      "1 2 3 4 5\n",
      "5\n"
     ]
    }
   ],
   "source": [
    "import sys\n",
    "def find_largest(num):\n",
    "    maxi = -sys.maxsize-1\n",
    "    for i in num:\n",
    "        if maxi<i:\n",
    "            maxi = i\n",
    "    return maxi\n",
    "\n",
    "num = input().split()\n",
    "num = list(map(int,num))\n",
    "print(find_largest(num))"
   ]
  },
  {
   "cell_type": "code",
   "execution_count": 2,
   "id": "2cb5ffa6",
   "metadata": {},
   "outputs": [
    {
     "name": "stdout",
     "output_type": "stream",
     "text": [
      "76\n",
      "95\n",
      "225\n",
      "222222\n",
      "89\n"
     ]
    }
   ],
   "source": [
    "print(find_largest([1,34,56,76]))\n",
    "print(find_largest([1,34,56,76,95,68]))\n",
    "print(find_largest([1,34,56,76,25,125,225]))\n",
    "print(find_largest([1,34,56,76,11,222222,456,43]))\n",
    "print(find_largest([1,34,56,76,89,79,69]))"
   ]
  },
  {
   "cell_type": "markdown",
   "id": "f4f9d3fb",
   "metadata": {},
   "source": [
    "## 3. Write a Python Program for array rotation?"
   ]
  },
  {
   "cell_type": "code",
   "execution_count": 5,
   "id": "d2dcd83b",
   "metadata": {},
   "outputs": [
    {
     "name": "stdout",
     "output_type": "stream",
     "text": [
      "1 2 3 4 5\n",
      "enter how many elements to be rotated2\n",
      "Rotated array: [3, 4, 5, 1, 2]\n"
     ]
    }
   ],
   "source": [
    "def Arrayrotation(arr,k):\n",
    "    temp = []\n",
    "    i = 0\n",
    "    while (i < k):\n",
    "        temp.append(arr[i])\n",
    "        i = i + 1\n",
    "    i = 0\n",
    "    while (k< len(arr)):\n",
    "        arr[i] = arr[k]\n",
    "        i = i + 1\n",
    "        k = k + 1\n",
    "    arr[:] = arr[: i] + temp\n",
    "    return arr\n",
    "num = input().split()\n",
    "num = list(map(int,num))\n",
    "k = int(input(\"enter how many elements to be rotated\"))\n",
    "print(\"Rotated array:\",Arrayrotation(num,k))\n",
    "\n"
   ]
  },
  {
   "cell_type": "code",
   "execution_count": 6,
   "id": "d6a4ff95",
   "metadata": {},
   "outputs": [
    {
     "name": "stdout",
     "output_type": "stream",
     "text": [
      "[56, 76, 1, 34]\n",
      "[76, 95, 68, 1, 34, 56]\n",
      "[25, 125, 225, 1, 34, 56, 76]\n",
      "[222222, 456, 43, 1, 34, 56, 76, 11]\n",
      "[34, 56, 76, 89, 79, 69, 1]\n"
     ]
    }
   ],
   "source": [
    "print(Arrayrotation([1,34,56,76],2))\n",
    "print(Arrayrotation([1,34,56,76,95,68],3))\n",
    "print(Arrayrotation([1,34,56,76,25,125,225],4))\n",
    "print(Arrayrotation([1,34,56,76,11,222222,456,43],5))\n",
    "print(Arrayrotation([1,34,56,76,89,79,69],1))"
   ]
  },
  {
   "cell_type": "markdown",
   "id": "a4b3b5ee",
   "metadata": {},
   "source": [
    "## 4. Write a Python Program to Split the array and add the first part to the end?"
   ]
  },
  {
   "cell_type": "code",
   "execution_count": 9,
   "id": "f95b5861",
   "metadata": {},
   "outputs": [
    {
     "name": "stdout",
     "output_type": "stream",
     "text": [
      "1 2 3 4 5\n",
      "Enter the number where is to be splitted:2\n",
      "Array Before Splitting: [1, 2, 3, 4, 5]\n",
      "Array after splitting and adding the first part to end: [3, 4, 5, 1, 2]\n"
     ]
    }
   ],
   "source": [
    "def split_array(arr,k):\n",
    "    print(\"Array Before Splitting:\",arr)\n",
    "    temp = arr[k:]+arr[:k]\n",
    "    print(\"Array after splitting and adding the first part to end:\",temp)\n",
    "num = input().split()\n",
    "num = list(map(int,num))\n",
    "k = int(input(\"Enter the number where is to be splitted:\"))\n",
    "split_array(num,k)\n",
    "    "
   ]
  },
  {
   "cell_type": "code",
   "execution_count": 11,
   "id": "5f3165e8",
   "metadata": {},
   "outputs": [
    {
     "name": "stdout",
     "output_type": "stream",
     "text": [
      "Array Before Splitting: [1, 34, 56, 76]\n",
      "Array after splitting and adding the first part to end: [56, 76, 1, 34]\n",
      "Array Before Splitting: [1, 34, 56, 76, 95, 68]\n",
      "Array after splitting and adding the first part to end: [76, 95, 68, 1, 34, 56]\n",
      "Array Before Splitting: [1, 34, 56, 76, 25, 125, 225]\n",
      "Array after splitting and adding the first part to end: [25, 125, 225, 1, 34, 56, 76]\n",
      "Array Before Splitting: [1, 34, 56, 76, 11, 222222, 456, 43]\n",
      "Array after splitting and adding the first part to end: [222222, 456, 43, 1, 34, 56, 76, 11]\n",
      "Array Before Splitting: [1, 34, 56, 76, 89, 79, 69]\n",
      "Array after splitting and adding the first part to end: [34, 56, 76, 89, 79, 69, 1]\n"
     ]
    }
   ],
   "source": [
    "split_array([1,34,56,76],2)\n",
    "split_array([1,34,56,76,95,68],3)\n",
    "split_array([1,34,56,76,25,125,225],4)\n",
    "split_array([1,34,56,76,11,222222,456,43],5)\n",
    "split_array([1,34,56,76,89,79,69],1)"
   ]
  },
  {
   "cell_type": "markdown",
   "id": "1feb8314",
   "metadata": {},
   "source": [
    "## 5. Write a Python Program to check if given array is Monotonic?"
   ]
  },
  {
   "cell_type": "markdown",
   "id": "0cefced3",
   "metadata": {},
   "source": [
    "**Ans)** <font size=\"3\">monotonic means either the array is in increasing order or in decreasing order. </font>"
   ]
  },
  {
   "cell_type": "code",
   "execution_count": 13,
   "id": "d71fe1c1",
   "metadata": {},
   "outputs": [
    {
     "name": "stdout",
     "output_type": "stream",
     "text": [
      "1 2 3 4 5\n",
      "True\n"
     ]
    }
   ],
   "source": [
    "def isMonotonic(arr):\n",
    "    if len(arr)==1:\n",
    "        return 1\n",
    "    # decreasing sequence\n",
    "    if arr[0]>arr[1]:\n",
    "        for i in range(2,len(arr)):\n",
    "            if arr[i-1]<arr[i]:\n",
    "                return False\n",
    "        return True\n",
    "    # increasing sequence\n",
    "    elif arr[0]<arr[1]:\n",
    "        for i in range(2,len(arr)):\n",
    "            if arr[i-1]>arr[i]:\n",
    "                return False\n",
    "        return True\n",
    "num = input().split()\n",
    "num = list(map(int,num))\n",
    "print(isMonotonic(num))\n",
    "            "
   ]
  },
  {
   "cell_type": "code",
   "execution_count": 17,
   "id": "c8535378",
   "metadata": {},
   "outputs": [
    {
     "name": "stdout",
     "output_type": "stream",
     "text": [
      "True\n",
      "False\n",
      "False\n",
      "False\n",
      "False\n",
      "True\n"
     ]
    }
   ],
   "source": [
    "print(isMonotonic([1,34,56,76]))\n",
    "print(isMonotonic([1,34,56,76,95,68]))\n",
    "print(isMonotonic([1,34,56,76,25,125,225]))\n",
    "print(isMonotonic([1,34,56,76,11,222222,456,43]))\n",
    "print(isMonotonic([1,34,56,76,89,79,69]))\n",
    "print(isMonotonic([99,23,22,2,1,0]))"
   ]
  },
  {
   "cell_type": "code",
   "execution_count": null,
   "id": "ff8b8001",
   "metadata": {},
   "outputs": [],
   "source": []
  },
  {
   "cell_type": "code",
   "execution_count": null,
   "id": "95853d5b",
   "metadata": {},
   "outputs": [],
   "source": []
  },
  {
   "cell_type": "code",
   "execution_count": null,
   "id": "aeb2e508",
   "metadata": {},
   "outputs": [],
   "source": []
  },
  {
   "cell_type": "code",
   "execution_count": null,
   "id": "426761c8",
   "metadata": {},
   "outputs": [],
   "source": []
  },
  {
   "cell_type": "code",
   "execution_count": null,
   "id": "9c1f80ed",
   "metadata": {},
   "outputs": [],
   "source": []
  },
  {
   "cell_type": "code",
   "execution_count": null,
   "id": "9304b7f3",
   "metadata": {},
   "outputs": [],
   "source": []
  },
  {
   "cell_type": "code",
   "execution_count": null,
   "id": "d99620d3",
   "metadata": {},
   "outputs": [],
   "source": []
  },
  {
   "cell_type": "code",
   "execution_count": null,
   "id": "b6050920",
   "metadata": {},
   "outputs": [],
   "source": []
  },
  {
   "cell_type": "code",
   "execution_count": null,
   "id": "be0ecf36",
   "metadata": {},
   "outputs": [],
   "source": []
  },
  {
   "cell_type": "code",
   "execution_count": null,
   "id": "0989abf0",
   "metadata": {},
   "outputs": [],
   "source": []
  },
  {
   "cell_type": "code",
   "execution_count": null,
   "id": "bc7a03e9",
   "metadata": {},
   "outputs": [],
   "source": []
  },
  {
   "cell_type": "code",
   "execution_count": null,
   "id": "b9bdc3a9",
   "metadata": {},
   "outputs": [],
   "source": []
  },
  {
   "cell_type": "code",
   "execution_count": null,
   "id": "b0d04c23",
   "metadata": {},
   "outputs": [],
   "source": []
  },
  {
   "cell_type": "code",
   "execution_count": null,
   "id": "5007c9e1",
   "metadata": {},
   "outputs": [],
   "source": []
  }
 ],
 "metadata": {
  "kernelspec": {
   "display_name": "Python 3 (ipykernel)",
   "language": "python",
   "name": "python3"
  },
  "language_info": {
   "codemirror_mode": {
    "name": "ipython",
    "version": 3
   },
   "file_extension": ".py",
   "mimetype": "text/x-python",
   "name": "python",
   "nbconvert_exporter": "python",
   "pygments_lexer": "ipython3",
   "version": "3.9.12"
  }
 },
 "nbformat": 4,
 "nbformat_minor": 5
}
