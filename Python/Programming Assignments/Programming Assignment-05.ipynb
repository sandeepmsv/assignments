{
 "cells": [
  {
   "cell_type": "markdown",
   "id": "bd310b90",
   "metadata": {},
   "source": [
    "## 1. Write a Python Program to Find LCM?"
   ]
  },
  {
   "cell_type": "code",
   "execution_count": 1,
   "id": "9b7f23bd",
   "metadata": {},
   "outputs": [
    {
     "name": "stdout",
     "output_type": "stream",
     "text": [
      "The LCM of 2,6 is 6\n",
      "The LCM of 3,7 is 21\n",
      "The LCM of 40,70 is 280\n"
     ]
    }
   ],
   "source": [
    "def findlcm(x,y):\n",
    "    if x > y:\n",
    "        g=x\n",
    "    else:\n",
    "        g= x\n",
    "    while 1:\n",
    "        if((g%x == 0) and (g%y== 0)):\n",
    "            lcm = g \n",
    "            break\n",
    "        else:\n",
    "            g+=1\n",
    "    print(f'The LCM of {x},{y} is {lcm}')\n",
    "\n",
    "findlcm(2,6)\n",
    "findlcm(3,7)\n",
    "findlcm(40,70)"
   ]
  },
  {
   "cell_type": "markdown",
   "id": "643d09eb",
   "metadata": {},
   "source": [
    "## 2. Write a Python Program to Find HCF?"
   ]
  },
  {
   "cell_type": "code",
   "execution_count": 2,
   "id": "dbfa6446",
   "metadata": {},
   "outputs": [
    {
     "name": "stdout",
     "output_type": "stream",
     "text": [
      "The HCF of 2,3 is 1\n",
      "The HCF of 9,10 is 1\n",
      "The HCF of 20,40 is 20\n"
     ]
    }
   ],
   "source": [
    "def findhcf(x,y):\n",
    "    if x>y:\n",
    "        s= y\n",
    "    else:\n",
    "        s= x\n",
    "    for i in range(1,s+1):\n",
    "        if((x%i == 0) and (y%i == 0)):\n",
    "            hcf = i\n",
    "    print(f'The HCF of {x},{y} is {hcf}')\n",
    "\n",
    "findhcf(2,3)\n",
    "findhcf(9,10)\n",
    "findhcf(20,40)"
   ]
  },
  {
   "cell_type": "markdown",
   "id": "c00dcf1b",
   "metadata": {},
   "source": [
    "## 3. Write a Python Program to Convert Decimal to Binary, Octal and Hexadecimal?"
   ]
  },
  {
   "cell_type": "code",
   "execution_count": 3,
   "id": "b500ca87",
   "metadata": {},
   "outputs": [
    {
     "name": "stdout",
     "output_type": "stream",
     "text": [
      "Enter a number: 2\n",
      "The decimal value  2\n",
      "0b10 in binary.\n",
      "0o2 in octal.\n",
      "0x2 in hexadecimal.\n"
     ]
    }
   ],
   "source": [
    "def deci_to_other_convertor(num):\n",
    "    print(\"The decimal value \",num)\n",
    "    print(bin(num),'in binary.')\n",
    "    print(oct(num),'in octal.')\n",
    "    print(hex(num),'in hexadecimal.')\n",
    "\n",
    "num = int(input('Enter a number: '))\n",
    "deci_to_other_convertor(num)"
   ]
  },
  {
   "cell_type": "markdown",
   "id": "c309465b",
   "metadata": {},
   "source": [
    "## 4. Write a Python Program To Find ASCII value of a character?"
   ]
  },
  {
   "cell_type": "code",
   "execution_count": 5,
   "id": "6828c4cc",
   "metadata": {},
   "outputs": [
    {
     "name": "stdout",
     "output_type": "stream",
     "text": [
      "enter any character in the keyboard$\n",
      "Ascii value of Character $ is 36\n"
     ]
    }
   ],
   "source": [
    "def charToASCII(c):\n",
    "    if len(c)==1:\n",
    "        print(f'Ascii value of Character {c} is {ord(c)}')\n",
    "c = input(\"enter any character in the keyboard\")\n",
    "charToASCII(c)"
   ]
  },
  {
   "cell_type": "code",
   "execution_count": 6,
   "id": "6561b5ce",
   "metadata": {},
   "outputs": [
    {
     "name": "stdout",
     "output_type": "stream",
     "text": [
      "Ascii value of Character % is 37\n"
     ]
    }
   ],
   "source": [
    "charToASCII(\"%\")"
   ]
  },
  {
   "cell_type": "code",
   "execution_count": 7,
   "id": "89afbbe4",
   "metadata": {},
   "outputs": [
    {
     "name": "stdout",
     "output_type": "stream",
     "text": [
      "Ascii value of Character * is 42\n"
     ]
    }
   ],
   "source": [
    "charToASCII(\"*\")"
   ]
  },
  {
   "cell_type": "code",
   "execution_count": 8,
   "id": "fb0c9fae",
   "metadata": {},
   "outputs": [
    {
     "name": "stdout",
     "output_type": "stream",
     "text": [
      "Ascii value of Character 0 is 48\n"
     ]
    }
   ],
   "source": [
    "charToASCII(\"0\")"
   ]
  },
  {
   "cell_type": "markdown",
   "id": "bcee5383",
   "metadata": {},
   "source": [
    "## 5. Write a Python Program to Make a Simple Calculator with 4 basic mathematical operations?"
   ]
  },
  {
   "cell_type": "code",
   "execution_count": 9,
   "id": "02731080",
   "metadata": {},
   "outputs": [
    {
     "name": "stdout",
     "output_type": "stream",
     "text": [
      "Select choice:\n",
      "1.Addition \n",
      "2.Division \n",
      "3.Subtraction \n",
      "4.Multiplication \n",
      "5.stop\n",
      "\n",
      "1\n",
      "Performing Addition\n",
      "2 3 4 5 65 6 78\n",
      "Addition: 163\n",
      "Select choice:\n",
      "1.Addition \n",
      "2.Division \n",
      "3.Subtraction \n",
      "4.Multiplication \n",
      "5.stop\n",
      "\n",
      "2\n",
      "Performing Division\n",
      "enter dividend:\n",
      "34\n",
      "enter divisor:\n",
      "2\n",
      "Division: 17.0\n",
      "Select choice:\n",
      "1.Addition \n",
      "2.Division \n",
      "3.Subtraction \n",
      "4.Multiplication \n",
      "5.stop\n",
      "\n",
      "3\n",
      "performing subtraction\n",
      "9 8 7 6 5 4 3 2 1\n",
      "Subtraction: -45\n",
      "Select choice:\n",
      "1.Addition \n",
      "2.Division \n",
      "3.Subtraction \n",
      "4.Multiplication \n",
      "5.stop\n",
      "\n",
      "4\n",
      "performing Multplication\n",
      "1 2 3 4 5 6 7 8 \n",
      "Multiplication: 40320\n",
      "Select choice:\n",
      "1.Addition \n",
      "2.Division \n",
      "3.Subtraction \n",
      "4.Multiplication \n",
      "5.stop\n",
      "\n",
      "4\n",
      "performing Multplication\n",
      "1 2 3 4 5 6\n",
      "Multiplication: 720\n",
      "Select choice:\n",
      "1.Addition \n",
      "2.Division \n",
      "3.Subtraction \n",
      "4.Multiplication \n",
      "5.stop\n",
      "\n",
      "5\n",
      "Program has stopped\n"
     ]
    }
   ],
   "source": [
    "while(1):\n",
    "    print(\"Select choice:\\n1.Addition \\n2.Division \\n3.Subtraction \\n4.Multiplication \\n5.stop\\n\")\n",
    "    choice = int(input())\n",
    "    if choice==1:\n",
    "        print(\"Performing Addition\")\n",
    "        num = input().split()\n",
    "        num = (map(int, num))\n",
    "        sum1 = 0\n",
    "        for i in num:\n",
    "            sum1+=i\n",
    "        print(\"Addition:\",sum1)\n",
    "    if choice==2:\n",
    "        print(\"Performing Division\")\n",
    "        print(\"enter dividend:\")\n",
    "        dividend = int(input())\n",
    "        print(\"enter divisor:\")\n",
    "        divisor = int(input())\n",
    "        print(\"Division:\",dividend/divisor)\n",
    "    if choice==3:\n",
    "        print(\"performing subtraction\")\n",
    "        num = input().split()\n",
    "        num = (map(int,num))\n",
    "        sub1= 0\n",
    "        for i in num:\n",
    "            sub1-=i\n",
    "        print(\"Subtraction:\",sub1)\n",
    "    if choice==4:\n",
    "        print(\"performing Multplication\")\n",
    "        num = input().split()\n",
    "        num = (map(int,num))\n",
    "        prod = 1\n",
    "        for i in num:\n",
    "            prod *= i\n",
    "        print(\"Multiplication:\",prod)\n",
    "    if choice==5:\n",
    "        print(\"Program has stopped\")\n",
    "        break\n",
    "    "
   ]
  },
  {
   "cell_type": "code",
   "execution_count": null,
   "id": "ef79a03d",
   "metadata": {},
   "outputs": [],
   "source": []
  }
 ],
 "metadata": {
  "kernelspec": {
   "display_name": "Python 3 (ipykernel)",
   "language": "python",
   "name": "python3"
  },
  "language_info": {
   "codemirror_mode": {
    "name": "ipython",
    "version": 3
   },
   "file_extension": ".py",
   "mimetype": "text/x-python",
   "name": "python",
   "nbconvert_exporter": "python",
   "pygments_lexer": "ipython3",
   "version": "3.9.12"
  }
 },
 "nbformat": 4,
 "nbformat_minor": 5
}
