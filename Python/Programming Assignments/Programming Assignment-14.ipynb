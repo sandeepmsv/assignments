{
 "cells": [
  {
   "cell_type": "markdown",
   "id": "76105580",
   "metadata": {},
   "source": [
    "## 1.Define a class with a generator which can iterate the numbers, which are divisible by 7, between a given range 0 and n."
   ]
  },
  {
   "cell_type": "code",
   "execution_count": 3,
   "id": "a399c42b",
   "metadata": {},
   "outputs": [
    {
     "name": "stdout",
     "output_type": "stream",
     "text": [
      "enter the range:100\n",
      "0 7 14 21 28 35 42 49 56 63 70 77 84 91 98 "
     ]
    }
   ],
   "source": [
    "class iterator(object):\n",
    "    def __init__(self,n):\n",
    "        super(iterator,self).__init__()\n",
    "        self.num = n\n",
    "    def divisibleBySeven(self):\n",
    "        for i in range(0,self.num):\n",
    "            if i%7 ==0:\n",
    "                yield i\n",
    "num = int(input(\"enter the range:\"))\n",
    "for i in iterator(num).divisibleBySeven():\n",
    "    print(i,end=\" \")"
   ]
  },
  {
   "cell_type": "markdown",
   "id": "ab03b86a",
   "metadata": {},
   "source": [
    "## 2.Write a program to compute the frequency of the words from the input. The output should output after sorting the key alphanumerically. \n",
    "Suppose the following input is supplied to the program:   \n",
    "New to Python or choosing between Python 2 and Python 3? Read Python 2 or Python 3.  \n",
    "Then, the output should be:  \n",
    "2:2 3.:1 3?:1 New:1 Python:5 Read:1 and:1 between:1 choosing:1 or:2 to:1"
   ]
  },
  {
   "cell_type": "code",
   "execution_count": 14,
   "id": "4e97734b",
   "metadata": {},
   "outputs": [
    {
     "name": "stdout",
     "output_type": "stream",
     "text": [
      "enter any sentence:New to Python or choosing between Python 2 and Python 3? Read Python 2 or Python 3.\n",
      "Output:\n",
      "2 : 2 3. : 1 3? : 1 New : 1 Python : 5 Read : 1 and : 1 between : 1 choosing : 1 or : 2 to : 1 "
     ]
    }
   ],
   "source": [
    "def freq_word_alphanum():\n",
    "    s= input(\"enter any sentence:\")\n",
    "    str1 = s.split()\n",
    "    mpp={}\n",
    "    for i in str1:\n",
    "        if i not in mpp:\n",
    "            mpp[i] = 1\n",
    "        else:\n",
    "            mpp[i]+=1\n",
    "    print(\"Output:\")\n",
    "    for key,value in sorted(mpp.items()):\n",
    "        print(key,\":\",value,end=' ')\n",
    "freq_word_alphanum()\n",
    "        \n",
    "        \n",
    "    "
   ]
  },
  {
   "cell_type": "markdown",
   "id": "2179488f",
   "metadata": {},
   "source": [
    "## 3.Define a class Person and its two child classes: Male and Female. All classes have a method \"getGender\" which can print \"Male\" for Male class and \"Female\" for Female class."
   ]
  },
  {
   "cell_type": "code",
   "execution_count": 15,
   "id": "81b0b24c",
   "metadata": {},
   "outputs": [
    {
     "name": "stdout",
     "output_type": "stream",
     "text": [
      "Male\n",
      "Female\n"
     ]
    }
   ],
   "source": [
    "class Person(object):\n",
    "    def getGender( self ):\n",
    "        return \"Unknown\"\n",
    "\n",
    "class Male( Person ):\n",
    "    def getGender( self ):\n",
    "        return \"Male\"\n",
    "\n",
    "class Female( Person ):\n",
    "    def getGender( self ):\n",
    "        return \"Female\"\n",
    "\n",
    "aMale = Male()\n",
    "aFemale= Female()\n",
    "print (aMale.getGender())\n",
    "print (aFemale.getGender())"
   ]
  },
  {
   "cell_type": "markdown",
   "id": "4e2c577f",
   "metadata": {},
   "source": [
    "## 4.Please write a program to generate all sentences where subject is in [\"I\", \"You\"] and verb is in [\"Play\", \"Love\"] and the object is in [\"Hockey\",\"Football\"] ?"
   ]
  },
  {
   "cell_type": "code",
   "execution_count": 2,
   "id": "600cc43d",
   "metadata": {},
   "outputs": [
    {
     "name": "stdout",
     "output_type": "stream",
     "text": [
      "I Play Hockey\n",
      "I Play Football\n",
      "I Love Hockey\n",
      "I Love Football\n",
      "You Play Hockey\n",
      "You Play Football\n",
      "You Love Hockey\n",
      "You Love Football\n"
     ]
    }
   ],
   "source": [
    "def generate_all_sentence(subjects,verbs,objects):\n",
    "    for i in subjects:\n",
    "        for j in verbs:\n",
    "            for k in objects:\n",
    "                print(i,j,k)\n",
    "generate_all_sentence([\"I\",\"You\"],[\"Play\",\"Love\"],[\"Hockey\",\"Football\"])"
   ]
  },
  {
   "cell_type": "markdown",
   "id": "0ee0f2c2",
   "metadata": {},
   "source": [
    "## 5.Please write a program to compress and decompress the string \"hello world!hello world!hello world!hello world!\"."
   ]
  },
  {
   "cell_type": "code",
   "execution_count": 16,
   "id": "924e10af",
   "metadata": {},
   "outputs": [
    {
     "name": "stdout",
     "output_type": "stream",
     "text": [
      "hel2o world!hel2o world!hel2o world!hel2o world!\n",
      "hello world!hello world!hello world!hello world!\n"
     ]
    }
   ],
   "source": [
    "def compress(str1):\n",
    "    s = str1[0]\n",
    "    count = 1\n",
    "    for i in range(1,len(str1)):\n",
    "        if str1[i]==str1[i-1]:\n",
    "            count+=1\n",
    "        else:\n",
    "            if count>1:\n",
    "                s+=str(count)\n",
    "            count = 1\n",
    "            s+=str1[i]\n",
    "    return s\n",
    "def decompress(str1):\n",
    "    s = \"\"\n",
    "    for i in range(len(str1)):\n",
    "        if str1[i].isnumeric():\n",
    "            s += (str1[i-1]*(int(str1[i])-1))\n",
    "            \n",
    "        else:\n",
    "            s+=str1[i]\n",
    "    return s\n",
    "print(compress(\"hello world!hello world!hello world!hello world!\"))\n",
    "print(decompress(\"hel2o world!hel2o world!hel2o world!hel2o world!\"))\n",
    "                \n",
    "            \n",
    "        "
   ]
  },
  {
   "cell_type": "markdown",
   "id": "755f5ebb",
   "metadata": {},
   "source": [
    "## 6.Please write a binary search function which searches an item in a sorted list. The function should return the index of element to be searched in the list"
   ]
  },
  {
   "cell_type": "code",
   "execution_count": 18,
   "id": "66d562d8",
   "metadata": {},
   "outputs": [
    {
     "name": "stdout",
     "output_type": "stream",
     "text": [
      "Enter sorted array with spaces:1 2 3 4 5\n",
      "Enter search element in the array:3\n",
      "index of 3 is:2\n"
     ]
    }
   ],
   "source": [
    "def Binary_search(arr,x):\n",
    "    l = 0\n",
    "    r = len(arr)-1\n",
    "    while(l<=r):\n",
    "        mid = (l+r)//2\n",
    "        if(arr[mid]==x):\n",
    "            return mid\n",
    "        elif arr[mid]<x:\n",
    "            low = mid+1\n",
    "        else:\n",
    "            high = mid-1\n",
    "    return -1\n",
    "l = list(map(int,input(\"Enter sorted array with spaces:\").split()))\n",
    "x = int(input(\"Enter search element in the array:\"))\n",
    "if(Binary_search(l,x)==-1):\n",
    "    print(\"Element not found\")\n",
    "else:\n",
    "    print(f\"index of {x} is:{Binary_search(l,x)}\")\n",
    "\n",
    "        "
   ]
  },
  {
   "cell_type": "code",
   "execution_count": null,
   "id": "32a19613",
   "metadata": {},
   "outputs": [],
   "source": []
  }
 ],
 "metadata": {
  "kernelspec": {
   "display_name": "Python 3 (ipykernel)",
   "language": "python",
   "name": "python3"
  },
  "language_info": {
   "codemirror_mode": {
    "name": "ipython",
    "version": 3
   },
   "file_extension": ".py",
   "mimetype": "text/x-python",
   "name": "python",
   "nbconvert_exporter": "python",
   "pygments_lexer": "ipython3",
   "version": "3.9.13"
  }
 },
 "nbformat": 4,
 "nbformat_minor": 5
}
