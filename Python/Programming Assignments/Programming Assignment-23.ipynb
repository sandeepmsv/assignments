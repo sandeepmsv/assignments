{
 "cells": [
  {
   "cell_type": "markdown",
   "id": "6124c424",
   "metadata": {},
   "source": [
    "## 1. Create a function that takes a number as an argument and returns True or False depending on whether the number is symmetrical or not. A number is symmetrical when it is the same as its reverse.\n",
    "\n",
    "Examples\n",
    "\n",
    "is_symmetrical(7227) ➞ True\n",
    "\n",
    "is_symmetrical(12567) ➞ False\n",
    "\n",
    "is_symmetrical(44444444) ➞ True\n",
    "\n",
    "is_symmetrical(9939) ➞ False\n",
    "\n",
    "is_symmetrical(1112111) ➞ True\n"
   ]
  },
  {
   "cell_type": "code",
   "execution_count": 1,
   "id": "c50c2751",
   "metadata": {},
   "outputs": [
    {
     "name": "stdout",
     "output_type": "stream",
     "text": [
      "Enter number to check symmetric:7227\n",
      "is_symmetrical(7227):True\n"
     ]
    }
   ],
   "source": [
    "def is_symmetrical(num):\n",
    "    s1 = str(num)\n",
    "    i= 0\n",
    "    j = len(s1)-1\n",
    "    flag = 1\n",
    "    while(i<=j):\n",
    "        if s1[i]!=s1[j]:\n",
    "            flag = 0\n",
    "            print(f\"is_symmetrical({num}):False\")\n",
    "            break\n",
    "        i+=1\n",
    "        j-=1\n",
    "    if flag:\n",
    "        print(f\"is_symmetrical({num}):True\")\n",
    "num = int(input(\"Enter number to check symmetric:\"))\n",
    "is_symmetrical(num)\n",
    "        \n",
    "            \n",
    "            "
   ]
  },
  {
   "cell_type": "code",
   "execution_count": 2,
   "id": "67abacbd",
   "metadata": {},
   "outputs": [
    {
     "name": "stdout",
     "output_type": "stream",
     "text": [
      "is_symmetrical(12567):False\n",
      "is_symmetrical(44444444):True\n",
      "is_symmetrical(9939):False\n",
      "is_symmetrical(1112111):True\n"
     ]
    }
   ],
   "source": [
    "is_symmetrical(12567)\n",
    "\n",
    "is_symmetrical(44444444)\n",
    "\n",
    "is_symmetrical(9939)\n",
    "\n",
    "is_symmetrical(1112111)"
   ]
  },
  {
   "cell_type": "markdown",
   "id": "602de396",
   "metadata": {},
   "source": [
    "## 2. Given a string of numbers separated by a comma and space, return the product of the numbers.\n",
    "\n",
    "Examples\n",
    "\n",
    "multiply_nums(\"2, 3\") ➞ 6\n",
    "\n",
    "multiply_nums(\"1, 2, 3, 4\") ➞ 24\n",
    "\n",
    "multiply_nums(\"54, 75, 453, 0\") ➞ 0\n",
    "\n",
    "multiply_nums(\"10, -2\") ➞ -20\n"
   ]
  },
  {
   "cell_type": "code",
   "execution_count": 4,
   "id": "2a8bb30a",
   "metadata": {},
   "outputs": [
    {
     "name": "stdout",
     "output_type": "stream",
     "text": [
      "Enter numbers with comma sepearted:2,3\n",
      "multiply_nums(2,3):6\n"
     ]
    }
   ],
   "source": [
    "def multiply_nums(s):\n",
    "    s1 = s.split(\",\")\n",
    "    for i in range(len(s1)):\n",
    "        if s1[i][0] == \"-\":\n",
    "            s1[i] = (-1)*int(s1[i][1])\n",
    "        else:\n",
    "            s1[i] = int(s1[i])\n",
    "            \n",
    "    prod = 1\n",
    "    for i in s1:\n",
    "        prod *= i \n",
    "    print(f\"multiply_nums({s}):{prod}\")\n",
    "s = input(\"Enter numbers with comma sepearted:\")\n",
    "multiply_nums(s)"
   ]
  },
  {
   "cell_type": "code",
   "execution_count": 5,
   "id": "81a80e71",
   "metadata": {},
   "outputs": [
    {
     "name": "stdout",
     "output_type": "stream",
     "text": [
      "multiply_nums(1, 2, 3, 4):24\n",
      "multiply_nums(54, 75, 453, 0):0\n",
      "multiply_nums(10, -2):-20\n"
     ]
    }
   ],
   "source": [
    "multiply_nums(\"1, 2, 3, 4\")\n",
    "\n",
    "multiply_nums(\"54, 75, 453, 0\")\n",
    "\n",
    "multiply_nums(\"10, -2\")"
   ]
  },
  {
   "cell_type": "markdown",
   "id": "33b0462a",
   "metadata": {},
   "source": [
    "## 3.Create a function that squares every digit of a number.\n",
    "\n",
    "Examples\n",
    "\n",
    "square_digits(9119) ➞ 811181\n",
    "\n",
    "square_digits(2483) ➞ 416649\n",
    "\n",
    "square_digits(3212) ➞ 9414\n",
    "\n",
    "Notes\n",
    "\n",
    "The function receives an integer and must return an integer.\n"
   ]
  },
  {
   "cell_type": "code",
   "execution_count": 13,
   "id": "11b2fe5b",
   "metadata": {},
   "outputs": [
    {
     "name": "stdout",
     "output_type": "stream",
     "text": [
      "Enter number that need to be squared every digit of a number:9119\n",
      "square_digits(9119):811181\n"
     ]
    }
   ],
   "source": [
    "def square_digits(num):\n",
    "    s = str(num)\n",
    "    s1 = ''\n",
    "    for i in s:\n",
    "        s1+=str(int(i)**2)\n",
    "    print(f\"square_digits({num}):{int(s1)}\")\n",
    "num = int(input(\"Enter number that need to be squared every digit of a number:\"))\n",
    "square_digits(num)\n",
    "    \n",
    "        \n",
    "        \n",
    "    "
   ]
  },
  {
   "cell_type": "code",
   "execution_count": 14,
   "id": "7bd9f926",
   "metadata": {},
   "outputs": [
    {
     "name": "stdout",
     "output_type": "stream",
     "text": [
      "square_digits(2483):416649\n",
      "square_digits(3212):9414\n",
      "square_digits(100000):100000\n",
      "square_digits(1500):12500\n"
     ]
    }
   ],
   "source": [
    "square_digits(2483)\n",
    "square_digits(3212)\n",
    "square_digits(100000)\n",
    "square_digits(1500)\n"
   ]
  },
  {
   "cell_type": "markdown",
   "id": "de095515",
   "metadata": {},
   "source": [
    "## 4. Create a function that sorts a list and removes all duplicate items from it.\n",
    "\n",
    "Examples\n",
    "\n",
    "setify([1, 3, 3, 5, 5]) ➞ [1, 3, 5]\n",
    "\n",
    "setify([4, 4, 4, 4]) ➞ [4]\n",
    "\n",
    "setify([5, 7, 8, 9, 10, 15]) ➞ [5, 7, 8, 9, 10, 15]\n",
    "\n",
    "setify([3, 3, 3, 2, 1]) ➞ [1, 2, 3]\n"
   ]
  },
  {
   "cell_type": "code",
   "execution_count": 21,
   "id": "141889a6",
   "metadata": {},
   "outputs": [
    {
     "name": "stdout",
     "output_type": "stream",
     "text": [
      "Enter list elements with spaces1 3 3 5 5\n",
      "setify([1, 3, 3, 5, 5]):[1, 3, 5]\n"
     ]
    }
   ],
   "source": [
    "def setify(l):\n",
    "    mpp = {}\n",
    "    ans = []\n",
    "    for i in l:\n",
    "        if i not in mpp:\n",
    "            mpp[i] = 1\n",
    "        else:\n",
    "            mpp[i]+=1\n",
    "    for key,value in mpp.items():\n",
    "        if value>1:\n",
    "            if key not in ans:\n",
    "                ans.append(key)\n",
    "        else:\n",
    "            ans.append(key)\n",
    "    ans.sort()\n",
    "    print(f\"setify({l}):{ans}\")\n",
    "l = list(map(int,input(\"Enter list elements with spaces\").split()))\n",
    "setify(l)\n",
    "\n",
    "            \n",
    "    \n",
    "    "
   ]
  },
  {
   "cell_type": "code",
   "execution_count": 22,
   "id": "7825cd57",
   "metadata": {},
   "outputs": [
    {
     "name": "stdout",
     "output_type": "stream",
     "text": [
      "setify([4, 4, 4, 4]):[4]\n",
      "setify([5, 7, 8, 9, 10, 15]):[5, 7, 8, 9, 10, 15]\n",
      "setify([3, 3, 3, 2, 1]):[1, 2, 3]\n"
     ]
    }
   ],
   "source": [
    "setify([4, 4, 4, 4])\n",
    "\n",
    "setify([5, 7, 8, 9, 10, 15])\n",
    "\n",
    "setify([3, 3, 3, 2, 1])"
   ]
  },
  {
   "cell_type": "markdown",
   "id": "022c4a44",
   "metadata": {},
   "source": [
    "## 5.Create a function that returns the mean of all digits.\n",
    "\n",
    "Examples\n",
    "\n",
    "mean(42) ➞ 3\n",
    "\n",
    "mean(12345) ➞ 3\n",
    "\n",
    "mean(666) ➞ 6\n",
    "\n",
    "Notes\n",
    "\n",
    "•\tThe mean of all digits is the sum of digits / how many digits there are (e.g. mean of digits in 512 is (5+1+2)/3(number of digits) = 8/3=2).\n",
    "\n",
    "•\tThe mean will always be an integer.\n"
   ]
  },
  {
   "cell_type": "code",
   "execution_count": 24,
   "id": "06bd2424",
   "metadata": {},
   "outputs": [
    {
     "name": "stdout",
     "output_type": "stream",
     "text": [
      "Enter number to find mean of all digits:42\n",
      "mean(42):3\n"
     ]
    }
   ],
   "source": [
    "def mean_of_all_digits(num):\n",
    "    temp = num\n",
    "    rem = 0\n",
    "    cnt = 0\n",
    "    sum1 = 0\n",
    "    while(temp):\n",
    "        x = temp%10\n",
    "        sum1+=x\n",
    "        cnt+=1\n",
    "        temp = temp//10\n",
    "    mean = sum1//cnt \n",
    "    print(f\"mean({num}):{mean}\")\n",
    "num = int(input(\"Enter number to find mean of all digits:\"))\n",
    "mean_of_all_digits(num)\n",
    "    "
   ]
  },
  {
   "cell_type": "code",
   "execution_count": 26,
   "id": "baa0299b",
   "metadata": {},
   "outputs": [
    {
     "name": "stdout",
     "output_type": "stream",
     "text": [
      "mean(12345):3\n",
      "mean(666):6\n"
     ]
    }
   ],
   "source": [
    "mean_of_all_digits(12345)\n",
    "mean_of_all_digits(666)"
   ]
  },
  {
   "cell_type": "code",
   "execution_count": null,
   "id": "4700a9b0",
   "metadata": {},
   "outputs": [],
   "source": []
  }
 ],
 "metadata": {
  "kernelspec": {
   "display_name": "Python 3 (ipykernel)",
   "language": "python",
   "name": "python3"
  },
  "language_info": {
   "codemirror_mode": {
    "name": "ipython",
    "version": 3
   },
   "file_extension": ".py",
   "mimetype": "text/x-python",
   "name": "python",
   "nbconvert_exporter": "python",
   "pygments_lexer": "ipython3",
   "version": "3.9.13"
  }
 },
 "nbformat": 4,
 "nbformat_minor": 5
}
