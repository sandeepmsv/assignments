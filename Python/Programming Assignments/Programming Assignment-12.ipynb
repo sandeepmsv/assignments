{
 "cells": [
  {
   "cell_type": "markdown",
   "id": "edf89428",
   "metadata": {},
   "source": [
    "## 1. Write a Python program to Extract Unique values dictionary values?"
   ]
  },
  {
   "cell_type": "code",
   "execution_count": 5,
   "id": "87081ff4",
   "metadata": {},
   "outputs": [
    {
     "name": "stdout",
     "output_type": "stream",
     "text": [
      "dictionary :  {'a': [5, 6, 7, 8], 'b': [10, 11, 7, 5], 'c': [6, 12, 10, 8], 'd': [1, 2, 5]}\n",
      "The unique values list is :  [1, 2, 5, 6, 7, 8, 10, 11, 12]\n"
     ]
    }
   ],
   "source": [
    "mpp = {'a' : [5, 6, 7, 8],\n",
    "            'b' : [10, 11, 7, 5],\n",
    "            'c' : [6, 12, 10, 8],\n",
    "            'd' : [1, 2, 5]}\n",
    "print(\"dictionary : \",mpp)\n",
    " \n",
    "# Extract Unique values dictionary values\n",
    "x=[]\n",
    "for i in mpp.keys():\n",
    "    x.extend(mpp[i])\n",
    "x=list(set(x))\n",
    "x.sort()\n",
    "print(\"The unique values list is : \",str(x))"
   ]
  },
  {
   "cell_type": "markdown",
   "id": "e83be4e2",
   "metadata": {},
   "source": [
    "## 2. Write a Python program to find the sum of all items in a dictionary?"
   ]
  },
  {
   "cell_type": "code",
   "execution_count": 6,
   "id": "ea032b73",
   "metadata": {},
   "outputs": [
    {
     "name": "stdout",
     "output_type": "stream",
     "text": [
      "sum of all items in a dictionary is  371\n"
     ]
    }
   ],
   "source": [
    "mpp = {'a':44,'b':86,'c':98,'d':56,'e':87}\n",
    "sum1 = 0\n",
    "for key,value in mpp.items():\n",
    "    sum1+=value\n",
    "print(\"sum of all items in a dictionary is \",sum1)\n",
    "    \n",
    "    "
   ]
  },
  {
   "cell_type": "markdown",
   "id": "44937125",
   "metadata": {},
   "source": [
    "## 3. Write a Python program to Merging two Dictionaries?"
   ]
  },
  {
   "cell_type": "code",
   "execution_count": 8,
   "id": "84fadd8f",
   "metadata": {},
   "outputs": [
    {
     "name": "stdout",
     "output_type": "stream",
     "text": [
      "Merging two dictionaries: {'a': 44, 'b': 86, 'c': 98, 'd': 56, 'e': 87, 'A': [5, 6, 7, 8], 'B': [10, 11, 7, 5], 'C': [6, 12, 10, 8], 'D': [1, 2, 5]}\n"
     ]
    }
   ],
   "source": [
    "mpp1= {'a':44,'b':86,'c':98,'d':56,'e':87}\n",
    "mpp2 = {'A' : [5, 6, 7, 8],'B' : [10, 11, 7, 5],'C' : [6, 12, 10, 8],'D' : [1, 2, 5]}\n",
    "print(\"Merging two dictionaries:\",mpp1|mpp2)"
   ]
  },
  {
   "cell_type": "markdown",
   "id": "e1c12d10",
   "metadata": {},
   "source": [
    "## 4. Write a Python program to convert key-values list to flat dictionary?"
   ]
  },
  {
   "cell_type": "code",
   "execution_count": 11,
   "id": "f2be7d4c",
   "metadata": {},
   "outputs": [
    {
     "name": "stdout",
     "output_type": "stream",
     "text": [
      "The original dictionary is :  {'Roll_no': [1, 2, 3], 'name': ['sandeep', 'ravi', 'prasad']}\n",
      "Flattened dictionary : {1: 'sandeep', 2: 'ravi', 3: 'prasad'}\n"
     ]
    }
   ],
   "source": [
    "\n",
    "mpp = {'Roll_no' : [1, 2, 3],'name' : ['sandeep','ravi','prasad']}\n",
    "\n",
    "# printing original dictionary\n",
    "print(\"The original dictionary is : \",mpp)\n",
    "l=list(mpp.values())\n",
    "a=l[0]\n",
    "b=l[1]\n",
    "d={}\n",
    "for i in range(0,len(a)):\n",
    "    d[a[i]]=b[i]\n",
    "print(\"Flattened dictionary :\",d)\n",
    "\n"
   ]
  },
  {
   "cell_type": "markdown",
   "id": "68164a0c",
   "metadata": {},
   "source": [
    "## 5. Write a Python program to insertion at the beginning in OrderedDict?"
   ]
  },
  {
   "cell_type": "code",
   "execution_count": 12,
   "id": "2adf7224",
   "metadata": {},
   "outputs": [
    {
     "name": "stdout",
     "output_type": "stream",
     "text": [
      "Resultant Dictionary :  OrderedDict([('c', '3'), ('a', '1'), ('b', '2')])\n"
     ]
    }
   ],
   "source": [
    "from collections import OrderedDict\n",
    "mpp= OrderedDict([('a', '1'), ('b', '2')])\n",
    "mpp.update({'c':'3'})\n",
    "mpp.move_to_end('c', last = False)\n",
    "print (\"Resultant Dictionary : \",mpp)\n"
   ]
  },
  {
   "cell_type": "markdown",
   "id": "62440b85",
   "metadata": {},
   "source": [
    "## 6. Write a Python program to check order of character in string using OrderedDict()?"
   ]
  },
  {
   "cell_type": "code",
   "execution_count": 18,
   "id": "ac797a05",
   "metadata": {},
   "outputs": [
    {
     "name": "stdout",
     "output_type": "stream",
     "text": [
      "Enter string to check order of patternMy name is sandeep\n",
      "Enter pattern to be checkedep\n",
      "True\n"
     ]
    }
   ],
   "source": [
    "from collections import OrderedDict\n",
    "def check_Order_char(s, p): \n",
    "    mpp= OrderedDict.fromkeys(s) \n",
    "    plen = 0\n",
    "    for key,value in mpp.items(): \n",
    "        if (key == p[plen]): \n",
    "            plen = plen+ 1\n",
    "\n",
    "        if (plen == (len(p))): \n",
    "            return True\n",
    "\n",
    "    return False\n",
    "s = input(\"Enter string to check order of pattern\")\n",
    "p = input(\"Enter pattern to be checked\")\n",
    "print(check_Order_char(s,p))"
   ]
  },
  {
   "cell_type": "markdown",
   "id": "a84a4a3f",
   "metadata": {},
   "source": [
    "## 7. Write a Python program to sort Python Dictionaries by Key or Value?"
   ]
  },
  {
   "cell_type": "code",
   "execution_count": 20,
   "id": "dd3b774d",
   "metadata": {},
   "outputs": [
    {
     "name": "stdout",
     "output_type": "stream",
     "text": [
      "{'a': 100, 'b': 22, 'c': 60, 'd': 13, 'e': 89, 'f': 90}\n",
      "{'d': 13, 'b': 22, 'c': 60, 'e': 89, 'f': 90, 'a': 100}\n"
     ]
    }
   ],
   "source": [
    "mpp = {'a':100,'b':22,'c':60,'d':13,'f':90,'e':89}\n",
    "def sort_bykey_byvalue(mpp,type):\n",
    "    if type == 'key':\n",
    "        print(dict(sorted(mpp.items(), key=lambda x:x[0])))\n",
    "    else:\n",
    "        print(dict(sorted(mpp.items(), key=lambda x:x[1])))\n",
    "        \n",
    "sort_bykey_byvalue(mpp,'key')        \n",
    "sort_bykey_byvalue(mpp,'value')"
   ]
  },
  {
   "cell_type": "code",
   "execution_count": null,
   "id": "a4f17982",
   "metadata": {},
   "outputs": [],
   "source": []
  }
 ],
 "metadata": {
  "kernelspec": {
   "display_name": "Python 3 (ipykernel)",
   "language": "python",
   "name": "python3"
  },
  "language_info": {
   "codemirror_mode": {
    "name": "ipython",
    "version": 3
   },
   "file_extension": ".py",
   "mimetype": "text/x-python",
   "name": "python",
   "nbconvert_exporter": "python",
   "pygments_lexer": "ipython3",
   "version": "3.9.12"
  }
 },
 "nbformat": 4,
 "nbformat_minor": 5
}
