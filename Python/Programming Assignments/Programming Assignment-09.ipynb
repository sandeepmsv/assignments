{
 "cells": [
  {
   "cell_type": "markdown",
   "id": "738f23bc",
   "metadata": {},
   "source": [
    "## 1. Write a Python program to check if the given number is a Disarium Number?"
   ]
  },
  {
   "cell_type": "code",
   "execution_count": 6,
   "id": "d5852b11",
   "metadata": {},
   "outputs": [
    {
     "name": "stdout",
     "output_type": "stream",
     "text": [
      "Enter any number to check disarium number.40\n",
      "False\n"
     ]
    }
   ],
   "source": [
    "import math\n",
    "def check_disarium(num) :\n",
    "    count= len(str(num))\n",
    "    sum1 = 0\n",
    "    temp = num\n",
    "    while (temp!=0) :\n",
    "        rem = temp % 10\n",
    "        sum1 = (int) (sum1 + math.pow(rem, count))\n",
    "        count = count - 1\n",
    "        temp = temp//10\n",
    "    if sum1== num :\n",
    "        return True\n",
    "    else :\n",
    "        return False\n",
    "num = int(input(\"Enter any number to check disarium number.\"))\n",
    "print(check_disarium(num))"
   ]
  },
  {
   "cell_type": "code",
   "execution_count": 8,
   "id": "12546e22",
   "metadata": {},
   "outputs": [
    {
     "name": "stdout",
     "output_type": "stream",
     "text": [
      "False\n",
      "True\n",
      "False\n",
      "False\n",
      "False\n",
      "False\n"
     ]
    }
   ],
   "source": [
    "print(check_disarium(30))\n",
    "print(check_disarium(135))\n",
    "print(check_disarium(1647))\n",
    "print(check_disarium(1200))\n",
    "print(check_disarium(30000))\n",
    "print(check_disarium(50000))"
   ]
  },
  {
   "cell_type": "markdown",
   "id": "65725abb",
   "metadata": {},
   "source": [
    "## 2. Write a Python program to print all disarium numbers between 1 to 100?"
   ]
  },
  {
   "cell_type": "code",
   "execution_count": 9,
   "id": "5d1f3738",
   "metadata": {},
   "outputs": [
    {
     "name": "stdout",
     "output_type": "stream",
     "text": [
      "[1, 2, 3, 4, 5, 6, 7, 8, 9, 89]\n"
     ]
    }
   ],
   "source": [
    "import math\n",
    "def check_disarium(num) :\n",
    "    count= len(str(num))\n",
    "    sum1 = 0\n",
    "    temp = num\n",
    "    while (temp!=0) :\n",
    "        rem = temp % 10\n",
    "        sum1 = (int) (sum1 + math.pow(rem, count))\n",
    "        count = count - 1\n",
    "        temp = temp//10\n",
    "    if sum1== num :\n",
    "        return True\n",
    "    else :\n",
    "        return False\n",
    "disarium = []\n",
    "for i in range(1,100):\n",
    "    if check_disarium(i):\n",
    "        disarium.append(i)\n",
    "print(disarium)"
   ]
  },
  {
   "cell_type": "markdown",
   "id": "dac140d4",
   "metadata": {},
   "source": [
    "## 3. Write a Python program to check if the given number is Happy Number?"
   ]
  },
  {
   "cell_type": "code",
   "execution_count": 11,
   "id": "be29ac34",
   "metadata": {},
   "outputs": [
    {
     "name": "stdout",
     "output_type": "stream",
     "text": [
      "Enter any to check if given number is Happy number 100\n",
      "True\n"
     ]
    }
   ],
   "source": [
    "def isHappyNumber(num):    \n",
    "    rem=0\n",
    "    sum1 = 0\n",
    "    while(num> 0):    \n",
    "        rem= num % 10 \n",
    "        sum1 = sum1+ (rem * rem)    \n",
    "        num = num// 10\n",
    "    return sum1\n",
    "def HappyNumber(num):\n",
    "    result = num\n",
    "    while(result != 1 and result != 4):\n",
    "        result = isHappyNumber(result)\n",
    "    if result==1:\n",
    "        print(True)\n",
    "    else:\n",
    "        print(False)\n",
    "        \n",
    "num = int(input(\"Enter any to check if given number is Happy number \"))    \n",
    "HappyNumber(num)"
   ]
  },
  {
   "cell_type": "code",
   "execution_count": 14,
   "id": "b3cb5e2b",
   "metadata": {},
   "outputs": [
    {
     "name": "stdout",
     "output_type": "stream",
     "text": [
      "True\n",
      "True\n",
      "False\n",
      "False\n",
      "False\n"
     ]
    }
   ],
   "source": [
    "HappyNumber(7)\n",
    "HappyNumber(28)\n",
    "HappyNumber(4)\n",
    "HappyNumber(38)\n",
    "HappyNumber(40)"
   ]
  },
  {
   "cell_type": "markdown",
   "id": "b78b3d0a",
   "metadata": {},
   "source": [
    "## 4. Write a Python program to print all happy numbers between 1 and 100?"
   ]
  },
  {
   "cell_type": "code",
   "execution_count": 17,
   "id": "94d4bd24",
   "metadata": {},
   "outputs": [
    {
     "name": "stdout",
     "output_type": "stream",
     "text": [
      "[1, 7, 10, 13, 19, 23, 28, 31, 32, 44, 49, 68, 70, 79, 82, 86, 91, 94, 97]\n"
     ]
    }
   ],
   "source": [
    "def isHappyNumber(num):    \n",
    "    rem=0\n",
    "    sum1 = 0\n",
    "    while(num> 0):    \n",
    "        rem= num % 10 \n",
    "        sum1 = sum1+ (rem * rem)    \n",
    "        num = num// 10\n",
    "    return sum1\n",
    "def HappyNumber(num):\n",
    "    result = num\n",
    "    while(result != 1 and result != 4):\n",
    "        result = isHappyNumber(result)\n",
    "    if result==1:\n",
    "        return True\n",
    "    else:\n",
    "        return False\n",
    "Happynumber = []\n",
    "for i in range(1,100):\n",
    "    if HappyNumber(i):\n",
    "        Happynumber.append(i)\n",
    "print(Happynumber)\n",
    "        "
   ]
  },
  {
   "cell_type": "markdown",
   "id": "ba211d53",
   "metadata": {},
   "source": [
    "## 5. Write a Python program to determine whether the given number is a Harshad Number?"
   ]
  },
  {
   "cell_type": "code",
   "execution_count": 24,
   "id": "9e9e619c",
   "metadata": {},
   "outputs": [
    {
     "name": "stdout",
     "output_type": "stream",
     "text": [
      "Enter any number to determine Harshad number156\n",
      "True\n"
     ]
    }
   ],
   "source": [
    "def isHarshad(num):\n",
    "    temp = num\n",
    "    rem = 0\n",
    "    sum1 = 0\n",
    "    while temp!=0:\n",
    "        rem = temp%10\n",
    "        sum1+=rem\n",
    "        temp = temp//10\n",
    "    if num%sum1==0:\n",
    "        print(True)\n",
    "    else:\n",
    "        print(False)\n",
    "num = int(input(\"Enter any number to determine Harshad number\"))\n",
    "isHarshad(num)\n"
   ]
  },
  {
   "cell_type": "code",
   "execution_count": 25,
   "id": "b1d1bcf8",
   "metadata": {},
   "outputs": [
    {
     "name": "stdout",
     "output_type": "stream",
     "text": [
      "True\n",
      "True\n",
      "False\n"
     ]
    }
   ],
   "source": [
    "isHarshad(100)\n",
    "isHarshad(225)\n",
    "isHarshad(445)"
   ]
  },
  {
   "cell_type": "markdown",
   "id": "38a0110b",
   "metadata": {},
   "source": [
    "## 6. Write a Python program to print all pronic numbers between 1 and 100?"
   ]
  },
  {
   "cell_type": "code",
   "execution_count": 26,
   "id": "b1724e44",
   "metadata": {},
   "outputs": [
    {
     "name": "stdout",
     "output_type": "stream",
     "text": [
      "[2, 6, 12, 20, 30, 42, 56, 72, 90]\n"
     ]
    }
   ],
   "source": [
    "def ispronic(num):\n",
    "    f = 0\n",
    "    for i in range(num):\n",
    "        if i*(i+1) == num:\n",
    "            f=1\n",
    "            break\n",
    "    if f==1:\n",
    "        return True\n",
    "    else:\n",
    "        return False\n",
    "pronic = []\n",
    "for i in range(1,100):\n",
    "    if ispronic(i):\n",
    "        pronic.append(i)\n",
    "print(pronic)\n",
    "        "
   ]
  },
  {
   "cell_type": "code",
   "execution_count": null,
   "id": "d96b1618",
   "metadata": {},
   "outputs": [],
   "source": []
  }
 ],
 "metadata": {
  "kernelspec": {
   "display_name": "Python 3 (ipykernel)",
   "language": "python",
   "name": "python3"
  },
  "language_info": {
   "codemirror_mode": {
    "name": "ipython",
    "version": 3
   },
   "file_extension": ".py",
   "mimetype": "text/x-python",
   "name": "python",
   "nbconvert_exporter": "python",
   "pygments_lexer": "ipython3",
   "version": "3.9.12"
  }
 },
 "nbformat": 4,
 "nbformat_minor": 5
}
