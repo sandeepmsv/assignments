{
 "cells": [
  {
   "cell_type": "markdown",
   "id": "9ea47434",
   "metadata": {},
   "source": [
    "## 1. Write a Python program to convert kilometers to miles?"
   ]
  },
  {
   "cell_type": "code",
   "execution_count": 2,
   "id": "e6fdfec8",
   "metadata": {},
   "outputs": [
    {
     "name": "stdout",
     "output_type": "stream",
     "text": [
      "Enter kilometers to be converted into miles:2\n",
      "1.242\n"
     ]
    }
   ],
   "source": [
    "def km_to_miles(km):\n",
    "    return km*0.621\n",
    "\n",
    "kilometers = float(input(\"Enter kilometers to be converted into miles:\"))\n",
    "print(km_to_miles(kilometers))\n",
    "\n",
    "    "
   ]
  },
  {
   "cell_type": "markdown",
   "id": "14e1626f",
   "metadata": {},
   "source": [
    "## 2. Write a Python program to convert Celsius to Fahrenheit?"
   ]
  },
  {
   "cell_type": "code",
   "execution_count": 3,
   "id": "0f4342f1",
   "metadata": {},
   "outputs": [
    {
     "name": "stdout",
     "output_type": "stream",
     "text": [
      "Enter in celsius23\n",
      "celsius to Fahrenheit: 73.4\n"
     ]
    }
   ],
   "source": [
    "def celsius_to_Fahrenheit(cel):\n",
    "    return (cel*(9/5))+32\n",
    "celsius = float(input(\"Enter in celsius\"))\n",
    "print(\"celsius to Fahrenheit:\",celsius_to_Fahrenheit(celsius))"
   ]
  },
  {
   "cell_type": "markdown",
   "id": "8d0cd80e",
   "metadata": {},
   "source": [
    "## 3. Write a Python program to display calendar?"
   ]
  },
  {
   "cell_type": "code",
   "execution_count": 6,
   "id": "1c616b9e",
   "metadata": {},
   "outputs": [
    {
     "name": "stdout",
     "output_type": "stream",
     "text": [
      "Enter year:2020\n",
      "                                  2020\n",
      "\n",
      "      January                   February                   March\n",
      "Mo Tu We Th Fr Sa Su      Mo Tu We Th Fr Sa Su      Mo Tu We Th Fr Sa Su\n",
      "       1  2  3  4  5                      1  2                         1\n",
      " 6  7  8  9 10 11 12       3  4  5  6  7  8  9       2  3  4  5  6  7  8\n",
      "13 14 15 16 17 18 19      10 11 12 13 14 15 16       9 10 11 12 13 14 15\n",
      "20 21 22 23 24 25 26      17 18 19 20 21 22 23      16 17 18 19 20 21 22\n",
      "27 28 29 30 31            24 25 26 27 28 29         23 24 25 26 27 28 29\n",
      "                                                    30 31\n",
      "\n",
      "       April                      May                       June\n",
      "Mo Tu We Th Fr Sa Su      Mo Tu We Th Fr Sa Su      Mo Tu We Th Fr Sa Su\n",
      "       1  2  3  4  5                   1  2  3       1  2  3  4  5  6  7\n",
      " 6  7  8  9 10 11 12       4  5  6  7  8  9 10       8  9 10 11 12 13 14\n",
      "13 14 15 16 17 18 19      11 12 13 14 15 16 17      15 16 17 18 19 20 21\n",
      "20 21 22 23 24 25 26      18 19 20 21 22 23 24      22 23 24 25 26 27 28\n",
      "27 28 29 30               25 26 27 28 29 30 31      29 30\n",
      "\n",
      "        July                     August                  September\n",
      "Mo Tu We Th Fr Sa Su      Mo Tu We Th Fr Sa Su      Mo Tu We Th Fr Sa Su\n",
      "       1  2  3  4  5                      1  2          1  2  3  4  5  6\n",
      " 6  7  8  9 10 11 12       3  4  5  6  7  8  9       7  8  9 10 11 12 13\n",
      "13 14 15 16 17 18 19      10 11 12 13 14 15 16      14 15 16 17 18 19 20\n",
      "20 21 22 23 24 25 26      17 18 19 20 21 22 23      21 22 23 24 25 26 27\n",
      "27 28 29 30 31            24 25 26 27 28 29 30      28 29 30\n",
      "                          31\n",
      "\n",
      "      October                   November                  December\n",
      "Mo Tu We Th Fr Sa Su      Mo Tu We Th Fr Sa Su      Mo Tu We Th Fr Sa Su\n",
      "          1  2  3  4                         1          1  2  3  4  5  6\n",
      " 5  6  7  8  9 10 11       2  3  4  5  6  7  8       7  8  9 10 11 12 13\n",
      "12 13 14 15 16 17 18       9 10 11 12 13 14 15      14 15 16 17 18 19 20\n",
      "19 20 21 22 23 24 25      16 17 18 19 20 21 22      21 22 23 24 25 26 27\n",
      "26 27 28 29 30 31         23 24 25 26 27 28 29      28 29 30 31\n",
      "                          30\n",
      "\n"
     ]
    }
   ],
   "source": [
    "import calendar\n",
    "year = int(input(\"Enter year:\"))\n",
    "print(calendar.calendar(year))"
   ]
  },
  {
   "cell_type": "markdown",
   "id": "97bb3fa9",
   "metadata": {},
   "source": [
    "## 4. Write a Python program to solve quadratic equation?"
   ]
  },
  {
   "cell_type": "markdown",
   "id": "6477271d",
   "metadata": {},
   "source": [
    "The quadratic equation is solved using below formula:\n",
    "\n",
    "$$\n",
    "x = \\frac{-b \\pm \\sqrt{b^2 - 4ac}}{2a}\n",
    "$$\n",
    "\n",
    "The formula also can be written as:\n",
    "\n",
    "$$\n",
    "x = \\frac{-b \\pm \\sqrt{D}}{2a}\n",
    "$$\n",
    "where D is Discriminant, Where, D= b<sup>2</sup> - 4ac\n",
    "\n",
    "* If D>0: The roots are real and different.\n",
    "* If D=0: The roots are real and the same.\n",
    "* If D<0: The roots are complex and are conjugate pairs.\n",
    "\n",
    "\n"
   ]
  },
  {
   "cell_type": "code",
   "execution_count": 10,
   "id": "7c6edb30",
   "metadata": {
    "scrolled": true
   },
   "outputs": [
    {
     "name": "stdout",
     "output_type": "stream",
     "text": [
      "Enter the coefficient of x^2: 3\n",
      "Enter the coefficient of x: 4\n",
      "Enter the value of constant: 8\n",
      "\n",
      "The quadratic equation will be 3x^2 +4x +8 = 0\n",
      "\n",
      "The roots are complex numbers\n",
      "First root : (-0.6666666666666666+1.4907119849998598j)\n",
      "Second root : (-0.6666666666666666-1.4907119849998598j)\n"
     ]
    }
   ],
   "source": [
    "import math\n",
    "from typing import List, Union\n",
    "\n",
    "def QuadRoots(a, b, c):\n",
    "    if a == 0:\n",
    "        print(\"not a quadratic equation\")\n",
    "        return ['None', 'None']\n",
    "    roots = []\n",
    "\n",
    "\n",
    "    D = b*b - 4*a*c\n",
    "\n",
    "    \n",
    "    if D > 0:\n",
    "        print(\"The roots are real and different\")\n",
    "        roots.append((-b + math.sqrt(D))/(2*a))\n",
    "        roots.append((-b - math.sqrt(D))/(2*a))\n",
    "    \n",
    "    elif D == 0:\n",
    "        print(\"The roots are real and the same\")\n",
    "        roots.append((-b/(2*a)))\n",
    "        roots.append((-b/(2*a)))\n",
    "\n",
    "    else:\n",
    "        print(\"The roots are complex numbers\")\n",
    "        roots.append((-b + 1j*math.sqrt(abs(D)))/(2*a))\n",
    "        roots.append((-b - 1j*math.sqrt(abs(D)))/(2*a))\n",
    "\n",
    "    return roots\n",
    "\n",
    "\n",
    "\n",
    "a = int(input(\"Enter the coefficient of x^2: \"))\n",
    "b = int(input(\"Enter the coefficient of x: \"))\n",
    "c = int(input(\"Enter the value of constant: \"))\n",
    "\n",
    "print()\n",
    "\n",
    "\n",
    "print(\"The quadratic equation will be\",\n",
    "      f\"{a}x^2\" if a != 0 else '',\n",
    "      \"{0:+}x\".format(b) if b != 0 else '',\n",
    "      \"{0:+}\".format(c), \"= 0\")\n",
    "\n",
    "print()\n",
    "\n",
    "res = QuadRoots(a, b, c)\n",
    "\n",
    "\n",
    "print(\"First root :\", res[0])\n",
    "print(\"Second root :\", res[1])\n",
    "\n",
    "\n"
   ]
  },
  {
   "cell_type": "markdown",
   "id": "d2747997",
   "metadata": {},
   "source": [
    "## 5. Write a Python program to swap two variables without temp variable?"
   ]
  },
  {
   "cell_type": "code",
   "execution_count": 11,
   "id": "5ba5e7bd",
   "metadata": {},
   "outputs": [
    {
     "name": "stdout",
     "output_type": "stream",
     "text": [
      "Enter first number:100\n",
      "Enter second number:99\n",
      "Before swapping: 100.0 99.0\n",
      "After Swapping: 99.0 100.0\n"
     ]
    }
   ],
   "source": [
    "def swap(a,b):\n",
    "    a = a+b\n",
    "    b= a-b\n",
    "    a = a-b\n",
    "    return a,b\n",
    "a = float(input(\"Enter first number:\"))\n",
    "b = float(input(\"Enter second number:\"))\n",
    "print(\"Before swapping:\",a,b)\n",
    "a,b = swap(a,b)\n",
    "print(\"After Swapping:\",a,b)"
   ]
  },
  {
   "cell_type": "code",
   "execution_count": null,
   "id": "26196dd4",
   "metadata": {},
   "outputs": [],
   "source": []
  }
 ],
 "metadata": {
  "kernelspec": {
   "display_name": "Python 3 (ipykernel)",
   "language": "python",
   "name": "python3"
  },
  "language_info": {
   "codemirror_mode": {
    "name": "ipython",
    "version": 3
   },
   "file_extension": ".py",
   "mimetype": "text/x-python",
   "name": "python",
   "nbconvert_exporter": "python",
   "pygments_lexer": "ipython3",
   "version": "3.9.12"
  }
 },
 "nbformat": 4,
 "nbformat_minor": 5
}
