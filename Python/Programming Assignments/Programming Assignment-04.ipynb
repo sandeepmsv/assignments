{
 "cells": [
  {
   "cell_type": "markdown",
   "id": "f33c2683",
   "metadata": {},
   "source": [
    "## 1. Write a Python Program to Find the Factorial of a Number?"
   ]
  },
  {
   "cell_type": "code",
   "execution_count": 2,
   "id": "b8424afb",
   "metadata": {},
   "outputs": [
    {
     "name": "stdout",
     "output_type": "stream",
     "text": [
      "Enter any number to exit  enter any character except numbers  in the keyboard 1\n",
      "1\n",
      "Enter any number to exit  enter any character except numbers  in the keyboard 2\n",
      "2\n",
      "Enter any number to exit  enter any character except numbers  in the keyboard 3\n",
      "6\n",
      "Enter any number to exit  enter any character except numbers  in the keyboard 4\n",
      "24\n",
      "Enter any number to exit  enter any character except numbers  in the keyboard 5\n",
      "120\n",
      "Enter any number to exit  enter any character except numbers  in the keyboard 6\n",
      "720\n",
      "Enter any number to exit  enter any character except numbers  in the keyboard 7\n",
      "5040\n",
      "Enter any number to exit  enter any character except numbers  in the keyboard stop\n",
      "Program has stopped\n"
     ]
    }
   ],
   "source": [
    "def factorial(n):\n",
    "    if n==1:\n",
    "        return 1\n",
    "    prod = 1\n",
    "    for i in range(2,n+1):\n",
    "        prod = prod*i\n",
    "    return prod\n",
    "\n",
    "while(1):\n",
    "    num = input(\"Enter any number to exit  enter any character except numbers  in the keyboard \")\n",
    "    if num.isnumeric():\n",
    "        print(factorial(int(num)))\n",
    "    else:\n",
    "        print(\"Program has stopped\")\n",
    "        break\n",
    "    \n",
    "        "
   ]
  },
  {
   "cell_type": "markdown",
   "id": "30e89fde",
   "metadata": {},
   "source": [
    "## 2. Write a Python Program to Display the multiplication Table?"
   ]
  },
  {
   "cell_type": "code",
   "execution_count": 3,
   "id": "cb589b5d",
   "metadata": {},
   "outputs": [],
   "source": [
    "def multiplication_table(num,ran):\n",
    "    for i in range(1,ran):\n",
    "        print(num,\"x\",i,\"=\",num*i)"
   ]
  },
  {
   "cell_type": "code",
   "execution_count": 4,
   "id": "e7eb1a0e",
   "metadata": {},
   "outputs": [
    {
     "name": "stdout",
     "output_type": "stream",
     "text": [
      "2 x 1 = 2\n",
      "2 x 2 = 4\n",
      "2 x 3 = 6\n",
      "2 x 4 = 8\n",
      "2 x 5 = 10\n",
      "2 x 6 = 12\n",
      "2 x 7 = 14\n",
      "2 x 8 = 16\n",
      "2 x 9 = 18\n",
      "2 x 10 = 20\n",
      "2 x 11 = 22\n",
      "2 x 12 = 24\n",
      "2 x 13 = 26\n",
      "2 x 14 = 28\n",
      "2 x 15 = 30\n",
      "2 x 16 = 32\n",
      "2 x 17 = 34\n",
      "2 x 18 = 36\n",
      "2 x 19 = 38\n"
     ]
    }
   ],
   "source": [
    "multiplication_table(2,20)"
   ]
  },
  {
   "cell_type": "code",
   "execution_count": 5,
   "id": "a5711477",
   "metadata": {},
   "outputs": [
    {
     "name": "stdout",
     "output_type": "stream",
     "text": [
      "5 x 1 = 5\n",
      "5 x 2 = 10\n",
      "5 x 3 = 15\n",
      "5 x 4 = 20\n",
      "5 x 5 = 25\n",
      "5 x 6 = 30\n",
      "5 x 7 = 35\n",
      "5 x 8 = 40\n",
      "5 x 9 = 45\n",
      "5 x 10 = 50\n",
      "5 x 11 = 55\n",
      "5 x 12 = 60\n",
      "5 x 13 = 65\n",
      "5 x 14 = 70\n",
      "5 x 15 = 75\n",
      "5 x 16 = 80\n",
      "5 x 17 = 85\n",
      "5 x 18 = 90\n",
      "5 x 19 = 95\n",
      "5 x 20 = 100\n",
      "5 x 21 = 105\n",
      "5 x 22 = 110\n",
      "5 x 23 = 115\n",
      "5 x 24 = 120\n",
      "5 x 25 = 125\n",
      "5 x 26 = 130\n",
      "5 x 27 = 135\n",
      "5 x 28 = 140\n",
      "5 x 29 = 145\n",
      "5 x 30 = 150\n",
      "5 x 31 = 155\n",
      "5 x 32 = 160\n",
      "5 x 33 = 165\n",
      "5 x 34 = 170\n",
      "5 x 35 = 175\n",
      "5 x 36 = 180\n",
      "5 x 37 = 185\n",
      "5 x 38 = 190\n",
      "5 x 39 = 195\n",
      "5 x 40 = 200\n",
      "5 x 41 = 205\n",
      "5 x 42 = 210\n",
      "5 x 43 = 215\n",
      "5 x 44 = 220\n",
      "5 x 45 = 225\n",
      "5 x 46 = 230\n",
      "5 x 47 = 235\n",
      "5 x 48 = 240\n",
      "5 x 49 = 245\n"
     ]
    }
   ],
   "source": [
    "multiplication_table(5,50)"
   ]
  },
  {
   "cell_type": "markdown",
   "id": "cdf3c06e",
   "metadata": {},
   "source": [
    "## 3. Write a Python Program to Print the Fibonacci sequence?"
   ]
  },
  {
   "cell_type": "code",
   "execution_count": 7,
   "id": "08f1ddb7",
   "metadata": {
    "scrolled": true
   },
   "outputs": [
    {
     "name": "stdout",
     "output_type": "stream",
     "text": [
      "Enter any number for Fibonacci sequence to stop enter any character except numbers  in the keyboard:1\n",
      "0\n",
      "Enter any number for Fibonacci sequence to stop enter any character except numbers  in the keyboard:2\n",
      "1\n",
      "Enter any number for Fibonacci sequence to stop enter any character except numbers  in the keyboard:3\n",
      "0 1 1 \n",
      "Enter any number for Fibonacci sequence to stop enter any character except numbers  in the keyboard:4\n",
      "0 1 1 2 \n",
      "Enter any number for Fibonacci sequence to stop enter any character except numbers  in the keyboard:5\n",
      "0 1 1 2 3 \n",
      "Enter any number for Fibonacci sequence to stop enter any character except numbers  in the keyboard:6\n",
      "0 1 1 2 3 5 \n",
      "Enter any number for Fibonacci sequence to stop enter any character except numbers  in the keyboard:7\n",
      "0 1 1 2 3 5 8 \n",
      "Enter any number for Fibonacci sequence to stop enter any character except numbers  in the keyboard:8\n",
      "0 1 1 2 3 5 8 13 \n",
      "Enter any number for Fibonacci sequence to stop enter any character except numbers  in the keyboard:stop\n",
      "Program has stopped\n"
     ]
    }
   ],
   "source": [
    "def fibonacci_sequence(n):\n",
    "    a = 0\n",
    "    b = 1\n",
    "    if n==1:\n",
    "        print(a)\n",
    "        return \n",
    "    if n==2:\n",
    "        print(b)\n",
    "        return \n",
    "    print(a,end=\" \")\n",
    "    print(b,end=\" \")\n",
    "    for i in range(2,n):\n",
    "        c = a+b\n",
    "        a = b\n",
    "        b = c\n",
    "        print(c,end=\" \")\n",
    "    print()\n",
    "while(1):\n",
    "    n = input(\"Enter any number for Fibonacci sequence to stop enter any character except numbers  in the keyboard:\")\n",
    "    if n.isnumeric():\n",
    "        fibonacci_sequence(int(n))\n",
    "    else:\n",
    "        print(\"Program has stopped\")\n",
    "        break\n",
    "    "
   ]
  },
  {
   "cell_type": "markdown",
   "id": "2c2b2499",
   "metadata": {},
   "source": [
    "## 4. Write a Python Program to Check Armstrong Number?"
   ]
  },
  {
   "cell_type": "code",
   "execution_count": 8,
   "id": "ca6c7719",
   "metadata": {},
   "outputs": [
    {
     "name": "stdout",
     "output_type": "stream",
     "text": [
      "enter any number to stop enter any character except numbers in the keyboard:1\n",
      "1 is Armstrong Number\n",
      "enter any number to stop enter any character except numbers in the keyboard:2\n",
      "2 is Armstrong Number\n",
      "enter any number to stop enter any character except numbers in the keyboard:10\n",
      "10 is not Armstrong Number\n",
      "enter any number to stop enter any character except numbers in the keyboard:20\n",
      "20 is not Armstrong Number\n",
      "enter any number to stop enter any character except numbers in the keyboard:100\n",
      "100 is not Armstrong Number\n",
      "enter any number to stop enter any character except numbers in the keyboard:153\n",
      "153 is Armstrong Number\n",
      "enter any number to stop enter any character except numbers in the keyboard:stop\n",
      "Program has stopped\n"
     ]
    }
   ],
   "source": [
    "def isArmstrong(num):\n",
    "    power = len(str(num))\n",
    "    temp = num\n",
    "    a = 0\n",
    "    while temp:\n",
    "        k = temp%10\n",
    "        a += k**power\n",
    "        temp = temp//10\n",
    "    if a==num:\n",
    "        return 1\n",
    "    else:\n",
    "        return 0\n",
    "while(1):\n",
    "    num = input(\"enter any number to stop enter any character except numbers in the keyboard:\")\n",
    "    if num.isnumeric():\n",
    "        if isArmstrong(int(num)):\n",
    "            print(num,\"is Armstrong Number\")\n",
    "        else:\n",
    "            print(num,\"is not Armstrong Number\")\n",
    "    else:\n",
    "        print(\"Program has stopped\")\n",
    "        break"
   ]
  },
  {
   "cell_type": "markdown",
   "id": "598ddf20",
   "metadata": {},
   "source": [
    "## 5. Write a Python Program to Find Armstrong Number in an Interval?"
   ]
  },
  {
   "cell_type": "code",
   "execution_count": 9,
   "id": "fcc2c8ad",
   "metadata": {},
   "outputs": [],
   "source": [
    "def isArmstrong(num):\n",
    "    power = len(str(num))\n",
    "    temp = num\n",
    "    a = 0\n",
    "    while temp:\n",
    "        k = temp%10\n",
    "        a += k**power\n",
    "        temp = temp//10\n",
    "    if a==num:\n",
    "        return 1\n",
    "    else:\n",
    "        return 0\n",
    "def Armstrong(start,end):\n",
    "    Armstrong_num = []\n",
    "    for i in range(start,end):\n",
    "        if isArmstrong(i):\n",
    "            Armstrong_num.append(i)\n",
    "    return Armstrong_num\n"
   ]
  },
  {
   "cell_type": "code",
   "execution_count": 10,
   "id": "bded4593",
   "metadata": {},
   "outputs": [
    {
     "data": {
      "text/plain": [
       "[1, 2, 3, 4, 5, 6, 7, 8, 9, 153]"
      ]
     },
     "execution_count": 10,
     "metadata": {},
     "output_type": "execute_result"
    }
   ],
   "source": [
    "Armstrong(1,200)"
   ]
  },
  {
   "cell_type": "code",
   "execution_count": 11,
   "id": "26781d3f",
   "metadata": {},
   "outputs": [
    {
     "data": {
      "text/plain": [
       "[153, 370, 371, 407, 1634, 8208, 9474, 54748, 92727, 93084]"
      ]
     },
     "execution_count": 11,
     "metadata": {},
     "output_type": "execute_result"
    }
   ],
   "source": [
    "Armstrong(100,100000)"
   ]
  },
  {
   "cell_type": "markdown",
   "id": "c0aaabbd",
   "metadata": {},
   "source": [
    "## 6. Write a Python Program to Find the Sum of Natural Numbers?"
   ]
  },
  {
   "cell_type": "code",
   "execution_count": 12,
   "id": "91d8876c",
   "metadata": {},
   "outputs": [
    {
     "name": "stdout",
     "output_type": "stream",
     "text": [
      "enter num to find the first n sum of natural numbers to stop enter any  character except numbers2\n",
      "First sum of n natural numbers: 2\n",
      "enter num to find the first n sum of natural numbers to stop enter any  character except numbers3\n",
      "First sum of n natural numbers: 6\n",
      "enter num to find the first n sum of natural numbers to stop enter any  character except numbers4\n",
      "First sum of n natural numbers: 8\n",
      "enter num to find the first n sum of natural numbers to stop enter any  character except numbers5\n",
      "First sum of n natural numbers: 15\n",
      "enter num to find the first n sum of natural numbers to stop enter any  character except numbers6\n",
      "First sum of n natural numbers: 18\n",
      "enter num to find the first n sum of natural numbers to stop enter any  character except numbers7\n",
      "First sum of n natural numbers: 28\n",
      "enter num to find the first n sum of natural numbers to stop enter any  character except numbers8\n",
      "First sum of n natural numbers: 32\n",
      "enter num to find the first n sum of natural numbers to stop enter any  character except numbers10\n",
      "First sum of n natural numbers: 50\n",
      "enter num to find the first n sum of natural numbers to stop enter any  character except numbers100\n",
      "First sum of n natural numbers: 5000\n",
      "enter num to find the first n sum of natural numbers to stop enter any  character except numbersstop\n",
      "Program has stopped\n"
     ]
    }
   ],
   "source": [
    "def sum_of_natural_numbers(n):\n",
    "    return n*((n+1)//2)\n",
    "while(1):\n",
    "    num=input(\"enter num to find the first n sum of natural numbers to stop enter any  character except numbers\")\n",
    "    if num.isnumeric():\n",
    "        print(\"First sum of n natural numbers:\",sum_of_natural_numbers(int(num)))\n",
    "    else:\n",
    "        print(\"Program has stopped\")\n",
    "        break\n",
    "        "
   ]
  },
  {
   "cell_type": "code",
   "execution_count": null,
   "id": "803d62f6",
   "metadata": {},
   "outputs": [],
   "source": []
  }
 ],
 "metadata": {
  "kernelspec": {
   "display_name": "Python 3 (ipykernel)",
   "language": "python",
   "name": "python3"
  },
  "language_info": {
   "codemirror_mode": {
    "name": "ipython",
    "version": 3
   },
   "file_extension": ".py",
   "mimetype": "text/x-python",
   "name": "python",
   "nbconvert_exporter": "python",
   "pygments_lexer": "ipython3",
   "version": "3.9.12"
  }
 },
 "nbformat": 4,
 "nbformat_minor": 5
}
