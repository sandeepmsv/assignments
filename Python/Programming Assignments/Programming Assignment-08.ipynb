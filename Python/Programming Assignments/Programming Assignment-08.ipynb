{
 "cells": [
  {
   "cell_type": "markdown",
   "id": "05182fb1",
   "metadata": {},
   "source": [
    "## 1. Write a Python Program to Add Two Matrices?"
   ]
  },
  {
   "cell_type": "code",
   "execution_count": 9,
   "id": "5da6cf5d",
   "metadata": {},
   "outputs": [
    {
     "name": "stdout",
     "output_type": "stream",
     "text": [
      "Enter no of rows and columns for matrix13 3\n",
      "Matrix1\n",
      "1 2 3\n",
      "3 4 5\n",
      "6 7 8\n",
      "Matrix2\n",
      "9 10 11\n",
      "11 12 13\n",
      "14 15 16\n",
      "Addition of two matrices:  [[10, 12, 14], [14, 16, 18], [20, 22, 24]]\n"
     ]
    }
   ],
   "source": [
    "# m,n are no of rows and no of columns\n",
    "def Addition_of_two_matrices(mat1,mat2):\n",
    "    result = [[mat1[i][j] + mat2[i][j]  for j in range(len(mat1[0]))] for i in range(len(mat1))]\n",
    "    return result\n",
    "\n",
    "m,n = map(int,input(\"Enter no of rows and columns for matrix1\").split())\n",
    "print(\"Matrix1\")\n",
    "mat1= [list(map(int,input().split())) for i in range(m)]\n",
    "print(\"Matrix2\")\n",
    "mat2= [list(map(int,input().split())) for i in range(m)]\n",
    "\n",
    "print(\"Addition of two matrices: \",Addition_of_two_matrices(mat1,mat2))\n",
    "    \n",
    "\n"
   ]
  },
  {
   "cell_type": "markdown",
   "id": "8784c734",
   "metadata": {},
   "source": [
    "## 2. Write a Python Program to Multiply Two Matrices?"
   ]
  },
  {
   "cell_type": "code",
   "execution_count": 12,
   "id": "ef06a192",
   "metadata": {},
   "outputs": [
    {
     "name": "stdout",
     "output_type": "stream",
     "text": [
      "Enter no of rows and columns for matrix13 3\n",
      "Matrix1\n",
      "1 2 3\n",
      "3 4 5\n",
      "5 6 7\n",
      "Enter no of rows and columns for matrix23 4\n",
      "Matrix2\n",
      "8 9 10 11\n",
      "12 13 14 15\n",
      "16 17 18 19\n",
      "Matrix Multiplication [[80, 86, 92, 98], [152, 164, 176, 188], [224, 242, 260, 278]]\n"
     ]
    }
   ],
   "source": [
    "def Multiply_two_matrices(mat1,mat2,m1,n1,m2,n2):\n",
    "    if n1!=m2:\n",
    "        print(\"Matrix sizes are not compatible\")\n",
    "    # product matrix with m1*n2\n",
    "    mat= [[0 for i in range(n2)] for j in range(m1)]\n",
    "    # Matrix Multiplication\n",
    "    for i in range(m1):\n",
    "        for j in range(n2):\n",
    "            sum1 = 0\n",
    "            for k in range(n1):\n",
    "                sum1+= mat1[i][k]*mat2[k][j]\n",
    "            mat[i][j] = sum1\n",
    "    return mat\n",
    "    \n",
    "    \n",
    "    \n",
    "m1,n1 = map(int,input(\"Enter no of rows and columns for matrix1\").split())\n",
    "print(\"Matrix1\")\n",
    "mat1= [list(map(int,input().split())) for i in range(m)]\n",
    "m2,n2 = map(int,input(\"Enter no of rows and columns for matrix2\").split())\n",
    "print(\"Matrix2\")\n",
    "mat2= [list(map(int,input().split())) for i in range(m)]\n",
    "print(\"Matrix Multiplication\",Multiply_two_matrices(mat1,mat2,m1,n1,m2,n2))"
   ]
  },
  {
   "cell_type": "markdown",
   "id": "f334b7f6",
   "metadata": {},
   "source": [
    "## 3. Write a Python Program to Transpose a Matrix?"
   ]
  },
  {
   "cell_type": "code",
   "execution_count": 15,
   "id": "83c0dfab",
   "metadata": {},
   "outputs": [
    {
     "name": "stdout",
     "output_type": "stream",
     "text": [
      "Enter no of rows and columns for matrix13 4\n",
      "Matrix\n",
      "1 2 3 4\n",
      "5 6 7 8\n",
      "9 10 11 12\n",
      "Transpose of a matrix: [[1, 5, 9], [2, 6, 10], [3, 7, 11], [4, 8, 12]]\n"
     ]
    }
   ],
   "source": [
    "def Transpose_Matrix(mat,m,n):\n",
    "    transpose = [[mat[j][i] for j in range(m)] for i in range(n)]\n",
    "    return transpose\n",
    "\n",
    "m,n = map(int,input(\"Enter no of rows and columns for matrix1\").split())\n",
    "print(\"Matrix\")\n",
    "mat= [list(map(int,input().split())) for i in range(m)]\n",
    "print(\"Transpose of a matrix:\",Transpose_Matrix(mat,m,n))"
   ]
  },
  {
   "cell_type": "markdown",
   "id": "024a3faf",
   "metadata": {},
   "source": [
    "## 4. Write a Python Program to Sort Words in Alphabetic Order?"
   ]
  },
  {
   "cell_type": "code",
   "execution_count": 17,
   "id": "f0bb6c5d",
   "metadata": {},
   "outputs": [
    {
     "name": "stdout",
     "output_type": "stream",
     "text": [
      "Enter the sentences to be sorted in Alphabetical orderMy name is Sandeep\n",
      "['is', 'my', 'name', 'sandeep']\n"
     ]
    }
   ],
   "source": [
    "s = input(\"Enter the sentences to be sorted in Alphabetical order\")\n",
    "s = s.split()\n",
    "s = [i.lower() for i in s]\n",
    "s.sort()\n",
    "print(s)\n"
   ]
  },
  {
   "cell_type": "markdown",
   "id": "34087586",
   "metadata": {},
   "source": [
    "## 5. Write a Python Program to Remove Punctuation From a String?"
   ]
  },
  {
   "cell_type": "code",
   "execution_count": 18,
   "id": "4878e06d",
   "metadata": {},
   "outputs": [
    {
     "name": "stdout",
     "output_type": "stream",
     "text": [
      "Enter sentence for removal of punctuationsmy,?,/'\" name is S.,;'andeep\n",
      "my name is Sandeep\n"
     ]
    }
   ],
   "source": [
    "import string\n",
    "s = input(\"Enter sentence for removal of punctuations\") \n",
    "s= s.translate(str.maketrans('', '', string.punctuation))\n",
    "print(s)"
   ]
  },
  {
   "cell_type": "code",
   "execution_count": null,
   "id": "c9833d1c",
   "metadata": {},
   "outputs": [],
   "source": []
  }
 ],
 "metadata": {
  "kernelspec": {
   "display_name": "Python 3 (ipykernel)",
   "language": "python",
   "name": "python3"
  },
  "language_info": {
   "codemirror_mode": {
    "name": "ipython",
    "version": 3
   },
   "file_extension": ".py",
   "mimetype": "text/x-python",
   "name": "python",
   "nbconvert_exporter": "python",
   "pygments_lexer": "ipython3",
   "version": "3.9.12"
  }
 },
 "nbformat": 4,
 "nbformat_minor": 5
}
