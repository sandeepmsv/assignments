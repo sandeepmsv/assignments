{
 "cells": [
  {
   "cell_type": "markdown",
   "id": "03920a1f",
   "metadata": {},
   "source": [
    "## 1. Write a Python program to print &quot;Hello Python&quot;?"
   ]
  },
  {
   "cell_type": "code",
   "execution_count": 1,
   "id": "a7ac57e2",
   "metadata": {},
   "outputs": [
    {
     "name": "stdout",
     "output_type": "stream",
     "text": [
      "Hello Python\n"
     ]
    }
   ],
   "source": [
    "print(\"Hello Python\")"
   ]
  },
  {
   "cell_type": "markdown",
   "id": "2ff5b33a",
   "metadata": {},
   "source": [
    "## 2.Write a Python program to do arithmetical operations addition and division.?"
   ]
  },
  {
   "cell_type": "code",
   "execution_count": 4,
   "id": "e25a6834",
   "metadata": {},
   "outputs": [
    {
     "name": "stdout",
     "output_type": "stream",
     "text": [
      "Select choice:\n",
      "1.Addition \n",
      "2.Division\n",
      "3.stop\n",
      "\n",
      "1\n",
      "Performing Addition\n",
      "2 3 4 5 6 7 8 9 10 2 23 2 4 45 46\n",
      "Addition: 176\n",
      "Select choice:\n",
      "1.Addition \n",
      "2.Division\n",
      "3.stop\n",
      "\n",
      "2\n",
      "Performing Division\n",
      "enter dividend:\n",
      "32\n",
      "enter divisor:\n",
      "2\n",
      "Division: 16.0\n",
      "Select choice:\n",
      "1.Addition \n",
      "2.Division\n",
      "3.stop\n",
      "\n",
      "3\n",
      "Program has stopped\n"
     ]
    }
   ],
   "source": [
    "\n",
    "while(1):\n",
    "    print(\"Select choice:\\n1.Addition \\n2.Division\\n3.stop\\n\")\n",
    "    choice = int(input())\n",
    "    if choice==1:\n",
    "        print(\"Performing Addition\")\n",
    "        num = input().split()\n",
    "        num = (map(int, num))\n",
    "        sum1 = 0\n",
    "        for i in num:\n",
    "            sum1+=i\n",
    "        print(\"Addition:\",sum1)\n",
    "    if choice==2:\n",
    "        print(\"Performing Division\")\n",
    "        print(\"enter dividend:\")\n",
    "        dividend = int(input())\n",
    "        print(\"enter divisor:\")\n",
    "        divisor = int(input())\n",
    "        print(\"Division:\",dividend/divisor)\n",
    "    if choice==3:\n",
    "        print(\"Program has stopped\")\n",
    "        break\n",
    "    \n",
    "        \n"
   ]
  },
  {
   "cell_type": "markdown",
   "id": "650e1dde",
   "metadata": {},
   "source": [
    "## 3. Write a Python program to find the area of a triangle?"
   ]
  },
  {
   "cell_type": "code",
   "execution_count": 13,
   "id": "425f3ad0",
   "metadata": {},
   "outputs": [],
   "source": [
    "def Area():\n",
    "    print(\"select one choice: \\n1.Having height and base\\n2.Having 3 sides\")\n",
    "    choice = float(input())\n",
    "    if choice==1:\n",
    "        print(\"Enter height of traingle\")\n",
    "        h = float(input())\n",
    "        print(\"Enter base of trainge\")\n",
    "        b = float(input())\n",
    "        area = (b*h)*0.5\n",
    "        print(\"Area of a triangle:\",area)\n",
    "    elif choice==2:\n",
    "        a = float(input(\"Enter first side:\"))\n",
    "        b = float(input(\"Enter second side:\"))\n",
    "        c = float(input(\"Enter third side:\"))\n",
    "        s = (a+b+c)/2\n",
    "        area = (s*(s-a)*(s-b)*(s-c))**0.5\n",
    "        print(\"Area of triangle:\",area)\n",
    "    else:\n",
    "        print(\"you have choosen wrong choice\")"
   ]
  },
  {
   "cell_type": "code",
   "execution_count": 14,
   "id": "23e76354",
   "metadata": {},
   "outputs": [
    {
     "name": "stdout",
     "output_type": "stream",
     "text": [
      "select one choice: \n",
      "1.Having height and base\n",
      "2.Having 3 sides\n",
      "1\n",
      "Enter height of traingle\n",
      "3\n",
      "Enter base of trainge\n",
      "4\n",
      "Area of a triangle: 6.0\n"
     ]
    }
   ],
   "source": [
    "Area()"
   ]
  },
  {
   "cell_type": "code",
   "execution_count": 15,
   "id": "74242d3a",
   "metadata": {},
   "outputs": [
    {
     "name": "stdout",
     "output_type": "stream",
     "text": [
      "select one choice: \n",
      "1.Having height and base\n",
      "2.Having 3 sides\n",
      "2\n",
      "Enter first side:3\n",
      "Enter second side:4\n",
      "Enter third side:5\n",
      "Area of triangle: 6.0\n"
     ]
    }
   ],
   "source": [
    "Area()"
   ]
  },
  {
   "cell_type": "code",
   "execution_count": 16,
   "id": "c55ef916",
   "metadata": {},
   "outputs": [
    {
     "name": "stdout",
     "output_type": "stream",
     "text": [
      "select one choice: \n",
      "1.Having height and base\n",
      "2.Having 3 sides\n",
      "3\n",
      "you have choosen wrong choice\n"
     ]
    }
   ],
   "source": [
    "Area()"
   ]
  },
  {
   "cell_type": "markdown",
   "id": "1429a7da",
   "metadata": {},
   "source": [
    "## 4. Write a Python program to swap two variables?"
   ]
  },
  {
   "cell_type": "code",
   "execution_count": 19,
   "id": "8b443d63",
   "metadata": {},
   "outputs": [
    {
     "name": "stdout",
     "output_type": "stream",
     "text": [
      "Enter First Number:100\n",
      "Enter Second Number:99\n",
      "Before Swapping: 100 99\n",
      "After Swapping: 99 100\n"
     ]
    }
   ],
   "source": [
    "def swap(a,b):\n",
    "    temp = a\n",
    "    a=b\n",
    "    b = temp\n",
    "    return a,b\n",
    "a=int(input(\"Enter First Number:\"))\n",
    "b =int(input(\"Enter Second Number:\"))\n",
    "print(\"Before Swapping:\",a,b)\n",
    "a,b = swap(a,b)\n",
    "print(\"After Swapping:\",a,b)\n"
   ]
  },
  {
   "cell_type": "markdown",
   "id": "67ae119c",
   "metadata": {},
   "source": [
    "## 5. Write a Python program to generate a random number?"
   ]
  },
  {
   "cell_type": "code",
   "execution_count": 27,
   "id": "c00d98ad",
   "metadata": {},
   "outputs": [
    {
     "name": "stdout",
     "output_type": "stream",
     "text": [
      "Random_number: 624\n",
      "Random_number: 9199061\n"
     ]
    }
   ],
   "source": [
    "from random import randint\n",
    "\n",
    "def generatenumber(start=0, end=10000000):\n",
    "    random_number = randint(start,end)\n",
    "    return random_number\n",
    "print(\"Random_number:\",generatenumber(0,1000))\n",
    "print(\"Random_number:\",generatenumber())\n"
   ]
  },
  {
   "cell_type": "code",
   "execution_count": null,
   "id": "a12dc29c",
   "metadata": {},
   "outputs": [],
   "source": []
  }
 ],
 "metadata": {
  "kernelspec": {
   "display_name": "Python 3 (ipykernel)",
   "language": "python",
   "name": "python3"
  },
  "language_info": {
   "codemirror_mode": {
    "name": "ipython",
    "version": 3
   },
   "file_extension": ".py",
   "mimetype": "text/x-python",
   "name": "python",
   "nbconvert_exporter": "python",
   "pygments_lexer": "ipython3",
   "version": "3.9.12"
  }
 },
 "nbformat": 4,
 "nbformat_minor": 5
}
