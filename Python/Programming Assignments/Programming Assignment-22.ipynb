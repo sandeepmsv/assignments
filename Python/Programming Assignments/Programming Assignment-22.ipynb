{
 "cells": [
  {
   "cell_type": "markdown",
   "id": "e7b4c46f",
   "metadata": {},
   "source": [
    "## 1.Create a function that takes three parameters where:\n",
    "• x is the start of the range (inclusive).\n",
    "\n",
    "• y is the end of the range (inclusive).\n",
    "\n",
    "• n is the divisor to be checked against.\n",
    "\n",
    "Return an ordered list with numbers in the range that are divisible by the third parameter n. \n",
    "\n",
    "Return an empty list if there are no numbers that are divisible by n.\n",
    "\n",
    "Examples\n",
    "\n",
    "list_operation(1, 10, 3) ➞ [3, 6, 9]\n",
    "\n",
    "list_operation(7, 9, 2) ➞ [8]\n",
    "\n",
    "list_operation(15, 20, 7) ➞ []\n"
   ]
  },
  {
   "cell_type": "code",
   "execution_count": 2,
   "id": "ff94dc13",
   "metadata": {},
   "outputs": [
    {
     "name": "stdout",
     "output_type": "stream",
     "text": [
      "x is the start of the range:1\n",
      "y is the end of the range:10\n",
      "n is the divisor to be checked against:3\n",
      "list_operation(1,10,3):[3, 6, 9]\n"
     ]
    }
   ],
   "source": [
    "def list_operation(x,y,n):\n",
    "    ans = []\n",
    "    for i in range(x,y+1):\n",
    "        if i%n==0:\n",
    "            ans.append(i)\n",
    "    print(f\"list_operation({x},{y},{n}):{ans}\")\n",
    "x = int(input(\"x is the start of the range:\"))\n",
    "y = int(input(\"y is the end of the range:\"))\n",
    "n = int(input(\"n is the divisor to be checked against:\"))\n",
    "list_operation(x,y,n)    "
   ]
  },
  {
   "cell_type": "code",
   "execution_count": 3,
   "id": "6fd0407f",
   "metadata": {},
   "outputs": [
    {
     "name": "stdout",
     "output_type": "stream",
     "text": [
      "list_operation(7,9,2):[8]\n",
      "list_operation(15,20,7):[]\n"
     ]
    }
   ],
   "source": [
    "list_operation(7,9,2) \n",
    "list_operation(15,20,7)  "
   ]
  },
  {
   "cell_type": "markdown",
   "id": "569d5e3e",
   "metadata": {},
   "source": [
    "## 2. Create a function that takes in two lists and returns True if the second list follows the first list by one element, and False otherwise. In other words, determine if the second list is the first list shifted to the right by 1.\n",
    "\n",
    "Examples\n",
    "\n",
    "simon_says([1, 2], [5, 1]) ➞ True\n",
    "\n",
    "simon_says([1, 2], [5, 5]) ➞ False\n",
    "\n",
    "simon_says([1, 2, 3, 4, 5], [0, 1, 2, 3, 4]) ➞ True\n",
    "\n",
    "simon_says([1, 2, 3, 4, 5], [5, 5, 1, 2, 3]) ➞ False\n",
    "\n",
    "Notes\n",
    "\n",
    "•\tBoth input lists will be of the same length, and will have a minimum length of 2.\n",
    "\n",
    "•\tThe values of the 0-indexed element in the second list and the n-1th indexed element in the first list do not matter.\n"
   ]
  },
  {
   "cell_type": "code",
   "execution_count": 4,
   "id": "60aa74e4",
   "metadata": {},
   "outputs": [
    {
     "name": "stdout",
     "output_type": "stream",
     "text": [
      "Enter list1 with spaces:1 2\n",
      "Enter list2 with spaces:5 1\n",
      "simon_says([1, 2],[5, 1]):True\n"
     ]
    }
   ],
   "source": [
    "def simon_says(l1,l2):\n",
    "    if len(l1)==len(l2) and len(l1)>=2 and len(l2)>=2:\n",
    "        if (l1[:len(l1)-1]==l2[1:]):\n",
    "            print(f\"simon_says({l1},{l2}):True\")\n",
    "        else:\n",
    "            print(f\"simon_says({l1},{l2}):False\")\n",
    "l1 = list(map(int,input(\"Enter list1 with spaces:\").split()))\n",
    "l2 = list(map(int,input(\"Enter list2 with spaces:\").split()))\n",
    "simon_says(l1,l2)\n"
   ]
  },
  {
   "cell_type": "code",
   "execution_count": 5,
   "id": "a8877338",
   "metadata": {},
   "outputs": [
    {
     "name": "stdout",
     "output_type": "stream",
     "text": [
      "simon_says([1, 2],[5, 5]):False\n",
      "simon_says([1, 2, 3, 4, 5],[0, 1, 2, 3, 4]):True\n",
      "simon_says([1, 2, 3, 4, 5],[5, 5, 1, 2, 3]):False\n"
     ]
    }
   ],
   "source": [
    "simon_says([1, 2], [5, 5])\n",
    "simon_says([1, 2, 3, 4, 5], [0, 1, 2, 3, 4])\n",
    "simon_says([1, 2, 3, 4, 5], [5, 5, 1, 2, 3])\n",
    "\n"
   ]
  },
  {
   "cell_type": "markdown",
   "id": "e70b8382",
   "metadata": {},
   "source": [
    "## 3. A group of friends have decided to start a secret society. The name will be the first letter of each of their names, sorted in alphabetical order.\n",
    "\n",
    "Create a function that takes in a list of names and returns the name of the secret society.\n",
    "\n",
    "Examples\n",
    "\n",
    "society_name([\"Adam\", \"Sarah\", \"Malcolm\"]) ➞ \"AMS\"\n",
    "\n",
    "society_name([\"Harry\", \"Newt\", \"Luna\", \"Cho\"]) ➞ \"CHLN\"\n",
    "\n",
    "society_name([\"Phoebe\", \"Chandler\", \"Rachel\", \"Ross\", \"Monica\", \"Joey\"])\n"
   ]
  },
  {
   "cell_type": "code",
   "execution_count": 6,
   "id": "870e872c",
   "metadata": {},
   "outputs": [
    {
     "name": "stdout",
     "output_type": "stream",
     "text": [
      "Enter list elements:[\"Adam\", \"Sarah\", \"Malcolm\"]\n",
      "society_name(['Adam', 'Malcolm', 'Sarah']):AMS\n"
     ]
    }
   ],
   "source": [
    "def society_name(l):\n",
    "    l.sort()\n",
    "    s = \"\"\n",
    "    for i in l:\n",
    "        s+=i[0]\n",
    "    print(f\"society_name({l}):{s}\")\n",
    "l = eval(input(\"Enter list elements:\"))\n",
    "society_name(l)"
   ]
  },
  {
   "cell_type": "code",
   "execution_count": 7,
   "id": "425b9733",
   "metadata": {},
   "outputs": [
    {
     "name": "stdout",
     "output_type": "stream",
     "text": [
      "society_name(['Cho', 'Harry', 'Luna', 'Newt']):CHLN\n",
      "society_name(['Chandler', 'Joey', 'Monica', 'Phoebe', 'Rachel', 'Ross']):CJMPRR\n"
     ]
    }
   ],
   "source": [
    "society_name([\"Harry\", \"Newt\", \"Luna\", \"Cho\"])\n",
    "society_name([\"Phoebe\", \"Chandler\", \"Rachel\", \"Ross\", \"Monica\", \"Joey\"])"
   ]
  },
  {
   "cell_type": "markdown",
   "id": "2329d187",
   "metadata": {},
   "source": [
    "## 4.An isogram is a word that has no duplicate letters. Create a function that takes a string and returns either True or False depending on whether or not it's an \"isogram\".\n",
    "\n",
    "Examples\n",
    "\n",
    "is_isogram(\"Algorism\") ➞ True\n",
    "\n",
    "is_isogram(\"PasSword\") ➞ False\n",
    "\n",
    "\\# Not case sensitive.\n",
    "\n",
    "is_isogram(\"Consecutive\") ➞ False\n",
    "\n",
    "Notes\n",
    "\n",
    "•\tIgnore letter case (should not be case sensitive).\n",
    "\n",
    "•\tAll test cases contain valid one word strings.\n"
   ]
  },
  {
   "cell_type": "code",
   "execution_count": 17,
   "id": "37d9d426",
   "metadata": {},
   "outputs": [
    {
     "name": "stdout",
     "output_type": "stream",
     "text": [
      "Enter string to find isogram or not:Algorism\n",
      "is_isogram(Algorism):True\n"
     ]
    }
   ],
   "source": [
    "def is_isogram(s):\n",
    "    mpp = {}\n",
    "    for i in range(len(s)):\n",
    "        if s[i].lower() not in mpp:\n",
    "            mpp[s[i].lower()] = 1\n",
    "        else:\n",
    "            mpp[s[i].lower()]+=1\n",
    "    flag = 1\n",
    "    for key,value in mpp.items():\n",
    "        if value>1:\n",
    "            flag=0\n",
    "            print(f\"is_isogram({s}):False\")\n",
    "            break\n",
    "    if flag:\n",
    "        print(f\"is_isogram({s}):True\")\n",
    "s = input(\"Enter string to find isogram or not:\")\n",
    "is_isogram(s)\n",
    "        "
   ]
  },
  {
   "cell_type": "code",
   "execution_count": 18,
   "id": "0532db2b",
   "metadata": {},
   "outputs": [
    {
     "name": "stdout",
     "output_type": "stream",
     "text": [
      "is_isogram(PasSword):False\n",
      "is_isogram(Consecutive):False\n"
     ]
    }
   ],
   "source": [
    "is_isogram(\"PasSword\")\n",
    "is_isogram(\"Consecutive\")\n"
   ]
  },
  {
   "cell_type": "markdown",
   "id": "6bdc3803",
   "metadata": {},
   "source": [
    "## 5.Create a function that takes a string and returns True or False, depending on whether the characters are in order or not.\n",
    "\n",
    "Examples\n",
    "\n",
    "is_in_order(\"abc\") ➞ True\n",
    "\n",
    "is_in_order(\"edabit\") ➞ False\n",
    "\n",
    "is_in_order(\"123\") ➞ True\n",
    "\n",
    "is_in_order(\"xyzz\") ➞ True\n",
    "\n",
    "Notes\n",
    "\n",
    "* You don't have to handle empty strings.\n"
   ]
  },
  {
   "cell_type": "code",
   "execution_count": 19,
   "id": "f55d7fd2",
   "metadata": {},
   "outputs": [
    {
     "name": "stdout",
     "output_type": "stream",
     "text": [
      "Enter string:abc\n",
      "is_in_order(abc):True\n"
     ]
    }
   ],
   "source": [
    "def is_in_order(s):\n",
    "    s1 = ''.join(sorted(s))\n",
    "    if s1==s:\n",
    "        print(f\"is_in_order({s}):True\")\n",
    "    else:\n",
    "        print(f\"is_in_order({s}):False\")\n",
    "s = input(\"Enter string:\")\n",
    "is_in_order(s)\n",
    "    "
   ]
  },
  {
   "cell_type": "code",
   "execution_count": 20,
   "id": "68c32f17",
   "metadata": {},
   "outputs": [
    {
     "name": "stdout",
     "output_type": "stream",
     "text": [
      "is_in_order(edabit):False\n",
      "is_in_order(123):True\n",
      "is_in_order(xyzz):True\n"
     ]
    }
   ],
   "source": [
    "is_in_order(\"edabit\")\n",
    "\n",
    "is_in_order(\"123\")\n",
    "\n",
    "is_in_order(\"xyzz\")"
   ]
  },
  {
   "cell_type": "code",
   "execution_count": null,
   "id": "d0ae6867",
   "metadata": {},
   "outputs": [],
   "source": []
  }
 ],
 "metadata": {
  "kernelspec": {
   "display_name": "Python 3 (ipykernel)",
   "language": "python",
   "name": "python3"
  },
  "language_info": {
   "codemirror_mode": {
    "name": "ipython",
    "version": 3
   },
   "file_extension": ".py",
   "mimetype": "text/x-python",
   "name": "python",
   "nbconvert_exporter": "python",
   "pygments_lexer": "ipython3",
   "version": "3.9.13"
  }
 },
 "nbformat": 4,
 "nbformat_minor": 5
}
