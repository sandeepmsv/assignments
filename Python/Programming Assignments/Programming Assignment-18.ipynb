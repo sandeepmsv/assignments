{
 "cells": [
  {
   "cell_type": "markdown",
   "id": "d400c20b",
   "metadata": {},
   "source": [
    "## 1.Create a function that takes a list of non-negative integers and strings and return a new list without the strings.\n",
    "\n",
    "Examples\n",
    "\n",
    "filter_list([1, 2, \"a\", \"b\"]) ➞ [1, 2]\n",
    "\n",
    "filter_list([1, \"a\", \"b\", 0, 15]) ➞ [1, 0, 15]\n",
    "\n",
    "filter_list([1, 2, \"aasf\", \"1\", \"123\", 123]) ➞ [1, 2, 123]\n"
   ]
  },
  {
   "cell_type": "code",
   "execution_count": 10,
   "id": "5f59078d",
   "metadata": {},
   "outputs": [
    {
     "name": "stdout",
     "output_type": "stream",
     "text": [
      "Enter lsit[1,2,\"a\",\"b\"]\n",
      "filter_list([1, 2, 'a', 'b']):[1, 2]\n"
     ]
    }
   ],
   "source": [
    "def filter_list():\n",
    "    l = eval(input(\"Enter lsit\"))\n",
    "    ans = []\n",
    "    for i in range(len(l)):\n",
    "        if type(l[i])==int and l[i]>=0:\n",
    "            ans.append(l[i])\n",
    "    print(f\"filter_list({l}):{ans}\")\n",
    "filter_list()\n",
    "    "
   ]
  },
  {
   "cell_type": "code",
   "execution_count": 11,
   "id": "4814cfdf",
   "metadata": {},
   "outputs": [
    {
     "name": "stdout",
     "output_type": "stream",
     "text": [
      "Enter lsit[1, \"a\", \"b\", 0, 15]\n",
      "filter_list([1, 'a', 'b', 0, 15]):[1, 0, 15]\n",
      "Enter lsit[1, 2, \"aasf\", \"1\", \"123\", 123]\n",
      "filter_list([1, 2, 'aasf', '1', '123', 123]):[1, 2, 123]\n"
     ]
    }
   ],
   "source": [
    "filter_list()\n",
    "filter_list()"
   ]
  },
  {
   "cell_type": "markdown",
   "id": "a29791c2",
   "metadata": {},
   "source": [
    "## 2.The \"Reverser\" takes a string as input and returns that string in reverse order, with the opposite case.\n",
    "\n",
    "Examples\n",
    "\n",
    "reverse(\"Hello World\") ➞ \"DLROw OLLEh\"\n",
    "\n",
    "reverse(\"ReVeRsE\") ➞ \"eSrEvEr\"\n",
    "\n",
    "reverse(\"Radar\") ➞ \"RADAr\"\n"
   ]
  },
  {
   "cell_type": "code",
   "execution_count": 15,
   "id": "1bba3ff4",
   "metadata": {},
   "outputs": [
    {
     "name": "stdout",
     "output_type": "stream",
     "text": [
      "Enter sentence:Hello World\n",
      "reverse(Hello World):DLROw OLLEh\n"
     ]
    }
   ],
   "source": [
    "def reverse_string():\n",
    "    s = input(\"Enter sentence:\")\n",
    "    n = len(s)\n",
    "    s1 = \"\"\n",
    "    for j in range(n-1,-1,-1):\n",
    "        if s[j].islower():\n",
    "            s1+=s[j].upper()\n",
    "        elif s[j].isupper():\n",
    "            s1+=s[j].lower()\n",
    "        else:\n",
    "            s1+=s[j]\n",
    "    print(f\"reverse({s}):{s1}\")\n",
    "reverse_string()"
   ]
  },
  {
   "cell_type": "code",
   "execution_count": 17,
   "id": "6674e4c0",
   "metadata": {},
   "outputs": [
    {
     "name": "stdout",
     "output_type": "stream",
     "text": [
      "Enter sentence:ReVeRsE\n",
      "reverse(ReVeRsE):eSrEvEr\n",
      "Enter sentence:Radar\n",
      "reverse(Radar):RADAr\n"
     ]
    }
   ],
   "source": [
    "reverse_string()\n",
    "reverse_string()"
   ]
  },
  {
   "cell_type": "markdown",
   "id": "8763077c",
   "metadata": {},
   "source": [
    "## 3. You can assign variables from lists like this:\n",
    "\n",
    "lst = [1, 2, 3, 4, 5, 6]\n",
    "\n",
    "first = lst[0]\n",
    "\n",
    "middle = lst[1:-1]\n",
    "\n",
    "last = lst[-1]\n",
    "\n",
    "print(first) ➞ outputs 1\n",
    "\n",
    "print(middle) ➞ outputs [2, 3, 4, 5]\n",
    "\n",
    "print(last) ➞ outputs 6\n",
    "\n",
    "With Python 3, you can assign variables from lists in a much more succinct way. Create variables first, middle and last from the given list using destructuring assignment (check the Resources tab for some examples), where:\n",
    "\n",
    "first  ➞ 1\n",
    "\n",
    "middle ➞ [2, 3, 4, 5]\n",
    "\n",
    "last ➞ 6\n",
    "\n",
    "Your task is to unpack the list writeyourcodehere into three variables, being first, middle, and last, with middle being everything in between the first and last element. Then print all three variables.\n"
   ]
  },
  {
   "cell_type": "code",
   "execution_count": 21,
   "id": "3e422441",
   "metadata": {},
   "outputs": [
    {
     "name": "stdout",
     "output_type": "stream",
     "text": [
      "enter elements in the list[1,2,3,4,5,6]\n",
      "first:1\n",
      "middle:[2, 3, 4, 5]\n",
      "last:6\n"
     ]
    }
   ],
   "source": [
    "l=eval(input(\"enter elements in the list\"))\n",
    "first,*middle,last = l \n",
    "print(f\"first:{first}\")\n",
    "print(f\"middle:{middle}\")\n",
    "print(f\"last:{last}\")"
   ]
  },
  {
   "cell_type": "markdown",
   "id": "fcf3ff6c",
   "metadata": {},
   "source": [
    "## 4.Write a function that calculates the factorial of a number recursively.\n",
    "Examples\n",
    "\n",
    "factorial(5) ➞ 120\n",
    "\n",
    "factorial(3) ➞ 6\n",
    "\n",
    "factorial(1) ➞ 1\n",
    "\n",
    "factorial(0) ➞ 1\n"
   ]
  },
  {
   "cell_type": "code",
   "execution_count": 22,
   "id": "20428b5a",
   "metadata": {},
   "outputs": [
    {
     "name": "stdout",
     "output_type": "stream",
     "text": [
      "5\n",
      "factorial(5):120\n"
     ]
    }
   ],
   "source": [
    "def fact(n):\n",
    "    if n==0 or n==1:\n",
    "        return 1\n",
    "    return n*fact(n-1)\n",
    "n = int(input())\n",
    "print(f\"factorial({n}):{fact(n)}\")"
   ]
  },
  {
   "cell_type": "code",
   "execution_count": 23,
   "id": "5304caf1",
   "metadata": {},
   "outputs": [
    {
     "name": "stdout",
     "output_type": "stream",
     "text": [
      "6\n",
      "1\n",
      "1\n"
     ]
    }
   ],
   "source": [
    "print(fact(3))\n",
    "print(fact(1))\n",
    "print(fact(0))\n"
   ]
  },
  {
   "cell_type": "markdown",
   "id": "c0f285e9",
   "metadata": {},
   "source": [
    "## 5.Write a function that moves all elements of one type to the end of the list.\n",
    "Examples\n",
    "\n",
    "move_to_end([1, 3, 2, 4, 4, 1], 1) ➞ [3, 2, 4, 4, 1, 1]\n",
    "\n",
    "\\# Move all the 1s to the end of the array.\n",
    "\n",
    "move_to_end([7, 8, 9, 1, 2, 3, 4], 9) ➞ [7, 8, 1, 2, 3, 4, 9]\n",
    "\n",
    "move_to_end([\"a\", \"a\", \"a\", \"b\"], \"a\") ➞ [\"b\", \"a\", \"a\", \"a\"]\n"
   ]
  },
  {
   "cell_type": "code",
   "execution_count": 25,
   "id": "e763e912",
   "metadata": {},
   "outputs": [
    {
     "name": "stdout",
     "output_type": "stream",
     "text": [
      "Enter list elements in list format:[3,2,4,4,1,1]\n",
      "Enter replace character:1\n",
      "move_to_end([3, 2, 4, 4, 1, 1]):[3, 2, 4, 4, 1, 1]\n"
     ]
    }
   ],
   "source": [
    "def move_to_end():\n",
    "    l = eval(input(\"Enter list elements in list format:\"))\n",
    "    r = eval(input(\"Enter replace character:\"))\n",
    "    start = []\n",
    "    end = []\n",
    "    for i in range(len(l)):\n",
    "        if l[i]==r:\n",
    "            end.append(l[i])\n",
    "        else:\n",
    "            start.append(l[i])\n",
    "    total = start+end\n",
    "    print(f\"move_to_end({l}):{total}\")\n",
    "move_to_end()\n",
    "        \n",
    "        "
   ]
  },
  {
   "cell_type": "code",
   "execution_count": 26,
   "id": "0c7a0a86",
   "metadata": {},
   "outputs": [
    {
     "name": "stdout",
     "output_type": "stream",
     "text": [
      "Enter list elements in list format:[7,8,1,2,3,4,9]\n",
      "Enter replace character:9\n",
      "move_to_end([7, 8, 1, 2, 3, 4, 9]):[7, 8, 1, 2, 3, 4, 9]\n",
      "Enter list elements in list format:[\"a\", \"a\", \"a\", \"b\"]\n",
      "Enter replace character:\"a\"\n",
      "move_to_end(['a', 'a', 'a', 'b']):['b', 'a', 'a', 'a']\n"
     ]
    }
   ],
   "source": [
    "move_to_end()\n",
    "move_to_end()"
   ]
  },
  {
   "cell_type": "code",
   "execution_count": null,
   "id": "b9c56cc0",
   "metadata": {},
   "outputs": [],
   "source": []
  }
 ],
 "metadata": {
  "kernelspec": {
   "display_name": "Python 3 (ipykernel)",
   "language": "python",
   "name": "python3"
  },
  "language_info": {
   "codemirror_mode": {
    "name": "ipython",
    "version": 3
   },
   "file_extension": ".py",
   "mimetype": "text/x-python",
   "name": "python",
   "nbconvert_exporter": "python",
   "pygments_lexer": "ipython3",
   "version": "3.9.13"
  }
 },
 "nbformat": 4,
 "nbformat_minor": 5
}
