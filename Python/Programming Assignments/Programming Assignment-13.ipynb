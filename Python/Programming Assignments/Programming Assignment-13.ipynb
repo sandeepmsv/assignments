{
 "cells": [
  {
   "cell_type": "markdown",
   "id": "92156027",
   "metadata": {},
   "source": [
    "## 1.Write a program that calculates and prints the value according to the given formula:\n",
    "Q = Square root of [(2 * C * D)/H]  \n",
    "Following are the fixed values of C and H:  \n",
    "C is 50. H is 30.  \n",
    "D is the variable whose values should be input to your program in a comma-separated sequence. \n",
    "\n",
    "**Example:** Let us assume the following comma separated input sequence is given to the program:100,150,180  \n",
    "The output of the program should be:  18,22,24 "
   ]
  },
  {
   "cell_type": "code",
   "execution_count": 10,
   "id": "890ad956",
   "metadata": {},
   "outputs": [
    {
     "name": "stdout",
     "output_type": "stream",
     "text": [
      "Enter D value comma separated:100,150,180\n",
      "The output of the program:18,22,24"
     ]
    }
   ],
   "source": [
    "import math\n",
    "def caluculate(l):\n",
    "    ans = []\n",
    "    C = 50\n",
    "    H = 30\n",
    "    for D in l:\n",
    "        Q = int(math.sqrt((2*C*D)/H))\n",
    "        ans.append(Q)\n",
    "    print(\"The output of the program:\",end=\"\")\n",
    "    for i in range(len(ans)-1):\n",
    "        print(ans[i],end=\",\")\n",
    "    print(ans[-1],end=\"\")\n",
    "l = list(map(int,input(\"Enter D value comma separated:\").split(\",\")))\n",
    "caluculate(l)\n",
    "    "
   ]
  },
  {
   "cell_type": "markdown",
   "id": "1f897282",
   "metadata": {},
   "source": [
    "## 2.Write a program which takes 2 digits, X,Y as input and generates a 2-dimensional array. The element value in the i-th row and j-th column of the array should be i*j.     \n",
    "Note: i=0,1.., X-1; j=0,1,¡Y-1.\n",
    "\n",
    "**Example:** Suppose the following inputs are given to the program: 3,5  \n",
    "Then, the output of the program should be:[[0, 0, 0, 0, 0], [0, 1, 2, 3, 4], [0, 2, 4, 6, 8]]  "
   ]
  },
  {
   "cell_type": "code",
   "execution_count": 11,
   "id": "da3b7c59",
   "metadata": {},
   "outputs": [
    {
     "name": "stdout",
     "output_type": "stream",
     "text": [
      "Enter no of rows:3\n",
      "Enter no of columns:5\n",
      "2-D matrix is: [[0, 0, 0, 0, 0], [0, 1, 2, 3, 4], [0, 2, 4, 6, 8]]\n"
     ]
    }
   ],
   "source": [
    "def construct_2d_matrix(m,n):\n",
    "    mat = []\n",
    "    for i in range(m):\n",
    "        a = []\n",
    "        for j in range(n):\n",
    "            a.append(i*j)\n",
    "        mat.append(a)\n",
    "    return mat\n",
    "X = int(input(\"Enter no of rows:\"))\n",
    "Y = int(input(\"Enter no of columns:\"))\n",
    "print(\"2-D matrix is:\",construct_2d_matrix(X,Y))"
   ]
  },
  {
   "cell_type": "markdown",
   "id": "73b5e796",
   "metadata": {},
   "source": [
    "## 3.Write a program that accepts a comma separated sequence of words as input and prints the words in a comma-separated sequence after sorting them alphabetically ? \n",
    "Suppose the following input is supplied to the program: without,hello,bag,world  \n",
    "Then, the output should be: bag,hello,without,world\n"
   ]
  },
  {
   "cell_type": "code",
   "execution_count": 15,
   "id": "83fc6952",
   "metadata": {},
   "outputs": [
    {
     "name": "stdout",
     "output_type": "stream",
     "text": [
      "Enter input to sort alphabeticallywithout,hello,bag,world\n",
      "output: bag,hello,without,world\n"
     ]
    }
   ],
   "source": [
    "def sort_alphabetically():\n",
    "    s = input(\"Enter input to sort alphabetically\")\n",
    "    output = \",\".join(sorted(s.split(\",\")))\n",
    "    print(\"output:\",output)\n",
    "    \n",
    "sort_alphabetically()  "
   ]
  },
  {
   "cell_type": "markdown",
   "id": "8dc6c825",
   "metadata": {},
   "source": [
    "## 4.Write a program that accepts a sequence of whitespace separated words as input and prints the words after removing all duplicate words and sorting them alphanumerically.\n",
    "\n",
    "Suppose the following input is supplied to the program: hello world and practice makes perfect and hello world again  \n",
    "Then, the output should be: again and hello makes perfect practice world"
   ]
  },
  {
   "cell_type": "code",
   "execution_count": 19,
   "id": "cea33d6e",
   "metadata": {},
   "outputs": [
    {
     "name": "stdout",
     "output_type": "stream",
     "text": [
      "Enter sentence with space: hello world and practice makes perfect and hello world again\n",
      "The output is: again and hello makes perfect practice world\n"
     ]
    }
   ],
   "source": [
    "def remove_duplicate_alphabetical():\n",
    "    s = input(\"Enter sentence with space:\").split()\n",
    "    s = set(s)\n",
    "    s = list(s)\n",
    "    s.sort()\n",
    "    print(\"The output is:\",\" \".join(s))\n",
    "remove_duplicate_alphabetical()"
   ]
  },
  {
   "cell_type": "markdown",
   "id": "2da2873c",
   "metadata": {},
   "source": [
    "## 5.Write a program that accepts a sentence and calculate the number of letters and digits.\n",
    "Suppose the following input is supplied to the program: hello world! 123 \n",
    "Then, the output should be:  \n",
    "LETTERS 10  \n",
    "DIGITS 3  "
   ]
  },
  {
   "cell_type": "code",
   "execution_count": 22,
   "id": "61cd31b4",
   "metadata": {},
   "outputs": [
    {
     "name": "stdout",
     "output_type": "stream",
     "text": [
      "Enter sentence:hello world! 123\n",
      "hello world! 123 has letters 10 and digits 3\n"
     ]
    }
   ],
   "source": [
    "def count_letters_digits():\n",
    "    s = input(\"Enter sentence:\")\n",
    "    str1 = s.strip()\n",
    "    letters = 0\n",
    "    digits = 0\n",
    "    for i in str1:\n",
    "        if i.isalpha():\n",
    "            letters+=1\n",
    "        elif i.isnumeric():\n",
    "            digits+=1\n",
    "    print(f'{s} has letters {letters} and digits {digits}')\n",
    "count_letters_digits()"
   ]
  },
  {
   "cell_type": "markdown",
   "id": "d5138619",
   "metadata": {},
   "source": [
    "#### 6.A website requires the users to input username and password to register. Write a program to check the validity of password input by users.\n",
    "Following are the criteria for checking the password:  \n",
    "1. At least 1 letter between [a-z]\n",
    "2. At least 1 number between [0-9]\n",
    "1. At least 1 letter between [A-Z]\n",
    "3. At least 1 character from [$#@]\n",
    "4. Minimum length of transaction password: 6\n",
    "5. Maximum length of transaction password: 12\n",
    "\n",
    "Your program should accept a sequence of comma separated passwords and will check them according to the above criteria. Passwords that match the criteria are to be printed, each separated by a comma.\n",
    "\n",
    "**Example:**  \n",
    "If the following passwords are given as input to the program: ABd1234@1,a F1#,2w3E*,2We3345 \n",
    "\n",
    "Then, the output of the program should be:ABd1234@1"
   ]
  },
  {
   "cell_type": "code",
   "execution_count": 27,
   "id": "7fb527b5",
   "metadata": {},
   "outputs": [
    {
     "name": "stdout",
     "output_type": "stream",
     "text": [
      "enter sequence of comma separated passwords :ABd1234@1,a F1#,2w3E*,2We3345\n",
      "output: ABd1234@1\n"
     ]
    }
   ],
   "source": [
    "s=input(\"enter sequence of comma separated passwords :\")\n",
    "import re\n",
    "l=s.split(\",\")\n",
    "for i in l:\n",
    "    if(len(i)>=6 and len(i)<=12):\n",
    "        if re.search(\"([a-z])+\", i):\n",
    "            if re.search(\"([A-Z])+\", i):\n",
    "                if re.search(\"([0-9])+\", i):\n",
    "                    if re.search(\"([#,@,$])+\", i):\n",
    "                        print(\"output:\",i)"
   ]
  },
  {
   "cell_type": "code",
   "execution_count": null,
   "id": "c54d29b8",
   "metadata": {},
   "outputs": [],
   "source": []
  }
 ],
 "metadata": {
  "kernelspec": {
   "display_name": "Python 3 (ipykernel)",
   "language": "python",
   "name": "python3"
  },
  "language_info": {
   "codemirror_mode": {
    "name": "ipython",
    "version": 3
   },
   "file_extension": ".py",
   "mimetype": "text/x-python",
   "name": "python",
   "nbconvert_exporter": "python",
   "pygments_lexer": "ipython3",
   "version": "3.9.12"
  }
 },
 "nbformat": 4,
 "nbformat_minor": 5
}
