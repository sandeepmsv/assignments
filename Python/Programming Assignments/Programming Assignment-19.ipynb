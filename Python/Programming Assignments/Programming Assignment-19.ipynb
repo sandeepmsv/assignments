{
 "cells": [
  {
   "cell_type": "markdown",
   "id": "02318237",
   "metadata": {},
   "source": [
    "## 1.Create a function that takes a string and returns a string in which each character is repeated once.\n",
    "\n",
    "Examples\n",
    "\n",
    "double_char(\"String\") ➞ \"SSttrriinngg\"\n",
    "\n",
    "double_char(\"Hello World!\") ➞ \"HHeelllloo  WWoorrlldd!!\"\n",
    "\n",
    "double_char(\"1234!_ \") ➞ \"11223344!!__  \"\n"
   ]
  },
  {
   "cell_type": "code",
   "execution_count": 4,
   "id": "f8f7541e",
   "metadata": {},
   "outputs": [
    {
     "name": "stdout",
     "output_type": "stream",
     "text": [
      "Enter sentence:String\n",
      "double_char(String):SSttrriinngg\n"
     ]
    }
   ],
   "source": [
    "def double_char():\n",
    "    s = input(\"Enter sentence:\")\n",
    "    s1 = \"\"\n",
    "    for i in range(len(s)):\n",
    "        if s[i] != \" \":\n",
    "            s1+=(s[i])*2\n",
    "        else:\n",
    "            s1+=s[i]\n",
    "    print(f\"double_char({s}):{s1}\")\n",
    "double_char()"
   ]
  },
  {
   "cell_type": "code",
   "execution_count": 6,
   "id": "c68a3fc0",
   "metadata": {},
   "outputs": [
    {
     "name": "stdout",
     "output_type": "stream",
     "text": [
      "Enter sentence:Hello World!\n",
      "double_char(Hello World!):HHeelllloo WWoorrlldd!!\n",
      "Enter sentence:1234!_\n",
      "double_char(1234!_):11223344!!__\n"
     ]
    }
   ],
   "source": [
    "double_char()\n",
    "double_char()"
   ]
  },
  {
   "cell_type": "markdown",
   "id": "038e612e",
   "metadata": {},
   "source": [
    "## 2.Create a function that reverses a boolean value and returns the string \"boolean expected\" if another variable type is given.\n",
    "\n",
    "Examples\n",
    "\n",
    "reverse(True) ➞ False\n",
    "\n",
    "reverse(False) ➞ True\n",
    "\n",
    "reverse(0) ➞ \"boolean expected\"\n",
    "\n",
    "reverse(None) ➞ \"boolean expected\"\n"
   ]
  },
  {
   "cell_type": "code",
   "execution_count": 7,
   "id": "49096cc8",
   "metadata": {},
   "outputs": [
    {
     "name": "stdout",
     "output_type": "stream",
     "text": [
      "Enter boolean valueTrue\n",
      "reverse(True):False\n"
     ]
    }
   ],
   "source": [
    "def reverse_bool():\n",
    "    b = eval(input(\"Enter boolean value\"))\n",
    "    if type(b)==bool:\n",
    "        print(f\"reverse({b}):{not b}\")\n",
    "    else:\n",
    "        print(f\"reverse({b}):boolean expected\")\n",
    "reverse_bool()"
   ]
  },
  {
   "cell_type": "code",
   "execution_count": 8,
   "id": "29245f10",
   "metadata": {},
   "outputs": [
    {
     "name": "stdout",
     "output_type": "stream",
     "text": [
      "Enter boolean valueFalse\n",
      "reverse(False):True\n",
      "Enter boolean value0\n",
      "reverse(0):boolean expected\n",
      "Enter boolean valueNone\n",
      "reverse(None):boolean expected\n"
     ]
    }
   ],
   "source": [
    "reverse_bool()\n",
    "reverse_bool()\n",
    "reverse_bool()"
   ]
  },
  {
   "cell_type": "markdown",
   "id": "eeef1df7",
   "metadata": {},
   "source": [
    "## 3.Create a function that returns the thickness (in meters) of a piece of paper after folding it n number of times. The paper starts off with a thickness of 0.5mm.\n",
    "\n",
    "Examples\n",
    "\n",
    "num_layers(1) ➞ \"0.001m\"\n",
    "\n",
    "\\# Paper folded once is 1mm (equal to 0.001m)\n",
    "\n",
    "num_layers(4) ➞ \"0.008m\"\n",
    "\n",
    "\\# Paper folded 4 times is 8mm (equal to 0.008m)\n",
    "\n",
    "num_layers(21) ➞ \"1048.576m\"\n",
    "\n",
    "\\# Paper folded 21 times is 1048576mm (equal to 1048.576m)\n"
   ]
  },
  {
   "cell_type": "code",
   "execution_count": 10,
   "id": "28689309",
   "metadata": {},
   "outputs": [
    {
     "name": "stdout",
     "output_type": "stream",
     "text": [
      "Enter thickness(in mm):1\n",
      "num_layers(1):0.001\n"
     ]
    }
   ],
   "source": [
    "def num_layers():\n",
    "    n = int(input(\"Enter thickness(in mm):\"))\n",
    "    ans = 0.5 \n",
    "    for i in range(n):\n",
    "        ans *=2 \n",
    "    print(f\"num_layers({n}):{ans/1000}\")\n",
    "num_layers()"
   ]
  },
  {
   "cell_type": "code",
   "execution_count": 12,
   "id": "1f3dafb0",
   "metadata": {},
   "outputs": [
    {
     "name": "stdout",
     "output_type": "stream",
     "text": [
      "Enter thickness(in mm):4\n",
      "num_layers(4):0.008\n",
      "Enter thickness(in mm):8\n",
      "num_layers(8):0.128\n",
      "Enter thickness(in mm):21\n",
      "num_layers(21):1048.576\n"
     ]
    }
   ],
   "source": [
    "num_layers()\n",
    "num_layers()\n",
    "num_layers()"
   ]
  },
  {
   "cell_type": "markdown",
   "id": "c2d2bd70",
   "metadata": {},
   "source": [
    "## 4.Create a function that takes a single string as argument and returns an ordered list containing the indices of all capital letters in the string.\n",
    "\n",
    "Examples\n",
    "\n",
    "index_of_caps(\"eDaBiT\") ➞ [1, 3, 5]\n",
    "\n",
    "index_of_caps(\"eQuINoX\") ➞ [1, 3, 4, 6]\n",
    "\n",
    "index_of_caps(\"determine\") ➞ []\n",
    "\n",
    "index_of_caps(\"STRIKE\") ➞ [0, 1, 2, 3, 4, 5]\n",
    "\n",
    "index_of_caps(\"sUn\") ➞ [1]\n"
   ]
  },
  {
   "cell_type": "code",
   "execution_count": 13,
   "id": "10b53620",
   "metadata": {},
   "outputs": [
    {
     "name": "stdout",
     "output_type": "stream",
     "text": [
      "Enter sentence:eDaBiT\n",
      "index_of_caps(eDaBiT):[1, 3, 5]\n"
     ]
    }
   ],
   "source": [
    "def index_of_caps():\n",
    "    s = input(\"Enter sentence:\")\n",
    "    ans = []\n",
    "    for i in range(len(s)):\n",
    "        if s[i].isupper():\n",
    "            ans.append(i)\n",
    "    print(f\"index_of_caps({s}):{ans}\")\n",
    "index_of_caps()"
   ]
  },
  {
   "cell_type": "code",
   "execution_count": 14,
   "id": "326f1cf4",
   "metadata": {},
   "outputs": [
    {
     "name": "stdout",
     "output_type": "stream",
     "text": [
      "Enter sentence:eQuINoX\n",
      "index_of_caps(eQuINoX):[1, 3, 4, 6]\n",
      "Enter sentence:determine\n",
      "index_of_caps(determine):[]\n",
      "Enter sentence:STRIKE\n",
      "index_of_caps(STRIKE):[0, 1, 2, 3, 4, 5]\n",
      "Enter sentence:sUn\n",
      "index_of_caps(sUn):[1]\n"
     ]
    }
   ],
   "source": [
    "index_of_caps()\n",
    "index_of_caps()\n",
    "index_of_caps()\n",
    "index_of_caps()"
   ]
  },
  {
   "cell_type": "markdown",
   "id": "bc663719",
   "metadata": {},
   "source": [
    "## 5.Using list comprehensions, create a function that finds all even numbers from 1 to the given number.\n",
    "\n",
    "Examples\n",
    "\n",
    "find_even_nums(8) ➞ [2, 4, 6, 8]\n",
    "\n",
    "find_even_nums(4) ➞ [2, 4]\n",
    "\n",
    "find_even_nums(2) ➞ [2]\n"
   ]
  },
  {
   "cell_type": "code",
   "execution_count": 15,
   "id": "6b2407a2",
   "metadata": {},
   "outputs": [
    {
     "name": "stdout",
     "output_type": "stream",
     "text": [
      "Enter number for find the even number between range of 1 and n8\n",
      "find_even_nums(8):[2, 4, 6, 8]\n"
     ]
    }
   ],
   "source": [
    "def find_even_nums(n):\n",
    "    ans = [i for i in range(1,n+1) if i%2==0]\n",
    "    print(f\"find_even_nums({n}):{ans}\")\n",
    "n = int(input(\"Enter number for find the even number between range of 1 and n\"))\n",
    "find_even_nums(8)"
   ]
  },
  {
   "cell_type": "code",
   "execution_count": 16,
   "id": "cf96bb85",
   "metadata": {},
   "outputs": [
    {
     "name": "stdout",
     "output_type": "stream",
     "text": [
      "find_even_nums(8):[2, 4, 6, 8]\n",
      "find_even_nums(4):[2, 4]\n",
      "find_even_nums(2):[2]\n"
     ]
    }
   ],
   "source": [
    "find_even_nums(8)\n",
    "find_even_nums(4)\n",
    "find_even_nums(2)"
   ]
  },
  {
   "cell_type": "code",
   "execution_count": null,
   "id": "19902b66",
   "metadata": {},
   "outputs": [],
   "source": []
  }
 ],
 "metadata": {
  "kernelspec": {
   "display_name": "Python 3 (ipykernel)",
   "language": "python",
   "name": "python3"
  },
  "language_info": {
   "codemirror_mode": {
    "name": "ipython",
    "version": 3
   },
   "file_extension": ".py",
   "mimetype": "text/x-python",
   "name": "python",
   "nbconvert_exporter": "python",
   "pygments_lexer": "ipython3",
   "version": "3.9.13"
  }
 },
 "nbformat": 4,
 "nbformat_minor": 5
}
