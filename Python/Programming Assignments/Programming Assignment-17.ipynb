{
 "cells": [
  {
   "cell_type": "markdown",
   "id": "0d184123",
   "metadata": {},
   "source": [
    "## Question1. Create a function that takes three arguments a, b, c and returns the sum of the numbers that are evenly divided by c from the range a, b inclusive.\n",
    "\n",
    "Examples\n",
    "\n",
    "evenly_divisible(1, 10, 20) ➞ 0\n",
    "\\# No number between 1 and 10 can be evenly divided by 20.\n",
    "\n",
    "evenly_divisible(1, 10, 2) ➞ 30\n",
    "\\# 2 + 4 + 6 + 8 + 10 = 30\n",
    "\n",
    "evenly_divisible(1, 10, 3) ➞ 18\n",
    "\\# 3 + 6 + 9 = 18\n"
   ]
  },
  {
   "cell_type": "code",
   "execution_count": 1,
   "id": "9ebb343a",
   "metadata": {},
   "outputs": [],
   "source": [
    "def evenly_divisible(a,b,c):\n",
    "    sum1 = 0\n",
    "    for i in range(a,b+1):\n",
    "        if i%c==0:\n",
    "            sum1+=i\n",
    "    print(f\"evenly_divisible(1,10,20):{sum1}\")"
   ]
  },
  {
   "cell_type": "code",
   "execution_count": 3,
   "id": "948b829a",
   "metadata": {},
   "outputs": [
    {
     "name": "stdout",
     "output_type": "stream",
     "text": [
      "evenly_divisible(1,10,20):0\n",
      "evenly_divisible(1,10,20):30\n",
      "evenly_divisible(1,10,20):18\n"
     ]
    }
   ],
   "source": [
    "evenly_divisible(1,10,20)\n",
    "evenly_divisible(1,10,2)\n",
    "evenly_divisible(1,10,3)"
   ]
  },
  {
   "cell_type": "markdown",
   "id": "8549be02",
   "metadata": {},
   "source": [
    "## Question2. Create a function that returns True if a given inequality expression is correct and False otherwise.\n",
    "\n",
    "Examples\n",
    "\n",
    "correct_signs(\"3 < 7 < 11\") ➞ True\n",
    "\n",
    "correct_signs(\"13 > 44 > 33 > 1\") ➞ False\n",
    "\n",
    "correct_signs(\"1 < 2 < 6 < 9 > 3\") ➞ True\n",
    "\n"
   ]
  },
  {
   "cell_type": "code",
   "execution_count": 1,
   "id": "39da2b9e",
   "metadata": {},
   "outputs": [
    {
     "name": "stdout",
     "output_type": "stream",
     "text": [
      "3<7<11\n",
      "correct_signs3<7<11: True \n"
     ]
    }
   ],
   "source": [
    "def correct_signs():\n",
    "    signs = input()\n",
    "    if eval(signs):\n",
    "        print(f\"correct_signs{signs}: {eval(signs)} \")\n",
    "    else:\n",
    "        print(f\"correct_signs{signs}:{eval(signs)}\")\n",
    "correct_signs()\n",
    "    "
   ]
  },
  {
   "cell_type": "code",
   "execution_count": 3,
   "id": "c6e82514",
   "metadata": {},
   "outputs": [
    {
     "name": "stdout",
     "output_type": "stream",
     "text": [
      "13>44>33>1\n",
      "correct_signs13>44>33>1:False\n",
      "1<2<6<9>3\n",
      "correct_signs1<2<6<9>3: True \n"
     ]
    }
   ],
   "source": [
    "correct_signs()\n",
    "correct_signs()"
   ]
  },
  {
   "cell_type": "markdown",
   "id": "9b89fbdd",
   "metadata": {},
   "source": [
    "## Question3. Create a function that replaces all the vowels in a string with a specified character.\n",
    "\n",
    "Examples\n",
    "replace_vowels(\"the aardvark\", \"#\") ➞ \"th# ##rdv#rk\"\n",
    "\n",
    "replace_vowels(\"minnie mouse\", \"?\") ➞ \"m?nn?? m??s?\"\n",
    "\n",
    "replace_vowels(\"shakespeare\", \"*\") ➞ \"sh*k*sp**r*\"\n"
   ]
  },
  {
   "cell_type": "code",
   "execution_count": 4,
   "id": "4ebd4621",
   "metadata": {},
   "outputs": [
    {
     "name": "stdout",
     "output_type": "stream",
     "text": [
      "enter sentencethe aardvark\n",
      "Enter character to replace with vowel#\n",
      "replace_vowels(the aardvark):th# ##rdv#rk\n"
     ]
    }
   ],
   "source": [
    "def replace_vowels():\n",
    "    s = input(\"enter sentence\")\n",
    "    r = input(\"Enter character to replace with vowel\")\n",
    "    vowels = [\"a\",\"e\",\"i\",\"o\",\"u\",\"A\",\"E\",\"I\",\"O\",\"U\"]\n",
    "    s1 = list(s)\n",
    "    for i in range(len(s1)):\n",
    "        if s1[i] in vowels:\n",
    "            s1[i] = r\n",
    "    print(f\"replace_vowels({s}):{''.join(s1)}\")\n",
    "replace_vowels()\n",
    "            \n",
    "            "
   ]
  },
  {
   "cell_type": "code",
   "execution_count": 5,
   "id": "18357ea5",
   "metadata": {},
   "outputs": [
    {
     "name": "stdout",
     "output_type": "stream",
     "text": [
      "enter sentenceminnie mouse\n",
      "Enter character to replace with vowel?\n",
      "replace_vowels(minnie mouse):m?nn?? m??s?\n",
      "enter sentenceshakespeare\n",
      "Enter character to replace with vowel*\n",
      "replace_vowels(shakespeare):sh*k*sp**r*\n"
     ]
    }
   ],
   "source": [
    "replace_vowels()\n",
    "replace_vowels()"
   ]
  },
  {
   "cell_type": "markdown",
   "id": "485b6a27",
   "metadata": {},
   "source": [
    "## Question4. Write a function that calculates the factorial of a number recursively.\n",
    "\n",
    "Examples\n",
    "\n",
    "factorial(5) ➞ 120\n",
    "\n",
    "factorial(3) ➞ 6\n",
    "\n",
    "factorial(1) ➞ 1\n",
    "\n",
    "factorial(0) ➞ 1\n"
   ]
  },
  {
   "cell_type": "code",
   "execution_count": 6,
   "id": "a003d914",
   "metadata": {},
   "outputs": [
    {
     "name": "stdout",
     "output_type": "stream",
     "text": [
      "5\n",
      "factorial(5):120\n"
     ]
    }
   ],
   "source": [
    "def fact(n):\n",
    "    if n==0 or n==1:\n",
    "        return 1\n",
    "    return n*fact(n-1)\n",
    "n = int(input())\n",
    "print(f\"factorial({n}):{fact(n)}\")"
   ]
  },
  {
   "cell_type": "code",
   "execution_count": 8,
   "id": "7d93a43b",
   "metadata": {},
   "outputs": [
    {
     "name": "stdout",
     "output_type": "stream",
     "text": [
      "6\n",
      "1\n",
      "1\n"
     ]
    }
   ],
   "source": [
    "print(fact(3))\n",
    "print(fact(1))\n",
    "print(fact(0))\n"
   ]
  },
  {
   "cell_type": "markdown",
   "id": "d9516cf3",
   "metadata": {},
   "source": [
    "## Question 5.Hamming distance is the number of characters that differ between two strings.\n",
    "To illustrate:\n",
    "\n",
    "String1: \"abcbba\"\n",
    "\n",
    "String2: \"abcbda\"\n",
    "\n",
    "Hamming Distance: 1 - \"b\" vs. \"d\" is the only difference.\n",
    "\n",
    "Create a function that computes the hamming distance between two strings.\n",
    "\n",
    "Examples\n",
    "\n",
    "hamming_distance(\"abcde\", \"bcdef\") ➞ 5\n",
    "\n",
    "hamming_distance(\"abcde\", \"abcde\") ➞ 0\n",
    "\n",
    "hamming_distance(\"strong\", \"strung\") ➞ 1\n",
    "\n"
   ]
  },
  {
   "cell_type": "code",
   "execution_count": 14,
   "id": "8b5a5919",
   "metadata": {},
   "outputs": [
    {
     "name": "stdout",
     "output_type": "stream",
     "text": [
      "Enter sentence1:abcde\n",
      "Enter sentence2:bcdef\n",
      "hamming_distance(abcde,bcdef):5\n"
     ]
    }
   ],
   "source": [
    "def hamming_distance():\n",
    "    s1 = input(\"Enter sentence1:\")\n",
    "    s2 = input(\"Enter sentence2:\")\n",
    "    cnt = 0\n",
    "    n1 = len(s1)\n",
    "    n2 = len(s2)\n",
    "    if n1==n2:\n",
    "        for i in range(n1):\n",
    "            if s1[i]!=s2[i]:\n",
    "                cnt+=1\n",
    "        print(f\"hamming_distance({s1},{s2}):{cnt}\")\n",
    "    else:\n",
    "        print(\"Strings are not in same length\")\n",
    "hamming_distance()"
   ]
  },
  {
   "cell_type": "code",
   "execution_count": 15,
   "id": "7c8b8ca2",
   "metadata": {},
   "outputs": [
    {
     "name": "stdout",
     "output_type": "stream",
     "text": [
      "Enter sentence1:abcde\n",
      "Enter sentence2:abcde\n",
      "hamming_distance(abcde,abcde):0\n",
      "Enter sentence1:strong\n",
      "Enter sentence2:strung\n",
      "hamming_distance(strong,strung):1\n"
     ]
    }
   ],
   "source": [
    "hamming_distance()\n",
    "hamming_distance()"
   ]
  },
  {
   "cell_type": "code",
   "execution_count": null,
   "id": "1c3957cd",
   "metadata": {},
   "outputs": [],
   "source": []
  },
  {
   "cell_type": "code",
   "execution_count": null,
   "id": "0c02c2da",
   "metadata": {},
   "outputs": [],
   "source": []
  },
  {
   "cell_type": "code",
   "execution_count": null,
   "id": "cf72b612",
   "metadata": {},
   "outputs": [],
   "source": []
  },
  {
   "cell_type": "code",
   "execution_count": null,
   "id": "b6f13261",
   "metadata": {},
   "outputs": [],
   "source": []
  },
  {
   "cell_type": "code",
   "execution_count": null,
   "id": "87e4d2e0",
   "metadata": {},
   "outputs": [],
   "source": []
  },
  {
   "cell_type": "code",
   "execution_count": null,
   "id": "9cd6c254",
   "metadata": {},
   "outputs": [],
   "source": []
  },
  {
   "cell_type": "code",
   "execution_count": null,
   "id": "909cbbeb",
   "metadata": {},
   "outputs": [],
   "source": []
  },
  {
   "cell_type": "code",
   "execution_count": null,
   "id": "18a09a2b",
   "metadata": {},
   "outputs": [],
   "source": []
  }
 ],
 "metadata": {
  "kernelspec": {
   "display_name": "Python 3 (ipykernel)",
   "language": "python",
   "name": "python3"
  },
  "language_info": {
   "codemirror_mode": {
    "name": "ipython",
    "version": 3
   },
   "file_extension": ".py",
   "mimetype": "text/x-python",
   "name": "python",
   "nbconvert_exporter": "python",
   "pygments_lexer": "ipython3",
   "version": "3.9.13"
  }
 },
 "nbformat": 4,
 "nbformat_minor": 5
}
