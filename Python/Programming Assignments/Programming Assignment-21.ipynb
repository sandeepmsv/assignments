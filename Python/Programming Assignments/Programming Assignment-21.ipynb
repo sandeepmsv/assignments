{
 "cells": [
  {
   "cell_type": "markdown",
   "id": "bf41d8e8",
   "metadata": {},
   "source": [
    "## 1. Write a function that takes a list and a number as arguments. Add the number to the end of the list, then remove the first element of the list. The function should then return the updated list.\n",
    "\n",
    "Examples\n",
    "\n",
    "next_in_line([5, 6, 7, 8, 9], 1) ➞ [6, 7, 8, 9, 1]\n",
    "\n",
    "next_in_line([7, 6, 3, 23, 17], 10) ➞ [6, 3, 23, 17, 10]\n",
    "\n",
    "next_in_line([1, 10, 20, 42 ], 6) ➞ [10, 20, 42, 6]\n",
    "\n",
    "next_in_line([], 6) ➞ \"No list has been selected\"\n"
   ]
  },
  {
   "cell_type": "code",
   "execution_count": 2,
   "id": "881de183",
   "metadata": {},
   "outputs": [
    {
     "name": "stdout",
     "output_type": "stream",
     "text": [
      "Enter list elements:[5, 6, 7, 8, 9]\n",
      "Enter number to be added at end of the list:1\n",
      "next_in_line([6, 7, 8, 9, 1],1):[6, 7, 8, 9, 1]\n"
     ]
    }
   ],
   "source": [
    "def next_in_line():\n",
    "    arr = eval(input(\"Enter list elements:\"))\n",
    "    e = eval(input(\"Enter number to be added at end of the list:\"))\n",
    "    if len(arr)>0:\n",
    "        ans = arr\n",
    "        ans.pop(0)\n",
    "        ans.append(e)\n",
    "        print(f\"next_in_line({arr},{e}):{ans}\")\n",
    "    else:\n",
    "        print(f\"next_in_line({arr},{e}):No list has been selected\")\n",
    "next_in_line()"
   ]
  },
  {
   "cell_type": "code",
   "execution_count": 3,
   "id": "40503cae",
   "metadata": {},
   "outputs": [
    {
     "name": "stdout",
     "output_type": "stream",
     "text": [
      "Enter list elements:[7, 6, 3, 23, 17]\n",
      "Enter number to be added at end of the list:10\n",
      "next_in_line([6, 3, 23, 17, 10],10):[6, 3, 23, 17, 10]\n",
      "Enter list elements:[1, 10, 20, 42 ]\n",
      "Enter number to be added at end of the list:6\n",
      "next_in_line([10, 20, 42, 6],6):[10, 20, 42, 6]\n",
      "Enter list elements:[]\n",
      "Enter number to be added at end of the list:6\n",
      "next_in_line([],6):No list has been selected\n"
     ]
    }
   ],
   "source": [
    "next_in_line()\n",
    "next_in_line()\n",
    "next_in_line()"
   ]
  },
  {
   "cell_type": "markdown",
   "id": "8c609056",
   "metadata": {},
   "source": [
    "## 2.Create the function that takes a list of dictionaries and returns the sum of people's budgets.\n",
    "\n",
    "Examples\n",
    "\n",
    "get_budgets([\n",
    "  { \"name\": \"John\", \"age\": 21, \"budget\": 23000 },\n",
    "  \n",
    "  { \"name\": \"Steve\",  \"age\": 32, \"budget\": 40000 },\n",
    "  \n",
    "  { \"name\": \"Martin\",  \"age\": 16, \"budget\": 2700 }\n",
    "  \n",
    "]) ➞ 65700\n",
    "\n",
    "get_budgets([\n",
    "\n",
    "  { \"name\": \"John\",  \"age\": 21, \"budget\": 29000 },\n",
    "  \n",
    "  { \"name\": \"Steve\",  \"age\": 32, \"budget\": 32000 },\n",
    "  \n",
    "  { \"name\": \"Martin\",  \"age\": 16, \"budget\": 1600 }\n",
    "]) ➞ 62600\n"
   ]
  },
  {
   "cell_type": "code",
   "execution_count": 4,
   "id": "51e831df",
   "metadata": {},
   "outputs": [
    {
     "name": "stdout",
     "output_type": "stream",
     "text": [
      "get_budgets([{'name': 'John', 'age': 21, 'budget': 23000}, {'name': 'Steve', 'age': 32, 'budget': 40000}, {'name': 'Martin', 'age': 16, 'budget': 2700}]):65700\n"
     ]
    }
   ],
   "source": [
    "def get_budgets(l):\n",
    "    sum1 = 0\n",
    "    for i in l:\n",
    "        sum1 += i[\"budget\"]\n",
    "    print(f\"get_budgets({l}):{sum1}\")\n",
    "mpp1 = [ { \"name\": \"John\", \"age\": 21, \"budget\": 23000 },\n",
    "\n",
    "{ \"name\": \"Steve\", \"age\": 32, \"budget\": 40000 },\n",
    "\n",
    "{ \"name\": \"Martin\", \"age\": 16, \"budget\": 2700 }\n",
    "\n",
    "]\n",
    "\n",
    "mpp2 = [\n",
    "\n",
    "{ \"name\": \"John\", \"age\": 21, \"budget\": 29000 },\n",
    "\n",
    "{ \"name\": \"Steve\", \"age\": 32, \"budget\": 32000 },\n",
    "\n",
    "{ \"name\": \"Martin\", \"age\": 16, \"budget\": 1600 } ]\n",
    "\n",
    "get_budgets(mpp1)\n",
    "\n"
   ]
  },
  {
   "cell_type": "code",
   "execution_count": 5,
   "id": "5459ca8e",
   "metadata": {},
   "outputs": [
    {
     "name": "stdout",
     "output_type": "stream",
     "text": [
      "get_budgets([{'name': 'John', 'age': 21, 'budget': 29000}, {'name': 'Steve', 'age': 32, 'budget': 32000}, {'name': 'Martin', 'age': 16, 'budget': 1600}]):62600\n"
     ]
    }
   ],
   "source": [
    "get_budgets(mpp2)"
   ]
  },
  {
   "cell_type": "markdown",
   "id": "40023bdc",
   "metadata": {},
   "source": [
    "## 3.Create a function that takes a string and returns a string with its letters in alphabetical order.\n",
    "\n",
    "Examples\n",
    "\n",
    "alphabet_soup(\"hello\") ➞ \"ehllo\"\n",
    "\n",
    "alphabet_soup(\"edabit\") ➞ \"abdeit\"\n",
    "\n",
    "alphabet_soup(\"hacker\") ➞ \"acehkr\"\n",
    "\n",
    "alphabet_soup(\"geek\") ➞ \"eegk\"\n",
    "\n",
    "alphabet_soup(\"javascript\") ➞ \"aacijprstv\"\n"
   ]
  },
  {
   "cell_type": "code",
   "execution_count": 8,
   "id": "d3cf728a",
   "metadata": {},
   "outputs": [
    {
     "name": "stdout",
     "output_type": "stream",
     "text": [
      "Enter string for alphabetical order:hello\n",
      "alphabet_soup(hello):ehllo\n"
     ]
    }
   ],
   "source": [
    "def alphabet_soup():\n",
    "    s = input(\"Enter string for alphabetical order:\")\n",
    "    ans = ''.join(sorted(s))\n",
    "    print(f\"alphabet_soup({s}):{ans}\")\n",
    "alphabet_soup()"
   ]
  },
  {
   "cell_type": "code",
   "execution_count": 9,
   "id": "f1dad753",
   "metadata": {},
   "outputs": [
    {
     "name": "stdout",
     "output_type": "stream",
     "text": [
      "Enter string for alphabetical order:edabit\n",
      "alphabet_soup(edabit):abdeit\n",
      "Enter string for alphabetical order:hacker\n",
      "alphabet_soup(hacker):acehkr\n",
      "Enter string for alphabetical order:geek\n",
      "alphabet_soup(geek):eegk\n",
      "Enter string for alphabetical order:javascript\n",
      "alphabet_soup(javascript):aacijprstv\n"
     ]
    }
   ],
   "source": [
    "alphabet_soup()\n",
    "alphabet_soup()\n",
    "alphabet_soup()\n",
    "alphabet_soup()"
   ]
  },
  {
   "cell_type": "markdown",
   "id": "69caf925",
   "metadata": {},
   "source": [
    "## 4.Suppose that you invest  $10,000 for 10 years at an interest rate of 6% compounded monthly. What will be the value of your investment at the end of the 10 year period?\n",
    "\n",
    "Create a function that accepts the principal p, the term in years t, the interest rate r, and the number of compounding periods per year n. The function returns the value at the end of term rounded to the nearest cent.\n",
    "\n",
    "For the example above:\n",
    "\n",
    "compound_interest(10000, 10, 0.06, 12) ➞ 18193.97\n",
    "\n",
    "Note that the interest rate is given as a decimal and n=12 because with monthly compounding there are 12 periods per year. Compounding can also be done annually, quarterly, weekly, or daily.\n",
    "\n",
    "Examples\n",
    "\n",
    "compound_interest(100, 1, 0.05, 1) ➞ 105.0\n",
    "\n",
    "compound_interest(3500, 15, 0.1, 4) ➞ 15399.26\n",
    "\n",
    "compound_interest(100000, 20, 0.15, 365) ➞ 2007316.26\n"
   ]
  },
  {
   "cell_type": "code",
   "execution_count": 16,
   "id": "e8ecdacc",
   "metadata": {},
   "outputs": [
    {
     "name": "stdout",
     "output_type": "stream",
     "text": [
      "Enter principal:100\n",
      "Enter years:1\n",
      "Enter rate of interest:0.05\n",
      "Enter compound period:1\n",
      "compound_interest(100,1,0.05,1):105.00\n"
     ]
    }
   ],
   "source": [
    "def compound_interest():\n",
    "    principal = eval(input(\"Enter principal:\"))\n",
    "    years = eval(input(\"Enter years:\"))\n",
    "    rate_of_interest = eval(input(\"Enter rate of interest:\"))\n",
    "    compound_period = eval(input(\"Enter compound period:\"))    \n",
    "    compound_interest = principal*(1+(rate_of_interest/compound_period))**(compound_period*years)\n",
    "    print(f\"compound_interest({principal},{years},{rate_of_interest},{compound_period}):{compound_interest:.2f}\")\n",
    "compound_interest()\n",
    "    "
   ]
  },
  {
   "cell_type": "code",
   "execution_count": 17,
   "id": "81b4fe5c",
   "metadata": {},
   "outputs": [
    {
     "name": "stdout",
     "output_type": "stream",
     "text": [
      "Enter principal:3500\n",
      "Enter years:15\n",
      "Enter rate of interest:0.1\n",
      "Enter compound period:4\n",
      "compound_interest(3500,15,0.1,4):15399.26\n",
      "Enter principal:100000\n",
      "Enter years:20\n",
      "Enter rate of interest:0.15\n",
      "Enter compound period:365\n",
      "compound_interest(100000,20,0.15,365):2007316.26\n"
     ]
    }
   ],
   "source": [
    "compound_interest()\n",
    "compound_interest()"
   ]
  },
  {
   "cell_type": "markdown",
   "id": "b4741e08",
   "metadata": {},
   "source": [
    "## 5.Write a function that takes a list of elements and returns only the integers.\n",
    "\n",
    "Examples\n",
    "\n",
    "return_only_integer([9, 2, \"space\", \"car\", \"lion\", 16]) ➞ [9, 2, 16]\n",
    "\n",
    "return_only_integer([\"hello\", 81, \"basketball\", 123, \"fox\"]) ➞ [81, 123]\n",
    "\n",
    "return_only_integer([10, \"121\", 56, 20, \"car\", 3, \"lion\"]) ➞ [10, 56, 20, 3]\n",
    "\n",
    "return_only_integer([\"String\",  True,  3.3,  1]) ➞ [1]\n"
   ]
  },
  {
   "cell_type": "code",
   "execution_count": 1,
   "id": "639d7b18",
   "metadata": {},
   "outputs": [
    {
     "name": "stdout",
     "output_type": "stream",
     "text": [
      "Enter elements in the list:[9, 2, \"space\", \"car\", \"lion\", 16]\n",
      "return_only_integer([9, 2, 'space', 'car', 'lion', 16]):[9, 2, 16]\n"
     ]
    }
   ],
   "source": [
    "def return_only_integers():\n",
    "    l = eval(input(\"Enter elements in the list:\"))\n",
    "    ans = []\n",
    "    for i in range(len(l)):\n",
    "        if type(l[i])==int:\n",
    "            ans.append(l[i])\n",
    "    print(f\"return_only_integer({l}):{ans}\")\n",
    "return_only_integers()\n",
    "\n",
    "            "
   ]
  },
  {
   "cell_type": "code",
   "execution_count": 2,
   "id": "e7120ac3",
   "metadata": {},
   "outputs": [
    {
     "name": "stdout",
     "output_type": "stream",
     "text": [
      "Enter elements in the list:[\"hello\", 81, \"basketball\", 123, \"fox\"]\n",
      "return_only_integer(['hello', 81, 'basketball', 123, 'fox']):[81, 123]\n",
      "Enter elements in the list:[10, \"121\", 56, 20, \"car\", 3, \"lion\"]\n",
      "return_only_integer([10, '121', 56, 20, 'car', 3, 'lion']):[10, 56, 20, 3]\n",
      "Enter elements in the list:[\"String\", True, 3.3, 1]\n",
      "return_only_integer(['String', True, 3.3, 1]):[1]\n"
     ]
    }
   ],
   "source": [
    "return_only_integers()\n",
    "return_only_integers()\n",
    "return_only_integers()"
   ]
  },
  {
   "cell_type": "code",
   "execution_count": null,
   "id": "43b7ff58",
   "metadata": {},
   "outputs": [],
   "source": []
  },
  {
   "cell_type": "code",
   "execution_count": null,
   "id": "cc35e7ef",
   "metadata": {},
   "outputs": [],
   "source": []
  },
  {
   "cell_type": "code",
   "execution_count": null,
   "id": "5cdadde2",
   "metadata": {},
   "outputs": [],
   "source": []
  }
 ],
 "metadata": {
  "kernelspec": {
   "display_name": "Python 3 (ipykernel)",
   "language": "python",
   "name": "python3"
  },
  "language_info": {
   "codemirror_mode": {
    "name": "ipython",
    "version": 3
   },
   "file_extension": ".py",
   "mimetype": "text/x-python",
   "name": "python",
   "nbconvert_exporter": "python",
   "pygments_lexer": "ipython3",
   "version": "3.9.13"
  }
 },
 "nbformat": 4,
 "nbformat_minor": 5
}
