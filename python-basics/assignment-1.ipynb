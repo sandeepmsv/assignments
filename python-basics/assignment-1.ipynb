{
 "cells": [
  {
   "cell_type": "markdown",
   "id": "770f7069",
   "metadata": {},
   "source": [
    "## 1.In the below elements which of them are values or an expression? eg:- values can be integer or string and expressions will be mathematical operators.\n",
    "*,\n",
    "&#39;hello&#39;,\n",
    "-87.8,\n",
    "-,\n",
    "/,\n",
    "+,\n",
    "6,\n",
    "\n"
   ]
  },
  {
   "cell_type": "markdown",
   "id": "fc429de2",
   "metadata": {},
   "source": [
    "**Ans)** \n",
    "\n",
    "**Expressions:** *,-,/,+ \n",
    "\n",
    "**Values:** 'hello',-87.8,6"
   ]
  },
  {
   "cell_type": "markdown",
   "id": "aae25460",
   "metadata": {},
   "source": [
    "## 2. What is the difference between string and variable?"
   ]
  },
  {
   "cell_type": "markdown",
   "id": "4f389bc7",
   "metadata": {},
   "source": [
    "**Ans)**\n",
    "\n",
    "**Variable:** Variable is used to store the data.\n",
    "\n",
    "**String:** String is one of the data type which stored by a variable. String is an array of characters."
   ]
  },
  {
   "cell_type": "markdown",
   "id": "b12aae7a",
   "metadata": {},
   "source": [
    "## 3. Describe three different data types."
   ]
  },
  {
   "cell_type": "markdown",
   "id": "561b3e5f",
   "metadata": {},
   "source": [
    "**Ans)**\n",
    "\n",
    "<p>\n",
    "Numeric:int, float, complex --> holds numeric values.<br>\n",
    "int: stores numerical values. ex: 123,143  <br>\n",
    "float: stores decimal values. ex: 123.45,2.12,0.34 <br>\n",
    "complex: stores complex numbers. ex: 1+3i,2+9i where i = $\\sqrt{-1}$ </p>\n",
    "<p>---------------------------------------------------------------------------</p>\n",
    "<p>String:\n",
    "String str\tholds sequence of characters. ex: \"sandeep\"</p>\n",
    "<p>---------------------------------------------------------------------------</p>\n",
    "\n",
    "<p>Sequence:\n",
    "list, tuple, range ----> holds collection of items.</p>\n",
    "<p>---------------------------------------------------------------------------</p>\n",
    "\n",
    "<p>Mapping:\n",
    "dict ----> holds data in key-value pair form.</p>\n",
    "<p>---------------------------------------------------------------------------</p>\n",
    "<p>Boolean:\n",
    "bool --> holds either True or False.</p>\n",
    "<p>---------------------------------------------------------------------------</p>\n",
    "<p>Set:\n",
    "set ---> frozeenset ----> hold collection of unique items.</p>\n",
    "\n"
   ]
  },
  {
   "cell_type": "markdown",
   "id": "6e100867",
   "metadata": {},
   "source": [
    "## 4. What is an expression made up of? What do all expressions do?"
   ]
  },
  {
   "cell_type": "markdown",
   "id": "2826bd57",
   "metadata": {},
   "source": [
    "**Ans)**\n",
    "\n",
    "<p> An expression is a set of operators and operands that together yield a different result when evaluated. </p>\n",
    "For Example:"
   ]
  },
  {
   "cell_type": "code",
   "execution_count": 26,
   "id": "c446db4f",
   "metadata": {},
   "outputs": [],
   "source": [
    "x = 10+1.3+int(\"12345667\")"
   ]
  },
  {
   "cell_type": "code",
   "execution_count": 27,
   "id": "271c5999",
   "metadata": {},
   "outputs": [
    {
     "data": {
      "text/plain": [
       "12345678.3"
      ]
     },
     "execution_count": 27,
     "metadata": {},
     "output_type": "execute_result"
    }
   ],
   "source": [
    "x\n",
    "# Here 10,1.3,12345667 are operands\n",
    "# + is operator\n",
    "# x is a variable\n"
   ]
  },
  {
   "cell_type": "markdown",
   "id": "b1b9fc9b",
   "metadata": {},
   "source": [
    "## 5. This assignment statements, like spam = 10. What is the difference between an expression and a statement?"
   ]
  },
  {
   "cell_type": "markdown",
   "id": "28617cca",
   "metadata": {},
   "source": [
    "**Ans)**\n",
    "An expression is a combination of values, variables, and operators.The interpreter evaluates it, gives the final value.\n",
    "\n",
    "eg: 4*99+85-67 is an example of a statement\n",
    "\n",
    "A statement is a unit of code that has an effect, like creating a variable or displaying a value. In general, statements don’t have values.\n",
    "\n",
    "eg: variable declaration and assignment are statements because they do not return a value"
   ]
  },
  {
   "cell_type": "markdown",
   "id": "74c5dcd2",
   "metadata": {},
   "source": [
    "## 6. After running the following code, what does the variable bacon contain?\n",
    "                                  bacon = 22\n",
    "                                  bacon + 1"
   ]
  },
  {
   "cell_type": "markdown",
   "id": "fc519d90",
   "metadata": {},
   "source": [
    "**Ans)**\n",
    "First bacon variable  assigns the value 22. bacon+1  is  a view instance that doesnot assigns +1 increment to bacon variable."
   ]
  },
  {
   "cell_type": "code",
   "execution_count": 28,
   "id": "c06f6367",
   "metadata": {},
   "outputs": [],
   "source": [
    "bacon = 22"
   ]
  },
  {
   "cell_type": "code",
   "execution_count": 29,
   "id": "02b5aeb4",
   "metadata": {},
   "outputs": [
    {
     "data": {
      "text/plain": [
       "22"
      ]
     },
     "execution_count": 29,
     "metadata": {},
     "output_type": "execute_result"
    }
   ],
   "source": [
    "bacon"
   ]
  },
  {
   "cell_type": "code",
   "execution_count": 30,
   "id": "49683f76",
   "metadata": {},
   "outputs": [
    {
     "data": {
      "text/plain": [
       "23"
      ]
     },
     "execution_count": 30,
     "metadata": {},
     "output_type": "execute_result"
    }
   ],
   "source": [
    "bacon+1"
   ]
  },
  {
   "cell_type": "markdown",
   "id": "f43daaec",
   "metadata": {},
   "source": [
    "## 7. What should the values of the following two terms be?\n",
    "**`'spam'+'spamspam'`**\n",
    "  \n",
    "**`'spam'*3`**"
   ]
  },
  {
   "cell_type": "markdown",
   "id": "f5b69b97",
   "metadata": {},
   "source": [
    "**Ans)** \n",
    "<p>'spam' + 'spamspam' ----> string concatenation gives 'spamspamspam'.</p>\n",
    "<p> 'spam'*3  ------> string multiplication gives 'spamspamspam'. </p>\n"
   ]
  },
  {
   "cell_type": "code",
   "execution_count": 31,
   "id": "e4c2de74",
   "metadata": {},
   "outputs": [
    {
     "data": {
      "text/plain": [
       "'spamspamspam'"
      ]
     },
     "execution_count": 31,
     "metadata": {},
     "output_type": "execute_result"
    }
   ],
   "source": [
    "# string concatenation\n",
    "'spam'+'spamspam'"
   ]
  },
  {
   "cell_type": "code",
   "execution_count": 32,
   "id": "240f06d2",
   "metadata": {},
   "outputs": [
    {
     "data": {
      "text/plain": [
       "'spamspamspam'"
      ]
     },
     "execution_count": 32,
     "metadata": {},
     "output_type": "execute_result"
    }
   ],
   "source": [
    "#string multiplication\n",
    "'spam'*3"
   ]
  },
  {
   "cell_type": "markdown",
   "id": "43a0307e",
   "metadata": {},
   "source": [
    "## 8. Why is eggs a valid variable name while 100 is invalid?"
   ]
  },
  {
   "cell_type": "markdown",
   "id": "a7bf1066",
   "metadata": {},
   "source": [
    "**Ans)**\n",
    "As per rule of variable declaration in python:\n",
    "Variable name only starts with alphabets and underscore.\n",
    "Here eggs starts with alphabet so, it is valid.\n",
    "Here 100 starts with numbers so, it is not valid\n"
   ]
  },
  {
   "cell_type": "markdown",
   "id": "e572d279",
   "metadata": {},
   "source": [
    "## 9. What three functions can be used to get the integer, floating-point number, or string version of a value?"
   ]
  },
  {
   "cell_type": "markdown",
   "id": "ed1135c8",
   "metadata": {},
   "source": [
    "int(), float(), and str() functions can be used to get  integer, floating-point number, and string."
   ]
  },
  {
   "cell_type": "code",
   "execution_count": 33,
   "id": "03e3f72c",
   "metadata": {},
   "outputs": [
    {
     "name": "stdout",
     "output_type": "stream",
     "text": [
      "10 10.0 10\n",
      "<class 'int'> <class 'float'> <class 'str'>\n"
     ]
    }
   ],
   "source": [
    "x = 10\n",
    "print(int(x),float(10),str(x))\n",
    "print(type(int(x)),type(float(10)),type(str(x)))"
   ]
  },
  {
   "cell_type": "markdown",
   "id": "d1e3d37a",
   "metadata": {},
   "source": [
    "## 10. Why does this expression cause an error? How can you fix it?\n",
    "`'I have eaten' + 99 +'burritos'`"
   ]
  },
  {
   "cell_type": "markdown",
   "id": "b9c3f75a",
   "metadata": {},
   "source": [
    "**Ans)**\n",
    "\n",
    "I have eaten ---> str<br>\n",
    "99 -----> int<br>\n",
    "burritos ---> str<br>\n",
    "<p>here error causes because of 99 which is a integer. In python, string concatentation occurs only when all operands are strings using '+' operator.</p>\n",
    "<p> To fix this error we have to integer 99 to string by using str function\n"
   ]
  },
  {
   "cell_type": "code",
   "execution_count": 34,
   "id": "92bddc7f",
   "metadata": {},
   "outputs": [
    {
     "ename": "TypeError",
     "evalue": "can only concatenate str (not \"int\") to str",
     "output_type": "error",
     "traceback": [
      "\u001b[1;31m---------------------------------------------------------------------------\u001b[0m",
      "\u001b[1;31mTypeError\u001b[0m                                 Traceback (most recent call last)",
      "Input \u001b[1;32mIn [34]\u001b[0m, in \u001b[0;36m<cell line: 1>\u001b[1;34m()\u001b[0m\n\u001b[1;32m----> 1\u001b[0m x \u001b[38;5;241m=\u001b[39m \u001b[38;5;124;43m'\u001b[39;49m\u001b[38;5;124;43mI have eaten\u001b[39;49m\u001b[38;5;124;43m'\u001b[39;49m\u001b[43m \u001b[49m\u001b[38;5;241;43m+\u001b[39;49m\u001b[43m \u001b[49m\u001b[38;5;241;43m99\u001b[39;49m \u001b[38;5;241m+\u001b[39m\u001b[38;5;124m'\u001b[39m\u001b[38;5;124mburritos\u001b[39m\u001b[38;5;124m'\u001b[39m\n",
      "\u001b[1;31mTypeError\u001b[0m: can only concatenate str (not \"int\") to str"
     ]
    }
   ],
   "source": [
    "x = 'I have eaten' + 99 +'burritos'"
   ]
  },
  {
   "cell_type": "code",
   "execution_count": 35,
   "id": "0198cd10",
   "metadata": {},
   "outputs": [
    {
     "name": "stdout",
     "output_type": "stream",
     "text": [
      "I have eaten99burritos\n"
     ]
    }
   ],
   "source": [
    "x = 'I have eaten' + str(99) +'burritos'\n",
    "print(x)"
   ]
  },
  {
   "cell_type": "code",
   "execution_count": null,
   "id": "e3576888",
   "metadata": {},
   "outputs": [],
   "source": []
  }
 ],
 "metadata": {
  "kernelspec": {
   "display_name": "Python 3 (ipykernel)",
   "language": "python",
   "name": "python3"
  },
  "language_info": {
   "codemirror_mode": {
    "name": "ipython",
    "version": 3
   },
   "file_extension": ".py",
   "mimetype": "text/x-python",
   "name": "python",
   "nbconvert_exporter": "python",
   "pygments_lexer": "ipython3",
   "version": "3.9.12"
  }
 },
 "nbformat": 4,
 "nbformat_minor": 5
}
