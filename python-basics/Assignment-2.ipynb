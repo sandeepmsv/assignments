{
 "cells": [
  {
   "cell_type": "markdown",
   "id": "42063601",
   "metadata": {},
   "source": [
    "## 1.What are the two values of the Boolean data type? How do you write them?"
   ]
  },
  {
   "cell_type": "markdown",
   "id": "fc3537c9",
   "metadata": {},
   "source": [
    "**Ans)** \n",
    "<font size=\"3\"><p>we have two boolean values they are True and False. We can also represent True and False as 0 and 1(These are integers).True and False are reserved keywords we can't use them as variable anywhere in the program.</p></font>\n",
    "\n",
    "<font size=\"3\"><p> T and F are capital letter remaining all are small letters</p></font>\n",
    "\n",
    "<font size = \"3\">For example:<font>\n",
    "\n",
    "\n",
    "\n"
   ]
  },
  {
   "cell_type": "code",
   "execution_count": 2,
   "id": "6a8fedf3",
   "metadata": {},
   "outputs": [
    {
     "name": "stdout",
     "output_type": "stream",
     "text": [
      "<class 'bool'>\n",
      "<class 'bool'>\n"
     ]
    }
   ],
   "source": [
    "print(type(True))\n",
    "print(type(False))"
   ]
  },
  {
   "cell_type": "markdown",
   "id": "c66ce25e",
   "metadata": {},
   "source": [
    "## 2. What are the three different types of Boolean operators?"
   ]
  },
  {
   "cell_type": "markdown",
   "id": "93cd2df2",
   "metadata": {},
   "source": [
    "**Ans)**\n",
    "<font size=\"3\">We have three Boolean operators they are: `AND`,`OR`,`NOT`</font>"
   ]
  },
  {
   "cell_type": "markdown",
   "id": "f274553e",
   "metadata": {},
   "source": [
    "## 3. Make a list of each Boolean operator's truth tables (i.e. every possible combination of Boolean values for the operator and what it evaluate )."
   ]
  },
  {
   "cell_type": "markdown",
   "id": "508dddc1",
   "metadata": {},
   "source": [
    "| **A**     | **B**     | **A and B** | **A or B** | **not A** | **not B** |\n",
    "|-------|-------|---------|--------|-------|-------|\n",
    "| True  | True  | True    | True   | False | False |\n",
    "| True  | False | False   | True   | False | True  |\n",
    "| False | True  | False   | True   | True  | False |\n",
    "| False | False | False   | False  | True  | True  |"
   ]
  },
  {
   "cell_type": "markdown",
   "id": "ef3b95a4",
   "metadata": {},
   "source": [
    "## 4. What are the values of the following expressions?\n",
    "a)`(5 >4) and (3 == 5)`<br>\n",
    "b)`not (5 > 4)`<br>\n",
    "c)`(5 >4) or (3 == 5)`<br>\n",
    "d)`not ((5 > 4) or (3 == 5))`<br>\n",
    "e)`(True and True) and (True == False)`<br>\n",
    "f)`(not False) or (not True)`<br>"
   ]
  },
  {
   "cell_type": "markdown",
   "id": "49abb40d",
   "metadata": {},
   "source": [
    "**Ans)**<br>\n",
    "<font size=\"3\">a)False </font> <br>\n",
    "<font size=\"3\">b)False</font> <br>\n",
    "<font size=\"3\">c)True</font> <br>\n",
    "<font size=\"3\">d)False</font> <br>\n",
    "<font size=\"3\">e)False</font> <br>\n",
    "<font size=\"3\">f)True</font> <br>"
   ]
  },
  {
   "cell_type": "code",
   "execution_count": 4,
   "id": "06165c57",
   "metadata": {},
   "outputs": [
    {
     "name": "stdout",
     "output_type": "stream",
     "text": [
      "False\n",
      "False\n",
      "True\n",
      "False\n",
      "False\n",
      "True\n"
     ]
    }
   ],
   "source": [
    "# (True) and (False)--->False\n",
    "print((5 >4) and (3 == 5))\n",
    "\n",
    "# not(True)----->False\n",
    "print(not (5 > 4))\n",
    "\n",
    "#(True) or (False) ---->True\n",
    "print((5 >4) or (3 == 5))\n",
    "\n",
    "# not((True) or (False))--->not(True)--->False\n",
    "print(not ((5 > 4) or (3 == 5)))\n",
    "\n",
    "# (True) and (False) ---> False\n",
    "print((True and True) and (True == False))\n",
    "\n",
    "# (not False) or (not True) ---> (True) or (False) ----> True\n",
    "print((not False) or (not True))"
   ]
  },
  {
   "cell_type": "markdown",
   "id": "74d2e4fa",
   "metadata": {},
   "source": [
    "## 5. What are the six comparison operators?"
   ]
  },
  {
   "cell_type": "markdown",
   "id": "8c328599",
   "metadata": {},
   "source": [
    "<font size=\"5\">**Six Comparison Operator** </font><br>\n",
    "\n",
    "<font size=\"3\">1. `>=` Greater than or equal to </font> <br>\n",
    "<font size=\"3\">2. `<=` Less than or equal to </font> <br>\n",
    "<font size=\"3\">3. `<` Less than </font> <br>\n",
    "<font size=\"3\">4. `>` Greater than </font> <br>\n",
    "<font size=\"3\">5. `==` equal to </font> <br>\n",
    "<font size=\"3\">6. `!=` not equal to</font> <br>"
   ]
  },
  {
   "cell_type": "markdown",
   "id": "644fe056",
   "metadata": {},
   "source": [
    "## 6. How do you tell the difference between the equal to and assignment operators?Describe a condition and when you would use one."
   ]
  },
  {
   "cell_type": "markdown",
   "id": "15d6c72b",
   "metadata": {},
   "source": [
    "<font size =\"3\">==\" is a comparision operator which checks whether the two given operands are equal or not and gives the boolean value. and “=” is an assignment operator is used to assign the value on the right to the variable on the left.</font>"
   ]
  },
  {
   "cell_type": "code",
   "execution_count": 5,
   "id": "8110ec0c",
   "metadata": {},
   "outputs": [
    {
     "name": "stdout",
     "output_type": "stream",
     "text": [
      "True\n",
      "80\n"
     ]
    }
   ],
   "source": [
    "x=80\n",
    "if x==80:\n",
    "    print(x==80) # prints True.\n",
    "    print(x) # prints assigned value true"
   ]
  },
  {
   "cell_type": "markdown",
   "id": "4d1e769a",
   "metadata": {},
   "source": [
    "## 7. Identify the three blocks in this code:\n",
    "<font size=\"3\">spam = 0<br>\n",
    "if spam == 10:<br>\n",
    "print('eggs')<br>\n",
    "if spam > 5:<br>\n",
    "print('bacon')<br>\n",
    "else:<br>\n",
    "print('ham')<br>\n",
    "print('spam')<br>\n",
    "print('spam')<br> </font>"
   ]
  },
  {
   "cell_type": "markdown",
   "id": "b45ac684",
   "metadata": {},
   "source": [
    "**Ans)** we have three blocks\n",
    "* if spam==10 is block-1\n",
    "* if spam>5 is block-2\n",
    "* else: is block-3"
   ]
  },
  {
   "cell_type": "code",
   "execution_count": 9,
   "id": "78816c58",
   "metadata": {},
   "outputs": [
    {
     "name": "stdout",
     "output_type": "stream",
     "text": [
      "ham\n",
      "spam\n",
      "spam\n"
     ]
    }
   ],
   "source": [
    "spam = 0\n",
    "if spam == 10:# block-1\n",
    "    print('eggs')\n",
    "if spam > 5: # block-2\n",
    "    print('bacon')\n",
    "else: #block-3\n",
    "    print('ham')\n",
    "    print('spam')\n",
    "    print('spam')"
   ]
  },
  {
   "cell_type": "markdown",
   "id": "dc5d0bb8",
   "metadata": {},
   "source": [
    "## 8. Write code that prints Hello if 1 is stored in spam, prints Howdy if 2 is stored in spam, and prints Greetings! if anything else is stored in spam."
   ]
  },
  {
   "cell_type": "code",
   "execution_count": 1,
   "id": "aed6f0c8",
   "metadata": {},
   "outputs": [
    {
     "name": "stdout",
     "output_type": "stream",
     "text": [
      "if you want to end the process please enter any character  else enter number\n",
      "1\n",
      "Hello\n",
      "if you want to end the process please enter any character  else enter number\n",
      "2\n",
      "spam\n",
      "if you want to end the process please enter any character  else enter number\n",
      "3\n",
      "Greeting\n",
      "if you want to end the process please enter any character  else enter number\n",
      "45\n",
      "Greeting\n",
      "if you want to end the process please enter any character  else enter number\n",
      "55\n",
      "Greeting\n",
      "if you want to end the process please enter any character  else enter number\n",
      "stop\n",
      "program stopped\n"
     ]
    }
   ],
   "source": [
    "while(1):\n",
    "    print(\"if you want to end the process please enter any character  else enter number\")\n",
    "    spam = input()\n",
    "    if spam.isnumeric():\n",
    "        if int(spam)==1:\n",
    "            print(\"Hello\")\n",
    "        elif int(spam)==2:\n",
    "            print(\"spam\")\n",
    "        else:\n",
    "            print(\"Greeting\")\n",
    "    else:\n",
    "        print(\"program stopped\")\n",
    "        break\n",
    "    "
   ]
  },
  {
   "cell_type": "markdown",
   "id": "5203067d",
   "metadata": {},
   "source": [
    "## 9.If your programme is stuck in an endless loop, what keys you’ll press?"
   ]
  },
  {
   "cell_type": "markdown",
   "id": "57ecb0db",
   "metadata": {},
   "source": [
    " **Ans)** <font size=\"3\">I will press \"CTRL+C\" when my programme is stuck in an endledd loop. </font>"
   ]
  },
  {
   "cell_type": "markdown",
   "id": "588c3a7a",
   "metadata": {},
   "source": [
    "## 10. How can you tell the difference between break and continue?"
   ]
  },
  {
   "cell_type": "markdown",
   "id": "74837c31",
   "metadata": {},
   "source": [
    "**Ans)**\n",
    "\n",
    "<font size=\"3\"> In break statement it will completly gets out of the loop and gets starts executing outside of the loop. </font> <br>\n",
    "<font size=\"3\"> In continue statement it comes out for that instance and again starts executes from staring of that loop.<font><br>\n",
    "For  example:"
   ]
  },
  {
   "cell_type": "code",
   "execution_count": 7,
   "id": "1ffdf892",
   "metadata": {},
   "outputs": [
    {
     "name": "stdout",
     "output_type": "stream",
     "text": [
      "0 0\n",
      "0 1\n",
      "0 2\n",
      "1 0\n",
      "1 1\n",
      "2 0\n",
      "2 1\n"
     ]
    }
   ],
   "source": [
    "for i in range(3): # 1st loop\n",
    "    for j in range(3): # 2nd loop\n",
    "        if i==2 and j==2: # it will comes outside of 2nd loop start executing outside of the loop\n",
    "            continue\n",
    "        elif i==1 and j==2: # it will again go to 2nd loop\n",
    "            continue\n",
    "        else:\n",
    "            print(i,j)\n",
    "        "
   ]
  },
  {
   "cell_type": "markdown",
   "id": "76675050",
   "metadata": {},
   "source": [
    "## 11. In a for loop, what is the difference between range(10), range(0, 10), and range(0, 10, 1)?"
   ]
  },
  {
   "cell_type": "markdown",
   "id": "ba9686fe",
   "metadata": {},
   "source": [
    "**Ans)**\n",
    "\n",
    "<font size=\"3\">range(10) ---> ranges from 0 to 9.</font><br>\n",
    "<font size=\"3\">range(0,10) ---> it explicitly tells range starting from 0 upto 9.</font><br>\n",
    "<font size=\"3\">range(0,10,1) ----> it explicitly tells range starting from 0  upto 9 with step 1.</font><br>"
   ]
  },
  {
   "cell_type": "code",
   "execution_count": 12,
   "id": "6126aaba",
   "metadata": {},
   "outputs": [
    {
     "name": "stdout",
     "output_type": "stream",
     "text": [
      "It prints range(10):\n",
      "0 1 2 3 4 5 6 7 8 9 \n",
      "It prints range(0,10):\n",
      "0 1 2 3 4 5 6 7 8 9 \n",
      "It prints range(0,10,1):\n",
      "0 1 2 3 4 5 6 7 8 9 "
     ]
    }
   ],
   "source": [
    "print(\"It prints range(10):\")\n",
    "for i in range(10):\n",
    "    print(i,end = \" \")\n",
    "print()\n",
    "\n",
    "print(\"It prints range(0,10):\")\n",
    "for j in range(0,10):\n",
    "    print(j,end=\" \")\n",
    "print()\n",
    "\n",
    "print(\"It prints range(0,10,1):\")\n",
    "for k in range(0,10,1):\n",
    "    print(k,end=\" \")"
   ]
  },
  {
   "cell_type": "markdown",
   "id": "631e533c",
   "metadata": {},
   "source": [
    "## 12. Write a short program that prints the numbers 1 to 10 using a for loop. Then write an equivalent program that prints the numbers 1 to 10 using a while loop."
   ]
  },
  {
   "cell_type": "code",
   "execution_count": 13,
   "id": "4fda0c11",
   "metadata": {},
   "outputs": [
    {
     "name": "stdout",
     "output_type": "stream",
     "text": [
      "Printing 1 to 10 numbers using for loop\n",
      "1 2 3 4 5 6 7 8 9 10 \n",
      "Printing 1 to 10 numbers using while loop\n",
      "1 2 3 4 5 6 7 8 9 10 "
     ]
    }
   ],
   "source": [
    "# using for loop to print numbers from 1 to 10\n",
    "print(\"Printing 1 to 10 numbers using for loop\")\n",
    "for i in range(1,11):\n",
    "    print(i,end=\" \")\n",
    "print()\n",
    "\n",
    "# using while to print numbers from 1 to 10\n",
    "print(\"Printing 1 to 10 numbers using while loop\")\n",
    "k = 1\n",
    "while(k<=10):\n",
    "    print(k,end=\" \")\n",
    "    k+=1\n",
    "\n"
   ]
  },
  {
   "cell_type": "markdown",
   "id": "2cff401f",
   "metadata": {},
   "source": [
    "## 13.If you had a function named bacon() inside a module named spam, how would you call it after importing spam?"
   ]
  },
  {
   "cell_type": "markdown",
   "id": "23d7d579",
   "metadata": {},
   "source": [
    "**Ans)** <font size=\"3\"> spam.bacon() </font>"
   ]
  },
  {
   "cell_type": "code",
   "execution_count": null,
   "id": "2226bcf2",
   "metadata": {},
   "outputs": [],
   "source": []
  }
 ],
 "metadata": {
  "kernelspec": {
   "display_name": "Python 3 (ipykernel)",
   "language": "python",
   "name": "python3"
  },
  "language_info": {
   "codemirror_mode": {
    "name": "ipython",
    "version": 3
   },
   "file_extension": ".py",
   "mimetype": "text/x-python",
   "name": "python",
   "nbconvert_exporter": "python",
   "pygments_lexer": "ipython3",
   "version": "3.9.12"
  }
 },
 "nbformat": 4,
 "nbformat_minor": 5
}
